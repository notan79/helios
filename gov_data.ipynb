{
 "cells": [
  {
   "cell_type": "code",
   "execution_count": 2,
   "id": "418a83d5-66c1-46da-8372-844e484f1278",
   "metadata": {},
   "outputs": [],
   "source": [
    "import os\n",
    "import requests\n",
    "import json\n",
    "import pandas as pd\n",
    "import difflib"
   ]
  },
  {
   "cell_type": "code",
   "execution_count": 61,
   "id": "a27a7bce-038c-407d-bed2-7dfc5efaba91",
   "metadata": {},
   "outputs": [],
   "source": [
    "base_url = 'https://api.data.gov/ed/collegescorecard/v1/'\n",
    "data_set = 'schools.json?'\n",
    "fields = ['school.name', \n",
    "          'school.address',\n",
    "          'location.lat',\n",
    "          'location.lon',\n",
    "          'latest.school.operating',\n",
    "          'latest.admissions.admission_rate.overall',\n",
    "          'latest.student.size',\n",
    "          'latest.student.demographics.men',\n",
    "          'latest.student.demographics.women',\n",
    "          'latest.cost.tuition.in_state',\n",
    "          'latest.cost.tuition.out_of_state',\n",
    "          'latest.cost.attendance.academic_year',\n",
    "          'latest.cost.attendance.program_year',\n",
    "          'latest.student.demographics.race_ethnicity.white',\n",
    "          'latest.student.demographics.race_ethnicity.black',\n",
    "          'latest.student.demographics.race_ethnicity.hispanic',\n",
    "          'latest.student.demographics.race_ethnicity.asian',\n",
    "          'latest.student.demographics.race_ethnicity.aian',\n",
    "          'latest.student.demographics.race_ethnicity.nhpi',\n",
    "          'latest.student.demographics.race_ethnicity.unknown',\n",
    "          'latest.student.retention_rate',\n",
    "          'latest.admissions.sat_scores.average.overall',\n",
    "          'latest.admissions.act_scores.midpoint.cumulative',\n",
    "          'latest.academics.program_percentage',\n",
    "          'latest.academics.program.assoc',\n",
    "          'latest.earnings.1_yr_after_completion.median',\n",
    "          'latest.earnings.4_yrs_after_completion.median'\n",
    "         ]\n",
    "cred_level = [\n",
    "                'latest.programs.cip_4_digit.credential.level', # causes error sometimes 24\n",
    "                'latest.programs.cip_4_digit.title'  # causes error sometimes 25\n",
    "            ]\n",
    "\n",
    "options = '&per_page=100&page=65&sort=school.name' # repeat with increasing the page count until you get empty results\n",
    "api_key = '&api_key='\n",
    "\n",
    "request_url = base_url + data_set + '&fields=' + ','.join(fields) + options + api_key\n"
   ]
  },
  {
   "cell_type": "code",
   "execution_count": 62,
   "id": "83069074-aaf9-4ff5-a0a3-e3c862eaf2c3",
   "metadata": {},
   "outputs": [
    {
     "name": "stdout",
     "output_type": "stream",
     "text": [
      "0\n",
      "5\n",
      "10\n",
      "15\n",
      "20\n",
      "25\n",
      "30\n",
      "35\n",
      "40\n",
      "45\n",
      "50\n",
      "55\n",
      "60\n",
      "65\n",
      "70\n",
      "75\n",
      "80\n",
      "85\n",
      "90\n",
      "95\n",
      "100\n",
      "105\n",
      "110\n",
      "115\n",
      "120\n",
      "125\n",
      "130\n",
      "135\n",
      "140\n",
      "145\n",
      "150\n",
      "155\n",
      "160\n",
      "165\n",
      "170\n",
      "175\n",
      "180\n",
      "185\n",
      "190\n",
      "195\n",
      "200\n",
      "205\n",
      "210\n",
      "215\n",
      "220\n",
      "225\n",
      "230\n",
      "235\n",
      "240\n",
      "245\n",
      "250\n",
      "255\n",
      "260\n",
      "265\n",
      "270\n",
      "275\n",
      "280\n",
      "285\n",
      "290\n",
      "295\n",
      "300\n",
      "305\n",
      "310\n",
      "315\n",
      "320\n",
      "325\n",
      "330\n",
      "335\n",
      "340\n",
      "345\n",
      "350\n",
      "355\n",
      "360\n",
      "365\n",
      "370\n",
      "375\n",
      "380\n",
      "385\n",
      "390\n",
      "395\n",
      "400\n",
      "405\n",
      "410\n",
      "415\n",
      "420\n",
      "425\n",
      "430\n",
      "435\n",
      "440\n",
      "445\n",
      "450\n",
      "455\n",
      "460\n",
      "465\n",
      "470\n",
      "475\n",
      "480\n",
      "485\n",
      "490\n",
      "495\n",
      "500\n",
      "505\n",
      "510\n",
      "515\n",
      "520\n",
      "525\n",
      "530\n",
      "535\n",
      "540\n",
      "545\n",
      "550\n",
      "555\n",
      "560\n",
      "565\n",
      "570\n",
      "575\n",
      "580\n",
      "585\n",
      "590\n",
      "595\n",
      "600\n",
      "605\n",
      "610\n",
      "615\n",
      "620\n",
      "625\n",
      "630\n",
      "635\n",
      "640\n",
      "645\n",
      "650\n",
      "655\n"
     ]
    }
   ],
   "source": [
    "colleges_dict = {}\n",
    "error_list = []\n",
    "for page in range(6600//10,): # 66 when doing 100 per page, 6543 total colleges 6544/2\n",
    "    if page % 5 == 0:\n",
    "        print(page)\n",
    "    options = '&per_page=10&page=' + str(page) + '&sort=school.name'\n",
    "    request_url = base_url + data_set + '&fields=' + ','.join(fields+cred_level) + options + api_key\n",
    "    data = None\n",
    "    try:\n",
    "        data = requests.get(request_url).json()\n",
    "    except:\n",
    "        print('502 Error')\n",
    "        request_url = base_url + data_set + '&fields=' + ','.join(fields) + options + api_key\n",
    "        data = requests.get(request_url).json()\n",
    "        error_list.append(data)\n",
    "\n",
    "    \n",
    "    for college in data['results']:\n",
    "        try:\n",
    "            colleges_dict[college['school.name']] = college\n",
    "        except Exception as e:\n",
    "            print(e)\n",
    "            pass"
   ]
  },
  {
   "cell_type": "code",
   "execution_count": 63,
   "id": "1d9c1b3b-f431-4992-a311-40e4dd4ff807",
   "metadata": {},
   "outputs": [
    {
     "data": {
      "text/plain": [
       "{'metadata': {'page': 659, 'total': 6543, 'per_page': 10}, 'results': []}"
      ]
     },
     "execution_count": 63,
     "metadata": {},
     "output_type": "execute_result"
    }
   ],
   "source": [
    "data"
   ]
  },
  {
   "cell_type": "code",
   "execution_count": 59,
   "id": "6ec45e43-9cfa-4086-b5f7-010cf2738813",
   "metadata": {},
   "outputs": [
    {
     "data": {
      "text/plain": [
       "{'latest.school.operating': 1,\n",
       " 'latest.admissions.admission_rate.overall': 0.0874,\n",
       " 'latest.student.size': 1971,\n",
       " 'latest.student.demographics.men': 0.4855,\n",
       " 'latest.student.demographics.women': 0.5145,\n",
       " 'latest.cost.tuition.in_state': 61150,\n",
       " 'latest.cost.tuition.out_of_state': 61150,\n",
       " 'latest.cost.attendance.academic_year': 77411,\n",
       " 'latest.cost.attendance.program_year': None,\n",
       " 'latest.student.demographics.race_ethnicity.white': 0.3876,\n",
       " 'latest.student.demographics.race_ethnicity.black': 0.103,\n",
       " 'latest.student.demographics.race_ethnicity.hispanic': 0.1542,\n",
       " 'latest.student.demographics.race_ethnicity.asian': 0.1517,\n",
       " 'latest.student.demographics.race_ethnicity.aian': 0.0025,\n",
       " 'latest.student.demographics.race_ethnicity.nhpi': 0.002,\n",
       " 'latest.student.demographics.race_ethnicity.unknown': 0.0203,\n",
       " 'latest.admissions.sat_scores.average.overall': 1469,\n",
       " 'latest.admissions.act_scores.midpoint.cumulative': 33,\n",
       " 'latest.earnings.1_yr_after_completion.median': 43914,\n",
       " 'latest.earnings.4_yrs_after_completion.median': 70140,\n",
       " 'latest.student.retention_rate.four_year.full_time': 0.9793,\n",
       " 'latest.student.retention_rate.lt_four_year.full_time': None,\n",
       " 'latest.student.retention_rate.four_year.part_time': None,\n",
       " 'latest.student.retention_rate.lt_four_year.part_time': None,\n",
       " 'latest.student.retention_rate.four_year.full_time_pooled': 0.9458,\n",
       " 'latest.student.retention_rate.lt_four_year.full_time_pooled': None,\n",
       " 'latest.student.retention_rate.four_year.part_time_pooled': None,\n",
       " 'latest.student.retention_rate.lt_four_year.part_time_pooled': None,\n",
       " 'latest.student.retention_rate.cohort.four_year.full_time_pooled': 904,\n",
       " 'latest.student.retention_rate.cohort.lt_four_year.full_time_pooled': None,\n",
       " 'latest.student.retention_rate.cohort.four_year.part_time_pooled': None,\n",
       " 'latest.student.retention_rate.cohort.lt_four_year.part_time_pooled': None,\n",
       " 'latest.student.retention_rate.pooled_yrs_used.full_time': 2,\n",
       " 'latest.student.retention_rate.pooled_yrs_used.part_time': None,\n",
       " 'latest.student.retention_rate_suppressed.four_year.full_time_pooled': 0.9458,\n",
       " 'latest.student.retention_rate_suppressed.lt_four_year.full_time_pooled': None,\n",
       " 'latest.student.retention_rate_suppressed.four_year.part_time_pooled': None,\n",
       " 'latest.student.retention_rate_suppressed.lt_four_year.part_time_pooled': None,\n",
       " 'latest.student.retention_rate.overall.full_time': 0.9793,\n",
       " 'latest.academics.program_percentage.agriculture': 0,\n",
       " 'latest.academics.program_percentage.resources': 0.0253,\n",
       " 'latest.academics.program_percentage.architecture': 0.0051,\n",
       " 'latest.academics.program_percentage.ethnic_cultural_gender': 0.043,\n",
       " 'latest.academics.program_percentage.communication': 0,\n",
       " 'latest.academics.program_percentage.communications_technology': 0,\n",
       " 'latest.academics.program_percentage.computer': 0.0759,\n",
       " 'latest.academics.program_percentage.personal_culinary': 0,\n",
       " 'latest.academics.program_percentage.education': 0,\n",
       " 'latest.academics.program_percentage.engineering': 0,\n",
       " 'latest.academics.program_percentage.engineering_technology': 0,\n",
       " 'latest.academics.program_percentage.language': 0.0329,\n",
       " 'latest.academics.program_percentage.family_consumer_science': 0,\n",
       " 'latest.academics.program_percentage.legal': 0.0481,\n",
       " 'latest.academics.program_percentage.english': 0.0456,\n",
       " 'latest.academics.program_percentage.humanities': 0,\n",
       " 'latest.academics.program_percentage.library': 0,\n",
       " 'latest.academics.program_percentage.biological': 0.1392,\n",
       " 'latest.academics.program_percentage.mathematics': 0.1367,\n",
       " 'latest.academics.program_percentage.military': 0,\n",
       " 'latest.academics.program_percentage.multidiscipline': 0.0025,\n",
       " 'latest.academics.program_percentage.parks_recreation_fitness': 0,\n",
       " 'latest.academics.program_percentage.philosophy_religious': 0.0127,\n",
       " 'latest.academics.program_percentage.theology_religious_vocation': 0,\n",
       " 'latest.academics.program_percentage.physical_science': 0.0684,\n",
       " 'latest.academics.program_percentage.science_technology': 0,\n",
       " 'latest.academics.program_percentage.psychology': 0.0785,\n",
       " 'latest.academics.program_percentage.security_law_enforcement': 0,\n",
       " 'latest.academics.program_percentage.public_administration_social_service': 0,\n",
       " 'latest.academics.program_percentage.social_science': 0.1975,\n",
       " 'latest.academics.program_percentage.construction': 0,\n",
       " 'latest.academics.program_percentage.mechanic_repair_technology': 0,\n",
       " 'latest.academics.program_percentage.precision_production': 0,\n",
       " 'latest.academics.program_percentage.transportation': 0,\n",
       " 'latest.academics.program_percentage.visual_performing': 0.0329,\n",
       " 'latest.academics.program_percentage.health': 0,\n",
       " 'latest.academics.program_percentage.business_marketing': 0,\n",
       " 'latest.academics.program_percentage.history': 0.0557,\n",
       " 'latest.academics.program.assoc.agriculture': 0,\n",
       " 'latest.academics.program.assoc.resources': 0,\n",
       " 'latest.academics.program.assoc.architecture': 0,\n",
       " 'latest.academics.program.assoc.ethnic_cultural_gender': 0,\n",
       " 'latest.academics.program.assoc.communication': 0,\n",
       " 'latest.academics.program.assoc.communications_technology': 0,\n",
       " 'latest.academics.program.assoc.computer': 0,\n",
       " 'latest.academics.program.assoc.personal_culinary': 0,\n",
       " 'latest.academics.program.assoc.education': 0,\n",
       " 'latest.academics.program.assoc.engineering': 0,\n",
       " 'latest.academics.program.assoc.engineering_technology': 0,\n",
       " 'latest.academics.program.assoc.language': 0,\n",
       " 'latest.academics.program.assoc.family_consumer_science': 0,\n",
       " 'latest.academics.program.assoc.legal': 0,\n",
       " 'latest.academics.program.assoc.english': 0,\n",
       " 'latest.academics.program.assoc.humanities': 0,\n",
       " 'latest.academics.program.assoc.library': 0,\n",
       " 'latest.academics.program.assoc.biological': 0,\n",
       " 'latest.academics.program.assoc.mathematics': 0,\n",
       " 'latest.academics.program.assoc.military': 0,\n",
       " 'latest.academics.program.assoc.multidiscipline': 0,\n",
       " 'latest.academics.program.assoc.parks_recreation_fitness': 0,\n",
       " 'latest.academics.program.assoc.philosophy_religious': 0,\n",
       " 'latest.academics.program.assoc.theology_religious_vocation': 0,\n",
       " 'latest.academics.program.assoc.physical_science': 0,\n",
       " 'latest.academics.program.assoc.science_technology': 0,\n",
       " 'latest.academics.program.assoc.psychology': 0,\n",
       " 'latest.academics.program.assoc.security_law_enforcement': 0,\n",
       " 'latest.academics.program.assoc.public_administration_social_service': 0,\n",
       " 'latest.academics.program.assoc.social_science': 0,\n",
       " 'latest.academics.program.assoc.construction': 0,\n",
       " 'latest.academics.program.assoc.mechanic_repair_technology': 0,\n",
       " 'latest.academics.program.assoc.precision_production': 0,\n",
       " 'latest.academics.program.assoc.transportation': 0,\n",
       " 'latest.academics.program.assoc.visual_performing': 0,\n",
       " 'latest.academics.program.assoc.health': 0,\n",
       " 'latest.academics.program.assoc.business_marketing': 0,\n",
       " 'latest.academics.program.assoc.history': 0,\n",
       " 'latest.programs.cip_4_digit': [{'title': 'Natural Resources Conservation and Research.',\n",
       "   'credential': {'level': 3}},\n",
       "  {'title': 'Architectural History and Criticism.',\n",
       "   'credential': {'level': 3}},\n",
       "  {'title': 'Area Studies.', 'credential': {'level': 3}},\n",
       "  {'title': 'Ethnic, Cultural Minority, Gender, and Group Studies.',\n",
       "   'credential': {'level': 3}},\n",
       "  {'title': 'Computer Science.', 'credential': {'level': 3}},\n",
       "  {'title': 'Slavic, Baltic and Albanian Languages, Literatures, and Linguistics.',\n",
       "   'credential': {'level': 3}},\n",
       "  {'title': 'Germanic Languages, Literatures, and Linguistics.',\n",
       "   'credential': {'level': 3}},\n",
       "  {'title': 'Romance Languages, Literatures, and Linguistics.',\n",
       "   'credential': {'level': 3}},\n",
       "  {'title': 'Classics and Classical Languages, Literatures, and Linguistics.',\n",
       "   'credential': {'level': 3}},\n",
       "  {'title': 'Legal Research and Advanced Professional Studies.',\n",
       "   'credential': {'level': 3}},\n",
       "  {'title': 'English Language and Literature, General.',\n",
       "   'credential': {'level': 3}},\n",
       "  {'title': 'Biology, General.', 'credential': {'level': 3}},\n",
       "  {'title': 'Biochemistry, Biophysics and Molecular Biology.',\n",
       "   'credential': {'level': 3}},\n",
       "  {'title': 'Neurobiology and Neurosciences.', 'credential': {'level': 3}},\n",
       "  {'title': 'Mathematics.', 'credential': {'level': 3}},\n",
       "  {'title': 'Statistics.', 'credential': {'level': 3}},\n",
       "  {'title': 'Multi/Interdisciplinary Studies, Other.',\n",
       "   'credential': {'level': 3}},\n",
       "  {'title': 'Philosophy.', 'credential': {'level': 3}},\n",
       "  {'title': 'Religion/Religious Studies.', 'credential': {'level': 3}},\n",
       "  {'title': 'Astronomy and Astrophysics.', 'credential': {'level': 3}},\n",
       "  {'title': 'Chemistry.', 'credential': {'level': 3}},\n",
       "  {'title': 'Geological and Earth Sciences/Geosciences.',\n",
       "   'credential': {'level': 3}},\n",
       "  {'title': 'Physics.', 'credential': {'level': 3}},\n",
       "  {'title': 'Psychology, General.', 'credential': {'level': 3}},\n",
       "  {'title': 'Research and Experimental Psychology.',\n",
       "   'credential': {'level': 3}},\n",
       "  {'title': 'Social Sciences, General.', 'credential': {'level': 3}},\n",
       "  {'title': 'Anthropology.', 'credential': {'level': 3}},\n",
       "  {'title': 'Economics.', 'credential': {'level': 3}},\n",
       "  {'title': 'Political Science and Government.', 'credential': {'level': 3}},\n",
       "  {'title': 'Sociology.', 'credential': {'level': 3}},\n",
       "  {'title': 'Drama/Theatre Arts and Stagecraft.', 'credential': {'level': 3}},\n",
       "  {'title': 'Film/Video and Photographic Arts.', 'credential': {'level': 3}},\n",
       "  {'title': 'Fine and Studio Arts.', 'credential': {'level': 3}},\n",
       "  {'title': 'Music.', 'credential': {'level': 3}},\n",
       "  {'title': 'History.', 'credential': {'level': 3}}],\n",
       " 'school.name': 'Amherst College',\n",
       " 'school.address': 'Boltwood Avenue',\n",
       " 'location.lat': 42.372459,\n",
       " 'location.lon': -72.518493}"
      ]
     },
     "execution_count": 59,
     "metadata": {},
     "output_type": "execute_result"
    }
   ],
   "source": [
    "colleges_dict['Amherst College']"
   ]
  },
  {
   "cell_type": "code",
   "execution_count": 67,
   "id": "58c632df-6eff-430b-a211-eb783ed2c68e",
   "metadata": {},
   "outputs": [
    {
     "data": {
      "text/plain": [
       "latest.school.operating                                                                     1\n",
       "latest.admissions.admission_rate.overall                                               0.8727\n",
       "latest.student.size                                                                   36560.0\n",
       "latest.student.demographics.men                                                        0.4398\n",
       "latest.student.demographics.women                                                      0.5602\n",
       "                                                                  ...                        \n",
       "latest.programs.cip_4_digit                 [{'title': 'Agriculture, General.', 'credentia...\n",
       "school.name                                                             University of Arizona\n",
       "school.address                                                         1401 E University Blvd\n",
       "location.lat                                                                        32.232672\n",
       "location.lon                                                                      -110.950815\n",
       "Name: University of Arizona, Length: 120, dtype: object"
      ]
     },
     "execution_count": 67,
     "metadata": {},
     "output_type": "execute_result"
    }
   ],
   "source": [
    "data_frame = pd.DataFrame.from_dict(colleges_dict,orient='index')\n",
    "data_frame.loc['University of Arizona']"
   ]
  },
  {
   "cell_type": "code",
   "execution_count": 69,
   "id": "4c0d74aa-bf2c-467c-ac43-5482983eb76f",
   "metadata": {},
   "outputs": [],
   "source": [
    "data_frame.to_csv('gov_data_all.csv', index = True, index_label = True)"
   ]
  },
  {
   "cell_type": "code",
   "execution_count": 42,
   "id": "4d36b95e-f903-45f6-8029-749e3902b191",
   "metadata": {},
   "outputs": [
    {
     "data": {
      "text/plain": [
       "[]"
      ]
     },
     "execution_count": 42,
     "metadata": {},
     "output_type": "execute_result"
    }
   ],
   "source": [
    "error_list"
   ]
  },
  {
   "cell_type": "code",
   "execution_count": 90,
   "id": "d71e11f8-5c07-4f21-9964-df3aef437bcf",
   "metadata": {},
   "outputs": [
    {
     "data": {
      "text/plain": [
       "{}"
      ]
     },
     "execution_count": 90,
     "metadata": {},
     "output_type": "execute_result"
    }
   ],
   "source": [
    "arr = []\n",
    "for key in colleges_dict:\n",
    "    print(colleges_dict[key]['latest.programs.cip_4_digit'])\n",
    "\n",
    "\n",
    "colleges_dict"
   ]
  },
  {
   "cell_type": "markdown",
   "id": "d977d8b7-80bb-4d74-9475-8ffa39526573",
   "metadata": {},
   "source": [
    "##### "
   ]
  },
  {
   "cell_type": "code",
   "execution_count": 5,
   "id": "e44a3be9-e8c8-4428-b54a-5bbb91a663a4",
   "metadata": {},
   "outputs": [],
   "source": [
    "df = pd.read_csv('all_data.csv', header = 0)"
   ]
  },
  {
   "cell_type": "code",
   "execution_count": null,
   "id": "d0274567-c827-4d1e-8323-78fdaceb5c7d",
   "metadata": {},
   "outputs": [],
   "source": [
    "copy = colleges_dict.copy()\n",
    "new = {}\n",
    "for key in copy.keys():\n",
    "    d = {}\n",
    "    keys = list(copy[key].keys())\n",
    "    keys[0] = 'Sat Avg'\n",
    "    keys[1] = 'Act Avg'\n",
    "    keys[2] = 'Median 1 Year Salary'\n",
    "    keys[3] = 'Median 4 Year Salary'\n",
    "    for i in range(4, len(keys)-1):\n",
    "        keys[i] = keys[i].split('.')[2:]\n",
    "        if keys[i][0] == 'program_percentage':\n",
    "            keys[i] = keys[i][1]\n",
    "        else:\n",
    "            keys[i] = ' '.join(keys[i][1:])\n",
    "    keys = keys[:-1]\n",
    "    vals = list(copy[key].values())\n",
    "    for i in range(len(keys)):\n",
    "        d[keys[i]] = vals[i]\n",
    "    new[key.lower()] = d\n",
    "\n",
    "    "
   ]
  },
  {
   "cell_type": "code",
   "execution_count": 6,
   "id": "01b2c480-fb1f-47e3-80ca-c65907991a3d",
   "metadata": {},
   "outputs": [],
   "source": [
    "gov_dict = {}\n",
    "\n",
    "for key, val in new.items():\n",
    "    if '-' in key:\n",
    "        key = key.replace('-', ' ')\n",
    "    if '&' in key:\n",
    "        key = key.replace('& ', '')\n",
    "    gov_dict[key] = val"
   ]
  },
  {
   "cell_type": "code",
   "execution_count": 7,
   "id": "1e3e484f-e8c1-4738-a7ca-22c9d308e705",
   "metadata": {},
   "outputs": [
    {
     "data": {
      "text/plain": [
       "430"
      ]
     },
     "execution_count": 7,
     "metadata": {},
     "output_type": "execute_result"
    }
   ],
   "source": [
    "name_list = df['Name'].tolist() # from CSV\n",
    "not_found_list = []   # items from CSV not in the gov data\n",
    "count = 0\n",
    "for name in name_list:\n",
    "    if name not in gov_dict:\n",
    "        gov_name = None\n",
    "        temp = name.split()\n",
    "            \n",
    "        if len(temp[-1]) == len(temp[:-1]):\n",
    "            gov_name = ' '.join(temp[:-1])\n",
    "        \n",
    "        not_found_list.append((name,gov_name))  # creates tuple: (CSV Name, Gov Name)\n",
    "\n",
    "\n",
    "for i in range(len(not_found_list)):\n",
    "    pair = not_found_list[i]\n",
    "    if 'alabama a m' in pair[0]:\n",
    "        not_found_list[i] = (pair[0], 'alabama a m university')\n",
    "    if 'florida a m' in pair[0]:\n",
    "        not_found_list[i] = (pair[0], 'florida agricultural and mechanical university')\n",
    "    if not_found_list[i][1] in gov_dict.keys():\n",
    "        count += 1\n",
    "len(not_found_list) - count"
   ]
  },
  {
   "cell_type": "code",
   "execution_count": 9,
   "id": "fa1baf8c-f6cb-4c66-841c-be3463c974cb",
   "metadata": {},
   "outputs": [
    {
     "name": "stdout",
     "output_type": "stream",
     "text": [
      "american university in bulgaria\n",
      "0: american university | 1: american university of puerto rico | 2: national american university kings bay | "
     ]
    },
    {
     "name": "stdin",
     "output_type": "stream",
     "text": [
      " \n"
     ]
    },
    {
     "name": "stdout",
     "output_type": "stream",
     "text": [
      "\n",
      "\n",
      "\n",
      "\n",
      "american university of puerto rico bayamon\n",
      "0: inter american university of puerto rico bayamon | 1: american university of puerto rico | 2: university of puerto rico bayamon | "
     ]
    },
    {
     "name": "stdin",
     "output_type": "stream",
     "text": [
      " \n"
     ]
    },
    {
     "name": "stdout",
     "output_type": "stream",
     "text": [
      "\n",
      "\n",
      "\n",
      "\n",
      "american university of puerto rico manati\n",
      "0: american university of puerto rico | 1: edp university of puerto rico manati | 2: inter american university of puerto rico metro | "
     ]
    },
    {
     "name": "stdin",
     "output_type": "stream",
     "text": [
      " \n"
     ]
    },
    {
     "name": "stdout",
     "output_type": "stream",
     "text": [
      "\n",
      "\n",
      "\n",
      "\n",
      "anderson university indiana\n",
      "0: anderson university | 1: chamberlain university indiana | 2: devry university virginia | "
     ]
    },
    {
     "name": "stdin",
     "output_type": "stream",
     "text": [
      " \n"
     ]
    },
    {
     "name": "stdout",
     "output_type": "stream",
     "text": [
      "\n",
      "\n",
      "\n",
      "\n",
      "anderson university south carolina\n",
      "0: strayer university south carolina | 1: devry university north carolina | 2: strayer university north carolina | "
     ]
    },
    {
     "name": "stdin",
     "output_type": "stream",
     "text": [
      " \n"
     ]
    },
    {
     "name": "stdout",
     "output_type": "stream",
     "text": [
      "\n",
      "\n",
      "\n",
      "\n",
      "anglo american university\n",
      "0: north american university | 1: american university | 2: angelo state university | "
     ]
    },
    {
     "name": "stdin",
     "output_type": "stream",
     "text": [
      " \n"
     ]
    },
    {
     "name": "stdout",
     "output_type": "stream",
     "text": [
      "\n",
      "\n",
      "\n",
      "\n",
      "arkansas state university main campus\n",
      "0: oklahoma state university main campus | 1: arkansas state university mountain home | 2: wright state university main campus | "
     ]
    },
    {
     "name": "stdin",
     "output_type": "stream",
     "text": [
      " \n"
     ]
    },
    {
     "name": "stdout",
     "output_type": "stream",
     "text": [
      "\n",
      "\n",
      "\n",
      "\n",
      "art institute of atlanta\n",
      "0: the art institute of atlanta | 1: the art institute of austin | 2: asher institute of hampton | "
     ]
    },
    {
     "name": "stdin",
     "output_type": "stream",
     "text": [
      " 0\n"
     ]
    },
    {
     "name": "stdout",
     "output_type": "stream",
     "text": [
      "the art institute of atlanta\n",
      "\n",
      "\n",
      "\n",
      "\n",
      "art institute of houston\n",
      "0: the art institute of houston | 1: vet tech institute of houston | 2: the art institute of austin | "
     ]
    },
    {
     "name": "stdin",
     "output_type": "stream",
     "text": [
      " 0\n"
     ]
    },
    {
     "name": "stdout",
     "output_type": "stream",
     "text": [
      "the art institute of houston\n",
      "\n",
      "\n",
      "\n",
      "\n",
      "artcenter college of design artcenter\n",
      "0: art center college of design | 1: the college of westchester | 2: college of hair design careers | "
     ]
    },
    {
     "name": "stdin",
     "output_type": "stream",
     "text": [
      " 0\n"
     ]
    },
    {
     "name": "stdout",
     "output_type": "stream",
     "text": [
      "art center college of design\n",
      "\n",
      "\n",
      "\n",
      "\n",
      "baldwin wallace university bw\n",
      "0: baldwin wallace university | 1: walla walla university | 2: la salle university | "
     ]
    },
    {
     "name": "stdin",
     "output_type": "stream",
     "text": [
      " 0\n"
     ]
    },
    {
     "name": "stdout",
     "output_type": "stream",
     "text": [
      "baldwin wallace university\n",
      "\n",
      "\n",
      "\n",
      "\n",
      "baptist memorial college of health sciences\n",
      "0: american college of healthcare sciences | 1: mercy college of health sciences | 2: bryan college of health sciences | "
     ]
    },
    {
     "name": "stdin",
     "output_type": "stream",
     "text": [
      " 0\n"
     ]
    },
    {
     "name": "stdout",
     "output_type": "stream",
     "text": [
      "american college of healthcare sciences\n",
      "\n",
      "\n",
      "\n",
      "\n",
      "baruch college cuny baruch\n",
      "0: north west college long beach | 1: bard college   bhsec newark | 2: tucson college of beauty | "
     ]
    },
    {
     "name": "stdin",
     "output_type": "stream",
     "text": [
      " 0\n"
     ]
    },
    {
     "name": "stdout",
     "output_type": "stream",
     "text": [
      "north west college long beach\n",
      "\n",
      "\n",
      "\n",
      "\n",
      "benjamin franklin institute of technology\n",
      "0: benjamin franklin cummings institute of technology | 1: pennsylvania institute of technology | 2: indiana institute of technology | "
     ]
    },
    {
     "name": "stdin",
     "output_type": "stream",
     "text": [
      " 0\n"
     ]
    },
    {
     "name": "stdout",
     "output_type": "stream",
     "text": [
      "benjamin franklin cummings institute of technology\n",
      "\n",
      "\n",
      "\n",
      "\n",
      "berklee college of music berklee\n",
      "0: berklee college of music | 1: baker college of muskegon | 2: vandercook college of music | "
     ]
    },
    {
     "name": "stdin",
     "output_type": "stream",
     "text": [
      " 0\n"
     ]
    },
    {
     "name": "stdout",
     "output_type": "stream",
     "text": [
      "berklee college of music\n",
      "\n",
      "\n",
      "\n",
      "\n",
      "bethany college kansas\n",
      "0: bethany college | 1: central christian college of kansas | 2: delta college inc | "
     ]
    },
    {
     "name": "stdin",
     "output_type": "stream",
     "text": [
      " \n"
     ]
    },
    {
     "name": "stdout",
     "output_type": "stream",
     "text": [
      "\n",
      "\n",
      "\n",
      "\n",
      "bethany college west virginia\n",
      "0: uei college west covina | 1: bethany college | 2: north west college west covina | "
     ]
    },
    {
     "name": "stdin",
     "output_type": "stream",
     "text": [
      " \n"
     ]
    },
    {
     "name": "stdout",
     "output_type": "stream",
     "text": [
      "\n",
      "\n",
      "\n",
      "\n",
      "bethel college indiana\n",
      "0: the college of idaho | 1: bethlehem college seminary | 2: fortis college indianapolis | "
     ]
    },
    {
     "name": "stdin",
     "output_type": "stream",
     "text": [
      " \n"
     ]
    },
    {
     "name": "stdout",
     "output_type": "stream",
     "text": [
      "\n",
      "\n",
      "\n",
      "\n",
      "bethel university minnesota\n",
      "0: bethel university | 1: rasmussen university minnesota | 2: the university of tampa | "
     ]
    },
    {
     "name": "stdin",
     "output_type": "stream",
     "text": [
      " 0\n"
     ]
    },
    {
     "name": "stdout",
     "output_type": "stream",
     "text": [
      "bethel university\n",
      "\n",
      "\n",
      "\n",
      "\n",
      "bethel university tennessee\n",
      "0: strayer university tennessee | 1: devry university tennessee | 2: the university of tennessee martin | "
     ]
    },
    {
     "name": "stdin",
     "output_type": "stream",
     "text": [
      " \n"
     ]
    },
    {
     "name": "stdout",
     "output_type": "stream",
     "text": [
      "\n",
      "\n",
      "\n",
      "\n",
      "blinn college\n",
      "0: bellin college | 1: oberlin college | 2: lincoln college | "
     ]
    },
    {
     "name": "stdin",
     "output_type": "stream",
     "text": [
      " \n"
     ]
    },
    {
     "name": "stdout",
     "output_type": "stream",
     "text": [
      "\n",
      "\n",
      "\n",
      "\n",
      "bloomfield college of montclair state university\n",
      "0: great falls college montana state university | 1: montclair state university | 2: city college montana state university billings | "
     ]
    },
    {
     "name": "stdin",
     "output_type": "stream",
     "text": [
      " \n"
     ]
    },
    {
     "name": "stdout",
     "output_type": "stream",
     "text": [
      "\n",
      "\n",
      "\n",
      "\n",
      "bloomsburg university bloomu\n",
      "0: bloomsburg university of pennsylvania | 1: woodbury university | 2: augsburg university | "
     ]
    },
    {
     "name": "stdin",
     "output_type": "stream",
     "text": [
      " 0\n"
     ]
    },
    {
     "name": "stdout",
     "output_type": "stream",
     "text": [
      "bloomsburg university of pennsylvania\n",
      "\n",
      "\n",
      "\n",
      "\n",
      "blue ridge community college north carolina\n",
      "0: blue ridge community college | 1: laurel ridge community college | 2: bergen community college | "
     ]
    },
    {
     "name": "stdin",
     "output_type": "stream",
     "text": [
      " 0\n"
     ]
    },
    {
     "name": "stdout",
     "output_type": "stream",
     "text": [
      "blue ridge community college\n",
      "\n",
      "\n",
      "\n",
      "\n",
      "blue ridge community college virginia\n",
      "0: blue ridge community college | 1: laurel ridge community college | 2: bergen community college | "
     ]
    },
    {
     "name": "stdin",
     "output_type": "stream",
     "text": [
      " \n"
     ]
    },
    {
     "name": "stdout",
     "output_type": "stream",
     "text": [
      "\n",
      "\n",
      "\n",
      "\n",
      "brooklyn college\n",
      "0: cuny brooklyn college | 1: boston college | 2: barton college | "
     ]
    },
    {
     "name": "stdin",
     "output_type": "stream",
     "text": [
      " \n"
     ]
    },
    {
     "name": "stdout",
     "output_type": "stream",
     "text": [
      "\n",
      "\n",
      "\n",
      "\n",
      "bryan university arizona\n",
      "0: devry university arizona | 1: university of arizona | 2: bryan university | "
     ]
    },
    {
     "name": "stdin",
     "output_type": "stream",
     "text": [
      " \n"
     ]
    },
    {
     "name": "stdout",
     "output_type": "stream",
     "text": [
      "\n",
      "\n",
      "\n",
      "\n",
      "bryan university missouri\n",
      "0: devry university missouri | 1: chamberlain university missouri | 2: bryan university | "
     ]
    },
    {
     "name": "stdin",
     "output_type": "stream",
     "text": [
      " \n"
     ]
    },
    {
     "name": "stdout",
     "output_type": "stream",
     "text": [
      "\n",
      "\n",
      "\n",
      "\n",
      "bryant and stratton college albany\n",
      "0: bryant stratton college albany | 1: bryant stratton college solon | 2: bryant stratton college parma | "
     ]
    },
    {
     "name": "stdin",
     "output_type": "stream",
     "text": [
      " 0\n"
     ]
    },
    {
     "name": "stdout",
     "output_type": "stream",
     "text": [
      "bryant stratton college albany\n",
      "\n",
      "\n",
      "\n",
      "\n",
      "bryant and stratton college buffalo\n",
      "0: bryant stratton college buffalo | 1: bryant stratton college solon | 2: bryant stratton college akron | "
     ]
    },
    {
     "name": "stdin",
     "output_type": "stream",
     "text": [
      " 0\n"
     ]
    },
    {
     "name": "stdout",
     "output_type": "stream",
     "text": [
      "bryant stratton college buffalo\n",
      "\n",
      "\n",
      "\n",
      "\n",
      "bryant and stratton college greece\n",
      "0: bryant stratton college greece | 1: bryant stratton college racine | 2: bryant stratton college syracuse | "
     ]
    },
    {
     "name": "stdin",
     "output_type": "stream",
     "text": [
      " 0\n"
     ]
    },
    {
     "name": "stdout",
     "output_type": "stream",
     "text": [
      "bryant stratton college greece\n",
      "\n",
      "\n",
      "\n",
      "\n",
      "bryant and stratton college parma\n",
      "0: bryant stratton college parma | 1: bryant stratton college akron | 2: bryant stratton college racine | "
     ]
    },
    {
     "name": "stdin",
     "output_type": "stream",
     "text": [
      " 0\n"
     ]
    },
    {
     "name": "stdout",
     "output_type": "stream",
     "text": [
      "bryant stratton college parma\n",
      "\n",
      "\n",
      "\n",
      "\n",
      "california college of the arts cca\n",
      "0: california college of the arts | 1: cornish college of the arts | 2: california college of music | "
     ]
    },
    {
     "name": "stdin",
     "output_type": "stream",
     "text": [
      " 0\n"
     ]
    },
    {
     "name": "stdout",
     "output_type": "stream",
     "text": [
      "california college of the arts\n",
      "\n",
      "\n",
      "\n",
      "\n",
      "california institute of technology caltech\n",
      "0: california institute of technology | 1: california institute of arts technology | 2: southern california institute of technology | "
     ]
    },
    {
     "name": "stdin",
     "output_type": "stream",
     "text": [
      " 0\n"
     ]
    },
    {
     "name": "stdout",
     "output_type": "stream",
     "text": [
      "california institute of technology\n",
      "\n",
      "\n",
      "\n",
      "\n",
      "california institute of the arts cal arts\n",
      "0: california institute of the arts | 1: california institute of integral studies | 2: california institute of medical science | "
     ]
    },
    {
     "name": "stdin",
     "output_type": "stream",
     "text": [
      " 0\n"
     ]
    },
    {
     "name": "stdout",
     "output_type": "stream",
     "text": [
      "california institute of the arts\n",
      "\n",
      "\n",
      "\n",
      "\n",
      "california polytechnic state university cal poly\n",
      "0: california polytechnic state university san luis obispo | 1: california state polytechnic university pomona | 2: california state polytechnic university humboldt | "
     ]
    },
    {
     "name": "stdin",
     "output_type": "stream",
     "text": [
      " 0\n"
     ]
    },
    {
     "name": "stdout",
     "output_type": "stream",
     "text": [
      "california polytechnic state university san luis obispo\n",
      "\n",
      "\n",
      "\n",
      "\n",
      "california state polytechnic university pomona cal poly pomona\n",
      "0: california state polytechnic university pomona | 1: california state polytechnic university humboldt | 2: california state university monterey bay | "
     ]
    },
    {
     "name": "stdin",
     "output_type": "stream",
     "text": [
      " 0\n"
     ]
    },
    {
     "name": "stdout",
     "output_type": "stream",
     "text": [
      "california state polytechnic university pomona\n",
      "\n",
      "\n",
      "\n",
      "\n",
      "california state university east bay csu east bay\n",
      "0: california state university east bay | 1: california state university stanislaus | 2: california state university san marcos | "
     ]
    },
    {
     "name": "stdin",
     "output_type": "stream",
     "text": [
      " 0\n"
     ]
    },
    {
     "name": "stdout",
     "output_type": "stream",
     "text": [
      "california state university east bay\n",
      "\n",
      "\n",
      "\n",
      "\n",
      "california state university fresno csu fresno\n",
      "0: california state university fresno | 1: california state university sacramento | 2: california state university stanislaus | "
     ]
    },
    {
     "name": "stdin",
     "output_type": "stream",
     "text": [
      " 0\n"
     ]
    },
    {
     "name": "stdout",
     "output_type": "stream",
     "text": [
      "california state university fresno\n",
      "\n",
      "\n",
      "\n",
      "\n",
      "california state university fullerton csu fullerton\n",
      "0: california state university fullerton | 1: california state university fresno | 2: california state university long beach | "
     ]
    },
    {
     "name": "stdin",
     "output_type": "stream",
     "text": [
      " 0\n"
     ]
    },
    {
     "name": "stdout",
     "output_type": "stream",
     "text": [
      "california state university fullerton\n",
      "\n",
      "\n",
      "\n",
      "\n",
      "california state university long beach long beach state\n",
      "0: california state university long beach | 1: california state university los angeles | 2: california state university east bay | "
     ]
    },
    {
     "name": "stdin",
     "output_type": "stream",
     "text": [
      " 0\n"
     ]
    },
    {
     "name": "stdout",
     "output_type": "stream",
     "text": [
      "california state university long beach\n",
      "\n",
      "\n",
      "\n",
      "\n",
      "california state university los angeles cal state la\n",
      "0: california state university los angeles | 1: california state university long beach | 2: california state university east bay | "
     ]
    },
    {
     "name": "stdin",
     "output_type": "stream",
     "text": [
      " 0\n"
     ]
    },
    {
     "name": "stdout",
     "output_type": "stream",
     "text": [
      "california state university los angeles\n",
      "\n",
      "\n",
      "\n",
      "\n",
      "catholic university of america cua\n",
      "0: the catholic university of america | 1: soka university of america | 2: fairfax university of america | "
     ]
    },
    {
     "name": "stdin",
     "output_type": "stream",
     "text": [
      " 0\n"
     ]
    },
    {
     "name": "stdout",
     "output_type": "stream",
     "text": [
      "the catholic university of america\n",
      "\n",
      "\n",
      "\n",
      "\n",
      "cayuga community college\n",
      "0: kauai community college | 1: nashua community college | 2: cayuga county community college | "
     ]
    },
    {
     "name": "stdin",
     "output_type": "stream",
     "text": [
      " 2\n"
     ]
    },
    {
     "name": "stdout",
     "output_type": "stream",
     "text": [
      "cayuga county community college\n",
      "\n",
      "\n",
      "\n",
      "\n",
      "christ college of nursing and health sciences\n",
      "0: the christ college of nursing and health sciences | 1: aultman college of nursing and health sciences | 2: trinity college of nursing health sciences | "
     ]
    },
    {
     "name": "stdin",
     "output_type": "stream",
     "text": [
      " 0\n"
     ]
    },
    {
     "name": "stdout",
     "output_type": "stream",
     "text": [
      "the christ college of nursing and health sciences\n",
      "\n",
      "\n",
      "\n",
      "\n",
      "city college of new york ccny\n",
      "0: devry college of new york | 1: metropolitan college of new york | 2: the college of new jersey | "
     ]
    },
    {
     "name": "stdin",
     "output_type": "stream",
     "text": [
      " \n"
     ]
    },
    {
     "name": "stdout",
     "output_type": "stream",
     "text": [
      "\n",
      "\n",
      "\n",
      "\n",
      "clayton state university\n",
      "0: clayton  state university | 1: wayne state university | 2: tarleton state university | "
     ]
    },
    {
     "name": "stdin",
     "output_type": "stream",
     "text": [
      " 0\n"
     ]
    },
    {
     "name": "stdout",
     "output_type": "stream",
     "text": [
      "clayton  state university\n",
      "\n",
      "\n",
      "\n",
      "\n",
      "coastal carolina university coastal\n",
      "0: coastal carolina university | 1: east carolina university | 2: coastal carolina community college | "
     ]
    },
    {
     "name": "stdin",
     "output_type": "stream",
     "text": [
      " 0\n"
     ]
    },
    {
     "name": "stdout",
     "output_type": "stream",
     "text": [
      "coastal carolina university\n",
      "\n",
      "\n",
      "\n",
      "\n",
      "college of charleston south carolina\n",
      "0: college of charleston | 1: college of hair design east campus | 2: college of southern maryland | "
     ]
    },
    {
     "name": "stdin",
     "output_type": "stream",
     "text": [
      " 0\n"
     ]
    },
    {
     "name": "stdout",
     "output_type": "stream",
     "text": [
      "college of charleston\n",
      "\n",
      "\n",
      "\n",
      "\n",
      "college of idaho\n",
      "0: the college of idaho | 1: college of western idaho | 2: college of eastern idaho | "
     ]
    },
    {
     "name": "stdin",
     "output_type": "stream",
     "text": [
      " 0\n"
     ]
    },
    {
     "name": "stdout",
     "output_type": "stream",
     "text": [
      "the college of idaho\n",
      "\n",
      "\n",
      "\n",
      "\n",
      "college of saint elizabeth\n",
      "0: college of saint benedict | 1: college of saint mary | 2: college of san mateo | "
     ]
    },
    {
     "name": "stdin",
     "output_type": "stream",
     "text": [
      " \n"
     ]
    },
    {
     "name": "stdout",
     "output_type": "stream",
     "text": [
      "\n",
      "\n",
      "\n",
      "\n",
      "college of saint rose\n",
      "0: the college of saint rose | 1: college of saint mary | 2: college of saint benedict | "
     ]
    },
    {
     "name": "stdin",
     "output_type": "stream",
     "text": [
      " 0\n"
     ]
    },
    {
     "name": "stdout",
     "output_type": "stream",
     "text": [
      "the college of saint rose\n",
      "\n",
      "\n",
      "\n",
      "\n",
      "college of saint scholastica\n",
      "0: the college of saint scholastica | 1: college of saint mary | 2: the college of saint rose | "
     ]
    },
    {
     "name": "stdin",
     "output_type": "stream",
     "text": [
      " 0\n"
     ]
    },
    {
     "name": "stdout",
     "output_type": "stream",
     "text": [
      "the college of saint scholastica\n",
      "\n",
      "\n",
      "\n",
      "\n",
      "college of st benedict csb\n",
      "0: college of saint benedict | 1: college of the canyons | 2: college of staten island cuny | "
     ]
    },
    {
     "name": "stdin",
     "output_type": "stream",
     "text": [
      " 0\n"
     ]
    },
    {
     "name": "stdout",
     "output_type": "stream",
     "text": [
      "college of saint benedict\n",
      "\n",
      "\n",
      "\n",
      "\n",
      "college of the atlantic coa\n",
      "0: college of the atlantic | 1: college of the mainland | 2: college of the canyons | "
     ]
    },
    {
     "name": "stdin",
     "output_type": "stream",
     "text": [
      " 0\n"
     ]
    },
    {
     "name": "stdout",
     "output_type": "stream",
     "text": [
      "college of the atlantic\n",
      "\n",
      "\n",
      "\n",
      "\n",
      "college of the holy cross holy cross\n",
      "0: college of the holy cross | 1: college of the siskiyous | 2: college of the marshall islands | "
     ]
    },
    {
     "name": "stdin",
     "output_type": "stream",
     "text": [
      " 0\n"
     ]
    },
    {
     "name": "stdout",
     "output_type": "stream",
     "text": [
      "college of the holy cross\n",
      "\n",
      "\n",
      "\n",
      "\n",
      "college of westchester\n",
      "0: the college of westchester | 1: college of the desert | 2: college of western idaho | "
     ]
    },
    {
     "name": "stdin",
     "output_type": "stream",
     "text": [
      " 0\n"
     ]
    },
    {
     "name": "stdout",
     "output_type": "stream",
     "text": [
      "the college of westchester\n",
      "\n",
      "\n",
      "\n",
      "\n",
      "college of william mary william mary\n"
     ]
    },
    {
     "name": "stdin",
     "output_type": "stream",
     "text": [
      " \n"
     ]
    },
    {
     "name": "stdout",
     "output_type": "stream",
     "text": [
      "\n",
      "\n",
      "\n",
      "\n",
      "college of wooster\n",
      "0: the college of wooster | 1: college of western idaho | 2: college of san mateo | "
     ]
    },
    {
     "name": "stdin",
     "output_type": "stream",
     "text": [
      " 0\n"
     ]
    },
    {
     "name": "stdout",
     "output_type": "stream",
     "text": [
      "the college of wooster\n",
      "\n",
      "\n",
      "\n",
      "\n",
      "college university\n",
      "0: colgate university | 1: lee university | 2: cornell university | "
     ]
    },
    {
     "name": "stdin",
     "output_type": "stream",
     "text": [
      " \n"
     ]
    },
    {
     "name": "stdout",
     "output_type": "stream",
     "text": [
      "\n",
      "\n",
      "\n",
      "\n",
      "colorado school of mines mines\n",
      "0: colorado school of mines | 1: colorado school of trades | 2: colorado school of healing arts | "
     ]
    },
    {
     "name": "stdin",
     "output_type": "stream",
     "text": [
      " 0\n"
     ]
    },
    {
     "name": "stdout",
     "output_type": "stream",
     "text": [
      "colorado school of mines\n",
      "\n",
      "\n",
      "\n",
      "\n",
      "columbia college missouri\n",
      "0: columbia college   mesquite | 1: columbia college   lemoore | 2: columbia college | "
     ]
    },
    {
     "name": "stdin",
     "output_type": "stream",
     "text": [
      " \n"
     ]
    },
    {
     "name": "stdout",
     "output_type": "stream",
     "text": [
      "\n",
      "\n",
      "\n",
      "\n",
      "columbia college south carolina\n",
      "0: columbia college   rolla | 1: columbia college chicago | 2: columbia college   elgin | "
     ]
    },
    {
     "name": "stdin",
     "output_type": "stream",
     "text": [
      " \n"
     ]
    },
    {
     "name": "stdout",
     "output_type": "stream",
     "text": [
      "\n",
      "\n",
      "\n",
      "\n",
      "columbia university\n",
      "0: carolina university | 1: corban university | 2: columbus state university | "
     ]
    },
    {
     "name": "stdin",
     "output_type": "stream",
     "text": [
      " \n"
     ]
    },
    {
     "name": "stdout",
     "output_type": "stream",
     "text": [
      "\n",
      "\n",
      "\n",
      "\n",
      "concordia college minnesota\n",
      "0: concorde career college southaven | 1: columbia college   minot afb | 2: concorde career college memphis | "
     ]
    },
    {
     "name": "stdin",
     "output_type": "stream",
     "text": [
      " \n"
     ]
    },
    {
     "name": "stdout",
     "output_type": "stream",
     "text": [
      "\n",
      "\n",
      "\n",
      "\n",
      "conservatory of music of puerto rico\n",
      "0: puerto rico conservatory of music | 1: universal technology college of puerto rico | "
     ]
    },
    {
     "name": "stdin",
     "output_type": "stream",
     "text": [
      " 0\n"
     ]
    },
    {
     "name": "stdout",
     "output_type": "stream",
     "text": [
      "puerto rico conservatory of music\n",
      "\n",
      "\n",
      "\n",
      "\n",
      "cooper union\n"
     ]
    },
    {
     "name": "stdin",
     "output_type": "stream",
     "text": [
      " \n"
     ]
    },
    {
     "name": "stdout",
     "output_type": "stream",
     "text": [
      "\n",
      "\n",
      "\n",
      "\n",
      "crowley s ridge college\n",
      "0: crowley's ridge college | 1: crowder college | 2: clary sage college | "
     ]
    },
    {
     "name": "stdin",
     "output_type": "stream",
     "text": [
      " 0\n"
     ]
    },
    {
     "name": "stdout",
     "output_type": "stream",
     "text": [
      "crowley's ridge college\n",
      "\n",
      "\n",
      "\n",
      "\n",
      "d youville university\n",
      "0: d'youville  university | 1: cedarville university | 2: medaille university | "
     ]
    },
    {
     "name": "stdin",
     "output_type": "stream",
     "text": [
      " 0\n"
     ]
    },
    {
     "name": "stdout",
     "output_type": "stream",
     "text": [
      "d'youville  university\n",
      "\n",
      "\n",
      "\n",
      "\n",
      "dabney s lancaster community college\n",
      "0: manchester community college | 1: alamance community college | 2: suny westchester community college | "
     ]
    },
    {
     "name": "stdin",
     "output_type": "stream",
     "text": [
      " \n"
     ]
    },
    {
     "name": "stdout",
     "output_type": "stream",
     "text": [
      "\n",
      "\n",
      "\n",
      "\n",
      "davis and elkins college\n",
      "0: davis elkins college | 1: davis college | 2: diamonds college | "
     ]
    },
    {
     "name": "stdin",
     "output_type": "stream",
     "text": [
      " 0\n"
     ]
    },
    {
     "name": "stdout",
     "output_type": "stream",
     "text": [
      "davis elkins college\n",
      "\n",
      "\n",
      "\n",
      "\n",
      "davis college new york\n",
      "0: devry college of new york | 1: davis college | 2: berkeley college new york | "
     ]
    },
    {
     "name": "stdin",
     "output_type": "stream",
     "text": [
      " \n"
     ]
    },
    {
     "name": "stdout",
     "output_type": "stream",
     "text": [
      "\n",
      "\n",
      "\n",
      "\n",
      "davis college ohio\n",
      "0: davis college | 1: davidson college | 2: caris college | "
     ]
    },
    {
     "name": "stdin",
     "output_type": "stream",
     "text": [
      " \n"
     ]
    },
    {
     "name": "stdout",
     "output_type": "stream",
     "text": [
      "\n",
      "\n",
      "\n",
      "\n",
      "dixie state university\n",
      "0: delta state university | 1: bowie state university | 2: boise state university | "
     ]
    },
    {
     "name": "stdin",
     "output_type": "stream",
     "text": [
      " \n"
     ]
    },
    {
     "name": "stdout",
     "output_type": "stream",
     "text": [
      "\n",
      "\n",
      "\n",
      "\n",
      "doane university arts and sciences\n",
      "0: sonoran university of health sciences | 1: roseman university of health sciences | 2: joyce university of nursing and health sciences | "
     ]
    },
    {
     "name": "stdin",
     "output_type": "stream",
     "text": [
      " \n"
     ]
    },
    {
     "name": "stdout",
     "output_type": "stream",
     "text": [
      "\n",
      "\n",
      "\n",
      "\n",
      "dominican college of blauvelt\n",
      "0: michigan college of beauty troy | 1: american college of barbering | 2: waynes college of beauty | "
     ]
    },
    {
     "name": "stdin",
     "output_type": "stream",
     "text": [
      " \n"
     ]
    },
    {
     "name": "stdout",
     "output_type": "stream",
     "text": [
      "\n",
      "\n",
      "\n",
      "\n",
      "dordt college\n",
      "0: oxnard college | 1: morton college | 2: howard college | "
     ]
    },
    {
     "name": "stdin",
     "output_type": "stream",
     "text": [
      " \n"
     ]
    },
    {
     "name": "stdout",
     "output_type": "stream",
     "text": [
      "\n",
      "\n",
      "\n",
      "\n",
      "edward waters college\n",
      "0: ridgewater college | 1: cedar crest college | 2: bridgewater college | "
     ]
    },
    {
     "name": "stdin",
     "output_type": "stream",
     "text": [
      " \n"
     ]
    },
    {
     "name": "stdout",
     "output_type": "stream",
     "text": [
      "\n",
      "\n",
      "\n",
      "\n",
      "elizabethtown college e town\n",
      "0: elizabethtown college | 1: leston college   | 2: saint elizabeth college of nursing | "
     ]
    },
    {
     "name": "stdin",
     "output_type": "stream",
     "text": [
      " 0\n"
     ]
    },
    {
     "name": "stdout",
     "output_type": "stream",
     "text": [
      "elizabethtown college\n",
      "\n",
      "\n",
      "\n",
      "\n",
      "elms college\n",
      "0: helms college | 1: wells college | 2: lim college | "
     ]
    },
    {
     "name": "stdin",
     "output_type": "stream",
     "text": [
      " \n"
     ]
    },
    {
     "name": "stdout",
     "output_type": "stream",
     "text": [
      "\n",
      "\n",
      "\n",
      "\n",
      "embry riddle aeronautical university\n",
      "0: embry riddle aeronautical university prescott | 1: embry riddle aeronautical university worldwide | 2: embry riddle aeronautical university daytona beach | "
     ]
    },
    {
     "name": "stdin",
     "output_type": "stream",
     "text": [
      " \n"
     ]
    },
    {
     "name": "stdout",
     "output_type": "stream",
     "text": [
      "\n",
      "\n",
      "\n",
      "\n",
      "emmanuel college massachusetts\n",
      "0: wheaton college (massachusetts) | 1: emmanuel college | 2: cem college mayaguez | "
     ]
    },
    {
     "name": "stdin",
     "output_type": "stream",
     "text": [
      " 1\n"
     ]
    },
    {
     "name": "stdout",
     "output_type": "stream",
     "text": [
      "emmanuel college\n",
      "\n",
      "\n",
      "\n",
      "\n",
      "emory and henry college\n",
      "0: emory henry college | 1: le moyne owen college | 2: le moyne college | "
     ]
    },
    {
     "name": "stdin",
     "output_type": "stream",
     "text": [
      " 0\n"
     ]
    },
    {
     "name": "stdout",
     "output_type": "stream",
     "text": [
      "emory henry college\n",
      "\n",
      "\n",
      "\n",
      "\n",
      "evergreen state college\n",
      "0: the evergreen state college | 1: evergreen valley college | 2: keene state college | "
     ]
    },
    {
     "name": "stdin",
     "output_type": "stream",
     "text": [
      " 0\n"
     ]
    },
    {
     "name": "stdout",
     "output_type": "stream",
     "text": [
      "the evergreen state college\n",
      "\n",
      "\n",
      "\n",
      "\n",
      "fidm fashion institute of design and merchandising los angeles\n",
      "0: fidm fashion institute of design merchandising | 1: fashion institute of technology | "
     ]
    },
    {
     "name": "stdin",
     "output_type": "stream",
     "text": [
      " 0\n"
     ]
    },
    {
     "name": "stdout",
     "output_type": "stream",
     "text": [
      "fidm fashion institute of design merchandising\n",
      "\n",
      "\n",
      "\n",
      "\n",
      "florida institute of technology florida tech\n",
      "0: florida institute of technology online | 1: florida institute of technology | 2: south florida institute of technology | "
     ]
    },
    {
     "name": "stdin",
     "output_type": "stream",
     "text": [
      " 1\n"
     ]
    },
    {
     "name": "stdout",
     "output_type": "stream",
     "text": [
      "florida institute of technology\n",
      "\n",
      "\n",
      "\n",
      "\n",
      "franklin and marshall college f m\n",
      "0: franklin and marshall college | 1: anna maria college | 2: franklin college | "
     ]
    },
    {
     "name": "stdin",
     "output_type": "stream",
     "text": [
      " 0\n"
     ]
    },
    {
     "name": "stdout",
     "output_type": "stream",
     "text": [
      "franklin and marshall college\n",
      "\n",
      "\n",
      "\n",
      "\n",
      "franklin w olin college of engineering olin\n",
      "0: franklin w olin college of engineering | 1: lincoln college of technology indianapolis | 2: arizona college of nursing tucson | "
     ]
    },
    {
     "name": "stdin",
     "output_type": "stream",
     "text": [
      " 0\n"
     ]
    },
    {
     "name": "stdout",
     "output_type": "stream",
     "text": [
      "franklin w olin college of engineering\n",
      "\n",
      "\n",
      "\n",
      "\n",
      "gateway community college arizona\n",
      "0: gateway community college | 1: gateway community college central city | 2: southeast community college area | "
     ]
    },
    {
     "name": "stdin",
     "output_type": "stream",
     "text": [
      " \n"
     ]
    },
    {
     "name": "stdout",
     "output_type": "stream",
     "text": [
      "\n",
      "\n",
      "\n",
      "\n",
      "gateway community college connecticut\n",
      "0: gateway community college central city | 1: gateway community college | 2: eastern iowa community college district | "
     ]
    },
    {
     "name": "stdin",
     "output_type": "stream",
     "text": [
      " \n"
     ]
    },
    {
     "name": "stdout",
     "output_type": "stream",
     "text": [
      "\n",
      "\n",
      "\n",
      "\n",
      "george washington university gw\n",
      "0: george washington university | 1: george mason university | 2: western washington university | "
     ]
    },
    {
     "name": "stdin",
     "output_type": "stream",
     "text": [
      " 0\n"
     ]
    },
    {
     "name": "stdout",
     "output_type": "stream",
     "text": [
      "george washington university\n",
      "\n",
      "\n",
      "\n",
      "\n",
      "georgia college gcsu\n",
      "0: georgia college state university | 1: florida college | 2: boricua college | "
     ]
    },
    {
     "name": "stdin",
     "output_type": "stream",
     "text": [
      " 0\n"
     ]
    },
    {
     "name": "stdout",
     "output_type": "stream",
     "text": [
      "georgia college state university\n",
      "\n",
      "\n",
      "\n",
      "\n",
      "georgia institute of technology georgia tech\n",
      "0: georgia institute of technology main campus | 1: erie institute of technology inc | 2: florida institute of technology online | "
     ]
    },
    {
     "name": "stdin",
     "output_type": "stream",
     "text": [
      " 0\n"
     ]
    },
    {
     "name": "stdout",
     "output_type": "stream",
     "text": [
      "georgia institute of technology main campus\n",
      "\n",
      "\n",
      "\n",
      "\n",
      "glendale community college arizona\n",
      "0: glendale community college | 1: glen oaks community college | 2: luna community college | "
     ]
    },
    {
     "name": "stdin",
     "output_type": "stream",
     "text": [
      " 0\n"
     ]
    },
    {
     "name": "stdout",
     "output_type": "stream",
     "text": [
      "glendale community college\n",
      "\n",
      "\n",
      "\n",
      "\n",
      "glendale community college california\n",
      "0: glendale community college | 1: glen oaks community college | 2: luna community college | "
     ]
    },
    {
     "name": "stdin",
     "output_type": "stream",
     "text": [
      " \n"
     ]
    },
    {
     "name": "stdout",
     "output_type": "stream",
     "text": [
      "\n",
      "\n",
      "\n",
      "\n",
      "goodwin college\n",
      "0: gordon college | 1: hood college | 2: dine college | "
     ]
    },
    {
     "name": "stdin",
     "output_type": "stream",
     "text": [
      " \n"
     ]
    },
    {
     "name": "stdout",
     "output_type": "stream",
     "text": [
      "\n",
      "\n",
      "\n",
      "\n",
      "hampden sydney college h sc\n",
      "0: hampden sydney college | 1: camden county college | 2: jamestown business college   | "
     ]
    },
    {
     "name": "stdin",
     "output_type": "stream",
     "text": [
      " 0\n"
     ]
    },
    {
     "name": "stdout",
     "output_type": "stream",
     "text": [
      "hampden sydney college\n",
      "\n",
      "\n",
      "\n",
      "\n",
      "highland community college illinois\n",
      "0: highland community college | 1: richland community college | 2: hinds community college | "
     ]
    },
    {
     "name": "stdin",
     "output_type": "stream",
     "text": [
      " \n"
     ]
    },
    {
     "name": "stdout",
     "output_type": "stream",
     "text": [
      "\n",
      "\n",
      "\n",
      "\n",
      "highland community college kansas\n",
      "0: highland community college | 1: richland community college | 2: hinds community college | "
     ]
    },
    {
     "name": "stdin",
     "output_type": "stream",
     "text": [
      " \n"
     ]
    },
    {
     "name": "stdout",
     "output_type": "stream",
     "text": [
      "\n",
      "\n",
      "\n",
      "\n",
      "hobart and william smith colleges hws\n",
      "0: hobart william smith colleges | 1: heartland community college | 2: williams college | "
     ]
    },
    {
     "name": "stdin",
     "output_type": "stream",
     "text": [
      " 0\n"
     ]
    },
    {
     "name": "stdout",
     "output_type": "stream",
     "text": [
      "hobart william smith colleges\n",
      "\n",
      "\n",
      "\n",
      "\n",
      "houston christian university\n",
      "0: ohio christian university | 1: louisiana christian university | 2: southwestern christian university | "
     ]
    },
    {
     "name": "stdin",
     "output_type": "stream",
     "text": [
      " \n"
     ]
    },
    {
     "name": "stdout",
     "output_type": "stream",
     "text": [
      "\n",
      "\n",
      "\n",
      "\n",
      "hunter college cuny hunter\n",
      "0: the college of wooster | 1: uei college ontario | 2: cuny hunter college | "
     ]
    },
    {
     "name": "stdin",
     "output_type": "stream",
     "text": [
      " \n"
     ]
    },
    {
     "name": "stdout",
     "output_type": "stream",
     "text": [
      "\n",
      "\n",
      "\n",
      "\n",
      "illinois institute of technology illinois tech\n",
      "0: illinois institute of technology | 1: florida institute of technology online | 2: erie institute of technology inc | "
     ]
    },
    {
     "name": "stdin",
     "output_type": "stream",
     "text": [
      " 0\n"
     ]
    },
    {
     "name": "stdout",
     "output_type": "stream",
     "text": [
      "illinois institute of technology\n",
      "\n",
      "\n",
      "\n",
      "\n",
      "indiana university bloomington indiana\n",
      "0: indiana university bloomington | 1: indiana university kokomo | 2: indiana university south bend | "
     ]
    },
    {
     "name": "stdin",
     "output_type": "stream",
     "text": [
      " 0\n"
     ]
    },
    {
     "name": "stdout",
     "output_type": "stream",
     "text": [
      "indiana university bloomington\n",
      "\n",
      "\n",
      "\n",
      "\n",
      "indiana university northwest iu northwest\n",
      "0: indiana university northwest | 1: indiana university southeast | 2: indiana university east | "
     ]
    },
    {
     "name": "stdin",
     "output_type": "stream",
     "text": [
      " 0\n"
     ]
    },
    {
     "name": "stdout",
     "output_type": "stream",
     "text": [
      "indiana university northwest\n",
      "\n",
      "\n",
      "\n",
      "\n",
      "indiana university of pennsylvania iup\n",
      "0: indiana university of pennsylvania main campus | 1: edinboro university of pennsylvania | 2: university of pennsylvania | "
     ]
    },
    {
     "name": "stdin",
     "output_type": "stream",
     "text": [
      " 0\n"
     ]
    },
    {
     "name": "stdout",
     "output_type": "stream",
     "text": [
      "indiana university of pennsylvania main campus\n",
      "\n",
      "\n",
      "\n",
      "\n",
      "james a rhodes state college\n",
      "0: james a. rhodes state college | 1: rose state college | 2: stark state college | "
     ]
    },
    {
     "name": "stdin",
     "output_type": "stream",
     "text": [
      " 0\n"
     ]
    },
    {
     "name": "stdout",
     "output_type": "stream",
     "text": [
      "james a. rhodes state college\n",
      "\n",
      "\n",
      "\n",
      "\n",
      "jarvis christian college\n",
      "0: ozark christian college | 1: carolina christian college | 2: kansas christian college | "
     ]
    },
    {
     "name": "stdin",
     "output_type": "stream",
     "text": [
      " \n"
     ]
    },
    {
     "name": "stdout",
     "output_type": "stream",
     "text": [
      "\n",
      "\n",
      "\n",
      "\n",
      "jessup university\n",
      "0: ecpi university | 1: william jessup university | 2: messiah university | "
     ]
    },
    {
     "name": "stdin",
     "output_type": "stream",
     "text": [
      " \n"
     ]
    },
    {
     "name": "stdout",
     "output_type": "stream",
     "text": [
      "\n",
      "\n",
      "\n",
      "\n",
      "johnson and wales university charlotte\n",
      "0: johnson wales university charlotte | 1: johnson wales university online | 2: johnson wales university providence | "
     ]
    },
    {
     "name": "stdin",
     "output_type": "stream",
     "text": [
      " 0\n"
     ]
    },
    {
     "name": "stdout",
     "output_type": "stream",
     "text": [
      "johnson wales university charlotte\n",
      "\n",
      "\n",
      "\n",
      "\n",
      "johnson and wales university providence\n",
      "0: johnson wales university providence | 1: johnson wales university online | 2: johnson wales university charlotte | "
     ]
    },
    {
     "name": "stdin",
     "output_type": "stream",
     "text": [
      " 0\n"
     ]
    },
    {
     "name": "stdout",
     "output_type": "stream",
     "text": [
      "johnson wales university providence\n",
      "\n",
      "\n",
      "\n",
      "\n",
      "juilliard school\n",
      "0: the juilliard school | 1: illinois media school | 2: ukiah adult school | "
     ]
    },
    {
     "name": "stdin",
     "output_type": "stream",
     "text": [
      " 0\n"
     ]
    },
    {
     "name": "stdout",
     "output_type": "stream",
     "text": [
      "the juilliard school\n",
      "\n",
      "\n",
      "\n",
      "\n",
      "kent state university\n",
      "0: kentucky state university | 1: central state university | 2: minot state university | "
     ]
    },
    {
     "name": "stdin",
     "output_type": "stream",
     "text": [
      " \n"
     ]
    },
    {
     "name": "stdout",
     "output_type": "stream",
     "text": [
      "\n",
      "\n",
      "\n",
      "\n",
      "king university tennessee\n",
      "0: devry university tennessee | 1: strayer university tennessee | 2: king university | "
     ]
    },
    {
     "name": "stdin",
     "output_type": "stream",
     "text": [
      " 2\n"
     ]
    },
    {
     "name": "stdout",
     "output_type": "stream",
     "text": [
      "king university\n",
      "\n",
      "\n",
      "\n",
      "\n",
      "kings college london\n",
      "0: king's college | 1: fortis college landover | 2: hocking college | "
     ]
    },
    {
     "name": "stdin",
     "output_type": "stream",
     "text": [
      " 0\n"
     ]
    },
    {
     "name": "stdout",
     "output_type": "stream",
     "text": [
      "king's college\n",
      "\n",
      "\n",
      "\n",
      "\n",
      "kings college new york\n",
      "0: berkeley college new york | 1: devry college of new york | 2: king's college | "
     ]
    },
    {
     "name": "stdin",
     "output_type": "stream",
     "text": [
      " \n"
     ]
    },
    {
     "name": "stdout",
     "output_type": "stream",
     "text": [
      "\n",
      "\n",
      "\n",
      "\n",
      "kings college pennsylvania\n",
      "0: york college of pennsylvania | 1: ross college sylvania | 2: king's college | "
     ]
    },
    {
     "name": "stdin",
     "output_type": "stream",
     "text": [
      " \n"
     ]
    },
    {
     "name": "stdout",
     "output_type": "stream",
     "text": [
      "\n",
      "\n",
      "\n",
      "\n",
      "kings university texas\n",
      "0: king university | 1: strayer university texas | 2: devry university texas | "
     ]
    },
    {
     "name": "stdin",
     "output_type": "stream",
     "text": [
      " \n"
     ]
    },
    {
     "name": "stdout",
     "output_type": "stream",
     "text": [
      "\n",
      "\n",
      "\n",
      "\n",
      "laboure college\n",
      "0: tabor college | 1: laurus college | 2: laredo college | "
     ]
    },
    {
     "name": "stdin",
     "output_type": "stream",
     "text": [
      " \n"
     ]
    },
    {
     "name": "stdout",
     "output_type": "stream",
     "text": [
      "\n",
      "\n",
      "\n",
      "\n",
      "lac courte oreilles ojibwe college\n",
      "0: lac courte oreilles ojibwe university | 1: porterville college | 2: lancaster bible college | "
     ]
    },
    {
     "name": "stdin",
     "output_type": "stream",
     "text": [
      " 0\n"
     ]
    },
    {
     "name": "stdout",
     "output_type": "stream",
     "text": [
      "lac courte oreilles ojibwe university\n",
      "\n",
      "\n",
      "\n",
      "\n",
      "laguna college of art and design lcad\n",
      "0: laguna college of art and design | 1: savannah college of art and design | 2: delaware college of art and design | "
     ]
    },
    {
     "name": "stdin",
     "output_type": "stream",
     "text": [
      " 0\n"
     ]
    },
    {
     "name": "stdout",
     "output_type": "stream",
     "text": [
      "laguna college of art and design\n",
      "\n",
      "\n",
      "\n",
      "\n",
      "landing school\n",
      "0: the landing school | 1: modern welding school | 2: edp school | "
     ]
    },
    {
     "name": "stdin",
     "output_type": "stream",
     "text": [
      " 0\n"
     ]
    },
    {
     "name": "stdout",
     "output_type": "stream",
     "text": [
      "the landing school\n",
      "\n",
      "\n",
      "\n",
      "\n",
      "laurel technical institute hermitage\n",
      "0: laurel technical institute | 1: lincoln technical institute new britain | 2: career technical institute | "
     ]
    },
    {
     "name": "stdin",
     "output_type": "stream",
     "text": [
      " 0\n"
     ]
    },
    {
     "name": "stdout",
     "output_type": "stream",
     "text": [
      "laurel technical institute\n",
      "\n",
      "\n",
      "\n",
      "\n",
      "laurel technical institute meadville\n",
      "0: laurel technical institute | 1: lincoln technical institute somerville | 2: career technical institute | "
     ]
    },
    {
     "name": "stdin",
     "output_type": "stream",
     "text": [
      " \n"
     ]
    },
    {
     "name": "stdout",
     "output_type": "stream",
     "text": [
      "\n",
      "\n",
      "\n",
      "\n",
      "life pacific college\n",
      "0: pacific college | 1: los angeles pacific college | 2: pacific oaks college | "
     ]
    },
    {
     "name": "stdin",
     "output_type": "stream",
     "text": [
      " \n"
     ]
    },
    {
     "name": "stdout",
     "output_type": "stream",
     "text": [
      "\n",
      "\n",
      "\n",
      "\n",
      "lincoln university california\n",
      "0: dominican university of california | 1: touro university california | 2: chamberlain university california | "
     ]
    },
    {
     "name": "stdin",
     "output_type": "stream",
     "text": [
      " \n"
     ]
    },
    {
     "name": "stdout",
     "output_type": "stream",
     "text": [
      "\n",
      "\n",
      "\n",
      "\n",
      "lincoln university missouri\n",
      "0: lincoln university | 1: chamberlain university missouri | 2: devry university missouri | "
     ]
    },
    {
     "name": "stdin",
     "output_type": "stream",
     "text": [
      " \n"
     ]
    },
    {
     "name": "stdout",
     "output_type": "stream",
     "text": [
      "\n",
      "\n",
      "\n",
      "\n",
      "lincoln university pennsylvania\n",
      "0: clarion university of pennsylvania | 1: california university of pennsylvania | 2: edinboro university of pennsylvania | "
     ]
    },
    {
     "name": "stdin",
     "output_type": "stream",
     "text": [
      " \n"
     ]
    },
    {
     "name": "stdout",
     "output_type": "stream",
     "text": [
      "\n",
      "\n",
      "\n",
      "\n",
      "linfield college\n",
      "0: springfield college | 1: bloomfield college | 2: mayfield college | "
     ]
    },
    {
     "name": "stdin",
     "output_type": "stream",
     "text": [
      " \n"
     ]
    },
    {
     "name": "stdout",
     "output_type": "stream",
     "text": [
      "\n",
      "\n",
      "\n",
      "\n",
      "luther rice college and seminary\n",
      "0: luther rice college seminary | 1: holy apostles college and seminary | 2: bethlehem college seminary | "
     ]
    },
    {
     "name": "stdin",
     "output_type": "stream",
     "text": [
      " 0\n"
     ]
    },
    {
     "name": "stdout",
     "output_type": "stream",
     "text": [
      "luther rice college seminary\n",
      "\n",
      "\n",
      "\n",
      "\n",
      "magdalen college of the liberal arts\n",
      "0: massachusetts college of liberal arts | 1: thomas more college of liberal arts | 2: american college of the building arts | "
     ]
    },
    {
     "name": "stdin",
     "output_type": "stream",
     "text": [
      " \n"
     ]
    },
    {
     "name": "stdout",
     "output_type": "stream",
     "text": [
      "\n",
      "\n",
      "\n",
      "\n",
      "manchester community college connecticut\n",
      "0: manchester community college | 1: austin community college district | 2: eastern iowa community college district | "
     ]
    },
    {
     "name": "stdin",
     "output_type": "stream",
     "text": [
      " 0\n"
     ]
    },
    {
     "name": "stdout",
     "output_type": "stream",
     "text": [
      "manchester community college\n",
      "\n",
      "\n",
      "\n",
      "\n",
      "manchester community college new hampshire\n",
      "0: manchester community college | 1: southeast community college area | 2: suny westchester community college | "
     ]
    },
    {
     "name": "stdin",
     "output_type": "stream",
     "text": [
      " \n"
     ]
    },
    {
     "name": "stdout",
     "output_type": "stream",
     "text": [
      "\n",
      "\n",
      "\n",
      "\n",
      "marian university indiana\n",
      "0: chamberlain university indiana | 1: marian university | 2: martin university | "
     ]
    },
    {
     "name": "stdin",
     "output_type": "stream",
     "text": [
      " 1\n"
     ]
    },
    {
     "name": "stdout",
     "output_type": "stream",
     "text": [
      "marian university\n",
      "\n",
      "\n",
      "\n",
      "\n",
      "marian university wisconsin\n",
      "0: rasmussen university wisconsin | 1: concordia university wisconsin | 2: marian university | "
     ]
    },
    {
     "name": "stdin",
     "output_type": "stream",
     "text": [
      " \n"
     ]
    },
    {
     "name": "stdout",
     "output_type": "stream",
     "text": [
      "\n",
      "\n",
      "\n",
      "\n",
      "maryland institute college of art mica\n",
      "0: maryland institute college of art | 1: maine college of art design | 2: rabbinical college of america | "
     ]
    },
    {
     "name": "stdin",
     "output_type": "stream",
     "text": [
      " 0\n"
     ]
    },
    {
     "name": "stdout",
     "output_type": "stream",
     "text": [
      "maryland institute college of art\n",
      "\n",
      "\n",
      "\n",
      "\n",
      "maryville university\n",
      "0: cedarville university | 1: medaille university | 2: mars hill university | "
     ]
    },
    {
     "name": "stdin",
     "output_type": "stream",
     "text": [
      " \n"
     ]
    },
    {
     "name": "stdout",
     "output_type": "stream",
     "text": [
      "\n",
      "\n",
      "\n",
      "\n",
      "massachusetts college of pharmacy and health sciences mcphs\n",
      "0: albany college of pharmacy and health sciences | 1: massachusetts college of art and design | 2: the christ college of nursing and health sciences | "
     ]
    },
    {
     "name": "stdin",
     "output_type": "stream",
     "text": [
      " \n"
     ]
    },
    {
     "name": "stdout",
     "output_type": "stream",
     "text": [
      "\n",
      "\n",
      "\n",
      "\n",
      "massachusetts institute of technology mit\n",
      "0: massachusetts institute of technology | 1: sae institute of technology miami | 2: ace institute of technology | "
     ]
    },
    {
     "name": "stdin",
     "output_type": "stream",
     "text": [
      " 0\n"
     ]
    },
    {
     "name": "stdout",
     "output_type": "stream",
     "text": [
      "massachusetts institute of technology\n",
      "\n",
      "\n",
      "\n",
      "\n",
      "miami international university of art and design art institute dallas\n",
      "0: miami international university of art design art institute dallas | 1: ai miami international university of art and design | 2: international culinary arts and sciences institute | "
     ]
    },
    {
     "name": "stdin",
     "output_type": "stream",
     "text": [
      " 0\n"
     ]
    },
    {
     "name": "stdout",
     "output_type": "stream",
     "text": [
      "miami international university of art design art institute dallas\n",
      "\n",
      "\n",
      "\n",
      "\n",
      "miami university\n",
      "0: midway university | 1: martin university | 2: marian university | "
     ]
    },
    {
     "name": "stdin",
     "output_type": "stream",
     "text": [
      " \n"
     ]
    },
    {
     "name": "stdout",
     "output_type": "stream",
     "text": [
      "\n",
      "\n",
      "\n",
      "\n",
      "middlesex community college connecticut\n",
      "0: middlesex community college | 1: miles community college | 2: wilkes community college | "
     ]
    },
    {
     "name": "stdin",
     "output_type": "stream",
     "text": [
      " 0\n"
     ]
    },
    {
     "name": "stdout",
     "output_type": "stream",
     "text": [
      "middlesex community college\n",
      "\n",
      "\n",
      "\n",
      "\n",
      "middlesex community college massachusetts\n",
      "0: middlesex community college | 1: miles community college | 2: wilkes community college | "
     ]
    },
    {
     "name": "stdin",
     "output_type": "stream",
     "text": [
      " \n"
     ]
    },
    {
     "name": "stdout",
     "output_type": "stream",
     "text": [
      "\n",
      "\n",
      "\n",
      "\n",
      "millersville university\n",
      "0: campbellsville university | 1: cedarville university | 2: medaille university | "
     ]
    },
    {
     "name": "stdin",
     "output_type": "stream",
     "text": [
      " \n"
     ]
    },
    {
     "name": "stdout",
     "output_type": "stream",
     "text": [
      "\n",
      "\n",
      "\n",
      "\n",
      "mills college northeastern university\n",
      "0: mills college at northeastern university | 1: northeastern university | 2: southeastern university | "
     ]
    },
    {
     "name": "stdin",
     "output_type": "stream",
     "text": [
      " 0\n"
     ]
    },
    {
     "name": "stdout",
     "output_type": "stream",
     "text": [
      "mills college at northeastern university\n",
      "\n",
      "\n",
      "\n",
      "\n",
      "milwaukee institute of art and design\n",
      "0: milwaukee institute of art design | 1: hawaii institute of hair design | 2: durant institute of hair design | "
     ]
    },
    {
     "name": "stdin",
     "output_type": "stream",
     "text": [
      " 0\n"
     ]
    },
    {
     "name": "stdout",
     "output_type": "stream",
     "text": [
      "milwaukee institute of art design\n",
      "\n",
      "\n",
      "\n",
      "\n",
      "minnesota north college hibbing\n",
      "0: minnesota north college | 1: minnesota north college   vermilion | 2: minnesota north college   itasca | "
     ]
    },
    {
     "name": "stdin",
     "output_type": "stream",
     "text": [
      " 0\n"
     ]
    },
    {
     "name": "stdout",
     "output_type": "stream",
     "text": [
      "minnesota north college\n",
      "\n",
      "\n",
      "\n",
      "\n",
      "minnesota north college itasca\n",
      "0: minnesota north college   itasca | 1: minnesota north college | 2: minnesota north college   vermilion | "
     ]
    },
    {
     "name": "stdin",
     "output_type": "stream",
     "text": [
      " 0\n"
     ]
    },
    {
     "name": "stdout",
     "output_type": "stream",
     "text": [
      "minnesota north college   itasca\n",
      "\n",
      "\n",
      "\n",
      "\n",
      "minnesota north college mesabi range virginia\n",
      "0: minnesota north college   mesabi range virginia | 1: minnesota north college   vermilion | 2: minnesota north college   rainy river | "
     ]
    },
    {
     "name": "stdin",
     "output_type": "stream",
     "text": [
      " 0\n"
     ]
    },
    {
     "name": "stdout",
     "output_type": "stream",
     "text": [
      "minnesota north college   mesabi range virginia\n",
      "\n",
      "\n",
      "\n",
      "\n",
      "minnesota north college rainy river\n",
      "0: minnesota north college   rainy river | 1: minnesota north college   vermilion | 2: minnesota north college | "
     ]
    },
    {
     "name": "stdin",
     "output_type": "stream",
     "text": [
      " 0\n"
     ]
    },
    {
     "name": "stdout",
     "output_type": "stream",
     "text": [
      "minnesota north college   rainy river\n",
      "\n",
      "\n",
      "\n",
      "\n",
      "missouri university of science technology missouri s t\n",
      "0: missouri university of science and technology | 1: harrisburg university of science and technology | 2: california university of science and medicine | "
     ]
    },
    {
     "name": "stdin",
     "output_type": "stream",
     "text": [
      " 0\n"
     ]
    },
    {
     "name": "stdout",
     "output_type": "stream",
     "text": [
      "missouri university of science and technology\n",
      "\n",
      "\n",
      "\n",
      "\n",
      "modern college of design\n",
      "0: the modern college of design | 1: model college of hair design | 2: maine college of art design | "
     ]
    },
    {
     "name": "stdin",
     "output_type": "stream",
     "text": [
      " 0\n"
     ]
    },
    {
     "name": "stdout",
     "output_type": "stream",
     "text": [
      "the modern college of design\n",
      "\n",
      "\n",
      "\n",
      "\n",
      "molloy university\n",
      "0: emory university | 1: malone university | 2: lesley university | "
     ]
    },
    {
     "name": "stdin",
     "output_type": "stream",
     "text": [
      " \n"
     ]
    },
    {
     "name": "stdout",
     "output_type": "stream",
     "text": [
      "\n",
      "\n",
      "\n",
      "\n",
      "monmouth college illinois\n",
      "0: monmouth college | 1: south college nashville | 2: south college asheville | "
     ]
    },
    {
     "name": "stdin",
     "output_type": "stream",
     "text": [
      " 0\n"
     ]
    },
    {
     "name": "stdout",
     "output_type": "stream",
     "text": [
      "monmouth college\n",
      "\n",
      "\n",
      "\n",
      "\n",
      "monmouth university new jersey\n",
      "0: strayer university new jersey | 1: monmouth university | 2: devry university new jersey | "
     ]
    },
    {
     "name": "stdin",
     "output_type": "stream",
     "text": [
      " \n"
     ]
    },
    {
     "name": "stdout",
     "output_type": "stream",
     "text": [
      "\n",
      "\n",
      "\n",
      "\n",
      "montana tech of the university of montana montana tech\n",
      "0: the university of montana western | 1: the university of montana | 2: helena college university of montana | "
     ]
    },
    {
     "name": "stdin",
     "output_type": "stream",
     "text": [
      " \n"
     ]
    },
    {
     "name": "stdout",
     "output_type": "stream",
     "text": [
      "\n",
      "\n",
      "\n",
      "\n",
      "mount saint mary university\n",
      "0: mount saint mary's university | 1: mount st. mary's university | 2: mount mary university | "
     ]
    },
    {
     "name": "stdin",
     "output_type": "stream",
     "text": [
      " \n"
     ]
    },
    {
     "name": "stdout",
     "output_type": "stream",
     "text": [
      "\n",
      "\n",
      "\n",
      "\n",
      "mount st mary university\n",
      "0: mount st. mary's university | 1: mount mary university | 2: mount marty university | "
     ]
    },
    {
     "name": "stdin",
     "output_type": "stream",
     "text": [
      " \n"
     ]
    },
    {
     "name": "stdout",
     "output_type": "stream",
     "text": [
      "\n",
      "\n",
      "\n",
      "\n",
      "nazareth university\n",
      "0: niagara university | 1: averett university | 2: lamar university | "
     ]
    },
    {
     "name": "stdin",
     "output_type": "stream",
     "text": [
      " \n"
     ]
    },
    {
     "name": "stdout",
     "output_type": "stream",
     "text": [
      "\n",
      "\n",
      "\n",
      "\n",
      "nebraska methodist college of nursing and allied health\n",
      "0: nebraska methodist college of nursing allied health | 1: westchester college of nursing allied health | 2: los angeles county college of nursing and allied health | "
     ]
    },
    {
     "name": "stdin",
     "output_type": "stream",
     "text": [
      " 0\n"
     ]
    },
    {
     "name": "stdout",
     "output_type": "stream",
     "text": [
      "nebraska methodist college of nursing allied health\n",
      "\n",
      "\n",
      "\n",
      "\n",
      "new england conservatory of music\n",
      "0: the new england conservatory of music | 1: puerto rico conservatory of music | 2: the recording conservatory of austin | "
     ]
    },
    {
     "name": "stdin",
     "output_type": "stream",
     "text": [
      " 0\n"
     ]
    },
    {
     "name": "stdout",
     "output_type": "stream",
     "text": [
      "the new england conservatory of music\n",
      "\n",
      "\n",
      "\n",
      "\n",
      "new jersey institute of technology njit\n",
      "0: new jersey institute of technology | 1: new york institute of technology | 2: erie institute of technology inc | "
     ]
    },
    {
     "name": "stdin",
     "output_type": "stream",
     "text": [
      " 0\n"
     ]
    },
    {
     "name": "stdout",
     "output_type": "stream",
     "text": [
      "new jersey institute of technology\n",
      "\n",
      "\n",
      "\n",
      "\n",
      "new mexico institute of mining and technology new mexico tech\n",
      "0: new mexico institute of mining and technology | 1: sae institute of technology new york | 2: new york institute of technology | "
     ]
    },
    {
     "name": "stdin",
     "output_type": "stream",
     "text": [
      " 0\n"
     ]
    },
    {
     "name": "stdout",
     "output_type": "stream",
     "text": [
      "new mexico institute of mining and technology\n",
      "\n",
      "\n",
      "\n",
      "\n",
      "new school\n",
      "0: the new school | 1: edp school | 2: stewart school | "
     ]
    },
    {
     "name": "stdin",
     "output_type": "stream",
     "text": [
      " 0\n"
     ]
    },
    {
     "name": "stdout",
     "output_type": "stream",
     "text": [
      "the new school\n",
      "\n",
      "\n",
      "\n",
      "\n",
      "new york institute of technology nyit\n",
      "0: new york institute of technology | 1: new jersey institute of technology | 2: erie institute of technology inc | "
     ]
    },
    {
     "name": "stdin",
     "output_type": "stream",
     "text": [
      " 0\n"
     ]
    },
    {
     "name": "stdout",
     "output_type": "stream",
     "text": [
      "new york institute of technology\n",
      "\n",
      "\n",
      "\n",
      "\n",
      "nhti concord community college\n",
      "0: nhti concord's community college | 1: mt hood community college | 2: hinds community college | "
     ]
    },
    {
     "name": "stdin",
     "output_type": "stream",
     "text": [
      " 0\n"
     ]
    },
    {
     "name": "stdout",
     "output_type": "stream",
     "text": [
      "nhti concord's community college\n",
      "\n",
      "\n",
      "\n",
      "\n",
      "north carolina a t state university n c a t\n",
      "0: north carolina a t state university | 1: north carolina state university at raleigh | 2: south carolina state university | "
     ]
    },
    {
     "name": "stdin",
     "output_type": "stream",
     "text": [
      " 0\n"
     ]
    },
    {
     "name": "stdout",
     "output_type": "stream",
     "text": [
      "north carolina a t state university\n",
      "\n",
      "\n",
      "\n",
      "\n",
      "north coast college\n",
      "0: the north coast college | 1: south coast college | 2: northwest college | "
     ]
    },
    {
     "name": "stdin",
     "output_type": "stream",
     "text": [
      " 0\n"
     ]
    },
    {
     "name": "stdout",
     "output_type": "stream",
     "text": [
      "the north coast college\n",
      "\n",
      "\n",
      "\n",
      "\n",
      "northeastern oklahoma a and m college\n",
      "0: northeastern oklahoma a&m college | 1: northern oklahoma college | 2: eastern oklahoma state college | "
     ]
    },
    {
     "name": "stdin",
     "output_type": "stream",
     "text": [
      " 0\n"
     ]
    },
    {
     "name": "stdout",
     "output_type": "stream",
     "text": [
      "northeastern oklahoma a&m college\n",
      "\n",
      "\n",
      "\n",
      "\n",
      "northwest college of art and design\n",
      "0: northwest college of art design | 1: otis college of art and design | 2: moore college of art and design | "
     ]
    },
    {
     "name": "stdin",
     "output_type": "stream",
     "text": [
      " 0\n"
     ]
    },
    {
     "name": "stdout",
     "output_type": "stream",
     "text": [
      "northwest college of art design\n",
      "\n",
      "\n",
      "\n",
      "\n",
      "northwestern college illinois\n",
      "0: northwestern college | 1: northwest college hillsboro | 2: northwest college tualatin | "
     ]
    },
    {
     "name": "stdin",
     "output_type": "stream",
     "text": [
      " \n"
     ]
    },
    {
     "name": "stdout",
     "output_type": "stream",
     "text": [
      "\n",
      "\n",
      "\n",
      "\n",
      "ohio university\n",
      "0: iona university | 1: johnson university | 2: union university | "
     ]
    },
    {
     "name": "stdin",
     "output_type": "stream",
     "text": [
      " \n"
     ]
    },
    {
     "name": "stdout",
     "output_type": "stream",
     "text": [
      "\n",
      "\n",
      "\n",
      "\n",
      "ohio valley university\n",
      "0: utah valley university | 1: ohio wesleyan university | 2: allen university | "
     ]
    },
    {
     "name": "stdin",
     "output_type": "stream",
     "text": [
      " \n"
     ]
    },
    {
     "name": "stdout",
     "output_type": "stream",
     "text": [
      "\n",
      "\n",
      "\n",
      "\n",
      "oregon institute of technology oregon tech\n",
      "0: oregon institute of technology | 1: morrison institute of technology | 2: erie institute of technology inc | "
     ]
    },
    {
     "name": "stdin",
     "output_type": "stream",
     "text": [
      " 0\n"
     ]
    },
    {
     "name": "stdout",
     "output_type": "stream",
     "text": [
      "oregon institute of technology\n",
      "\n",
      "\n",
      "\n",
      "\n",
      "pacific college of health and science california\n",
      "0: pacific college of health and science | 1: mayo clinic college of medicine and science   florida | 2: mayo clinic college of medicine and science   arizona | "
     ]
    },
    {
     "name": "stdin",
     "output_type": "stream",
     "text": [
      " 0\n"
     ]
    },
    {
     "name": "stdout",
     "output_type": "stream",
     "text": [
      "pacific college of health and science\n",
      "\n",
      "\n",
      "\n",
      "\n",
      "pacific college of health and science new york\n",
      "0: pacific college of health and science | 1: american college of healthcare sciences | 2: mercy college of health sciences | "
     ]
    },
    {
     "name": "stdin",
     "output_type": "stream",
     "text": [
      " \n"
     ]
    },
    {
     "name": "stdout",
     "output_type": "stream",
     "text": [
      "\n",
      "\n",
      "\n",
      "\n",
      "pacific northwest college of art pnca\n",
      "0: pacific northwest college of art | 1: northwest college of art design | 2: pacific northwest christian college | "
     ]
    },
    {
     "name": "stdin",
     "output_type": "stream",
     "text": [
      " 0\n"
     ]
    },
    {
     "name": "stdout",
     "output_type": "stream",
     "text": [
      "pacific northwest college of art\n",
      "\n",
      "\n",
      "\n",
      "\n",
      "paul smiths college\n",
      "0: smith college | 1: philander smith college | 2: paul quinn college | "
     ]
    },
    {
     "name": "stdin",
     "output_type": "stream",
     "text": [
      " \n"
     ]
    },
    {
     "name": "stdout",
     "output_type": "stream",
     "text": [
      "\n",
      "\n",
      "\n",
      "\n",
      "penn commercial business technical school\n",
      "0: penn commercial business/technical school | 1: clinton technical school | 2: upper cape cod regional technical school | "
     ]
    },
    {
     "name": "stdin",
     "output_type": "stream",
     "text": [
      " 0\n"
     ]
    },
    {
     "name": "stdout",
     "output_type": "stream",
     "text": [
      "penn commercial business/technical school\n",
      "\n",
      "\n",
      "\n",
      "\n",
      "penn state brandywine\n"
     ]
    },
    {
     "name": "stdin",
     "output_type": "stream",
     "text": [
      " \n"
     ]
    },
    {
     "name": "stdout",
     "output_type": "stream",
     "text": [
      "\n",
      "\n",
      "\n",
      "\n",
      "pennsylvania college of technology penn tech\n",
      "0: pennsylvania college of technology | 1: pennsylvania college of health sciences | 2: suny college of technology at delhi | "
     ]
    },
    {
     "name": "stdin",
     "output_type": "stream",
     "text": [
      " 0\n"
     ]
    },
    {
     "name": "stdout",
     "output_type": "stream",
     "text": [
      "pennsylvania college of technology\n",
      "\n",
      "\n",
      "\n",
      "\n",
      "pennsylvania state university penn state\n",
      "0: pennsylvania state university penn state york | 1: pennsylvania state university penn state berks | 2: pennsylvania state university penn state dubois | "
     ]
    },
    {
     "name": "stdin",
     "output_type": "stream",
     "text": [
      " \n"
     ]
    },
    {
     "name": "stdout",
     "output_type": "stream",
     "text": [
      "\n",
      "\n",
      "\n",
      "\n",
      "pennsylvania western university california\n",
      "0: pennsylvania state university world campus | 1: pennsylvania state university penn state altoona | 2: pennsylvania state university dickinson law | "
     ]
    },
    {
     "name": "stdin",
     "output_type": "stream",
     "text": [
      " \n"
     ]
    },
    {
     "name": "stdout",
     "output_type": "stream",
     "text": [
      "\n",
      "\n",
      "\n",
      "\n",
      "pennsylvania western university clarion\n",
      "0: pennsylvania state university dickinson law | 1: the pennsylvania state university | 2: indiana wesleyan university marion | "
     ]
    },
    {
     "name": "stdin",
     "output_type": "stream",
     "text": [
      " \n"
     ]
    },
    {
     "name": "stdout",
     "output_type": "stream",
     "text": [
      "\n",
      "\n",
      "\n",
      "\n",
      "pennwest edinboro\n"
     ]
    },
    {
     "name": "stdin",
     "output_type": "stream",
     "text": [
      " \n"
     ]
    },
    {
     "name": "stdout",
     "output_type": "stream",
     "text": [
      "\n",
      "\n",
      "\n",
      "\n",
      "pierce college fort steilacoom\n",
      "0: pierce college district | 1: interactive college of technology | 2: jersey college   fort wayne | "
     ]
    },
    {
     "name": "stdin",
     "output_type": "stream",
     "text": [
      " \n"
     ]
    },
    {
     "name": "stdout",
     "output_type": "stream",
     "text": [
      "\n",
      "\n",
      "\n",
      "\n",
      "pikes peak community college\n",
      "0: wilkes community college | 1: pima community college | 2: mesa community college | "
     ]
    },
    {
     "name": "stdin",
     "output_type": "stream",
     "text": [
      " \n"
     ]
    },
    {
     "name": "stdout",
     "output_type": "stream",
     "text": [
      "\n",
      "\n",
      "\n",
      "\n",
      "pine technical and community college\n",
      "0: pine technical community college | 1: springfield technical community college | 2: wake technical community college | "
     ]
    },
    {
     "name": "stdin",
     "output_type": "stream",
     "text": [
      " 0\n"
     ]
    },
    {
     "name": "stdout",
     "output_type": "stream",
     "text": [
      "pine technical community college\n",
      "\n",
      "\n",
      "\n",
      "\n",
      "pratt institute\n",
      "0: pratt institute main | 1: praxis institute | 2: abcott institute | "
     ]
    },
    {
     "name": "stdin",
     "output_type": "stream",
     "text": [
      " 0\n"
     ]
    },
    {
     "name": "stdout",
     "output_type": "stream",
     "text": [
      "pratt institute main\n",
      "\n",
      "\n",
      "\n",
      "\n",
      "prince george community college\n",
      "0: prince george's community college | 1: rogue community college | 2: patrick henry community college | "
     ]
    },
    {
     "name": "stdin",
     "output_type": "stream",
     "text": [
      " 0\n"
     ]
    },
    {
     "name": "stdout",
     "output_type": "stream",
     "text": [
      "prince george's community college\n",
      "\n",
      "\n",
      "\n",
      "\n",
      "purdue university\n",
      "0: duke university | 1: lourdes university | 2: rider university | "
     ]
    },
    {
     "name": "stdin",
     "output_type": "stream",
     "text": [
      " \n"
     ]
    },
    {
     "name": "stdout",
     "output_type": "stream",
     "text": [
      "\n",
      "\n",
      "\n",
      "\n",
      "ramapo college of new jersey rcnj\n",
      "0: ramapo college of new jersey | 1: the college of new jersey | 2: vermont college of fine arts | "
     ]
    },
    {
     "name": "stdin",
     "output_type": "stream",
     "text": [
      " 0\n"
     ]
    },
    {
     "name": "stdout",
     "output_type": "stream",
     "text": [
      "ramapo college of new jersey\n",
      "\n",
      "\n",
      "\n",
      "\n",
      "regis college massachusetts\n",
      "0: wheaton college (massachusetts) | 1: uei college sacramento | 2: uei college mesa | "
     ]
    },
    {
     "name": "stdin",
     "output_type": "stream",
     "text": [
      " \n"
     ]
    },
    {
     "name": "stdout",
     "output_type": "stream",
     "text": [
      "\n",
      "\n",
      "\n",
      "\n",
      "rhode island school of design risd\n",
      "0: rhode island school of design | 1: new england school of hair design | 2: rhode island college | "
     ]
    },
    {
     "name": "stdin",
     "output_type": "stream",
     "text": [
      " 0\n"
     ]
    },
    {
     "name": "stdout",
     "output_type": "stream",
     "text": [
      "rhode island school of design\n",
      "\n",
      "\n",
      "\n",
      "\n",
      "robert morris university rmu pennsylvania\n",
      "0: strayer university pennsylvania | 1: devry university pennsylvania | 2: robert morris university | "
     ]
    },
    {
     "name": "stdin",
     "output_type": "stream",
     "text": [
      " 2\n"
     ]
    },
    {
     "name": "stdout",
     "output_type": "stream",
     "text": [
      "robert morris university\n",
      "\n",
      "\n",
      "\n",
      "\n",
      "rochester college\n",
      "0: goucher college | 1: charter college | 2: southwestern college | "
     ]
    },
    {
     "name": "stdin",
     "output_type": "stream",
     "text": [
      " \n"
     ]
    },
    {
     "name": "stdout",
     "output_type": "stream",
     "text": [
      "\n",
      "\n",
      "\n",
      "\n",
      "rochester institute of technology rit\n",
      "0: rochester institute of technology | 1: ace institute of technology | 2: erie institute of technology inc | "
     ]
    },
    {
     "name": "stdin",
     "output_type": "stream",
     "text": [
      " 0\n"
     ]
    },
    {
     "name": "stdout",
     "output_type": "stream",
     "text": [
      "rochester institute of technology\n",
      "\n",
      "\n",
      "\n",
      "\n",
      "rose hulman institute of technology rhit\n",
      "0: rose hulman institute of technology | 1: lamar institute of technology | 2: sae institute of technology chicago | "
     ]
    },
    {
     "name": "stdin",
     "output_type": "stream",
     "text": [
      " 0\n"
     ]
    },
    {
     "name": "stdout",
     "output_type": "stream",
     "text": [
      "rose hulman institute of technology\n",
      "\n",
      "\n",
      "\n",
      "\n",
      "rowan college south jersey cumberland campus\n",
      "0: rowan college of south jersey cumberland campus | 1: rowan college of south jersey gloucester campus | 2: remington college cleveland campus | "
     ]
    },
    {
     "name": "stdin",
     "output_type": "stream",
     "text": [
      " 0\n"
     ]
    },
    {
     "name": "stdout",
     "output_type": "stream",
     "text": [
      "rowan college of south jersey cumberland campus\n",
      "\n",
      "\n",
      "\n",
      "\n",
      "rutgers university new brunswick rutgers\n",
      "0: rutgers university new brunswick | 1: rutgers university newark | 2: rutgers university camden | "
     ]
    },
    {
     "name": "stdin",
     "output_type": "stream",
     "text": [
      " 0\n"
     ]
    },
    {
     "name": "stdout",
     "output_type": "stream",
     "text": [
      "rutgers university new brunswick\n",
      "\n",
      "\n",
      "\n",
      "\n",
      "saint augustine s university\n",
      "0: saint augustine's university | 1: saint martin's university | 2: saint louis university | "
     ]
    },
    {
     "name": "stdin",
     "output_type": "stream",
     "text": [
      " 0\n"
     ]
    },
    {
     "name": "stdout",
     "output_type": "stream",
     "text": [
      "saint augustine's university\n",
      "\n",
      "\n",
      "\n",
      "\n",
      "saint johns university minnesota\n",
      "0: saint mary's university of minnesota | 1: saint johns university | 2: st. john's university new york | "
     ]
    },
    {
     "name": "stdin",
     "output_type": "stream",
     "text": [
      " 1\n"
     ]
    },
    {
     "name": "stdout",
     "output_type": "stream",
     "text": [
      "saint johns university\n",
      "\n",
      "\n",
      "\n",
      "\n",
      "saint joseph college of maine\n",
      "0: saint joseph's college of maine | 1: st. joseph's college of nursing | 2: saint mary's college of california | "
     ]
    },
    {
     "name": "stdin",
     "output_type": "stream",
     "text": [
      " 0\n"
     ]
    },
    {
     "name": "stdout",
     "output_type": "stream",
     "text": [
      "saint joseph's college of maine\n",
      "\n",
      "\n",
      "\n",
      "\n",
      "saint martin s university st martin s\n",
      "0: saint martin's university | 1: saint mary's university of minnesota | 2: saint augustine's university | "
     ]
    },
    {
     "name": "stdin",
     "output_type": "stream",
     "text": [
      " 0\n"
     ]
    },
    {
     "name": "stdout",
     "output_type": "stream",
     "text": [
      "saint martin's university\n",
      "\n",
      "\n",
      "\n",
      "\n",
      "saint mary s college indiana\n",
      "0: saint mary's college | 1: saint mary's college of california | 2: mount saint mary college | "
     ]
    },
    {
     "name": "stdin",
     "output_type": "stream",
     "text": [
      " 0\n"
     ]
    },
    {
     "name": "stdout",
     "output_type": "stream",
     "text": [
      "saint mary's college\n",
      "\n",
      "\n",
      "\n",
      "\n",
      "saint mary s college of california st mary s\n",
      "0: saint mary's college of california | 1: st. mary's college of maryland | 2: saint michael college of allied health | "
     ]
    },
    {
     "name": "stdin",
     "output_type": "stream",
     "text": [
      " 0\n"
     ]
    },
    {
     "name": "stdout",
     "output_type": "stream",
     "text": [
      "saint mary's college of california\n",
      "\n",
      "\n",
      "\n",
      "\n",
      "saint mary university of minnesota\n",
      "0: saint mary's university of minnesota | 1: university of minnesota morris | 2: university of minnesota duluth | "
     ]
    },
    {
     "name": "stdin",
     "output_type": "stream",
     "text": [
      " 0\n"
     ]
    },
    {
     "name": "stdout",
     "output_type": "stream",
     "text": [
      "saint mary's university of minnesota\n",
      "\n",
      "\n",
      "\n",
      "\n",
      "saint peter university\n",
      "0: saint peter's university | 1: saint leo university | 2: saint xavier university | "
     ]
    },
    {
     "name": "stdin",
     "output_type": "stream",
     "text": [
      " 0\n"
     ]
    },
    {
     "name": "stdout",
     "output_type": "stream",
     "text": [
      "saint peter's university\n",
      "\n",
      "\n",
      "\n",
      "\n",
      "savannah college of art and design scad\n",
      "0: savannah college of art and design | 1: laguna college of art and design | 2: pennsylvania college of art and design | "
     ]
    },
    {
     "name": "stdin",
     "output_type": "stream",
     "text": [
      " 0\n"
     ]
    },
    {
     "name": "stdout",
     "output_type": "stream",
     "text": [
      "savannah college of art and design\n",
      "\n",
      "\n",
      "\n",
      "\n",
      "school of the art institute of chicago saic\n",
      "0: school of the art institute of chicago | 1: the art institute of austin | 2: the art institute of houston | "
     ]
    },
    {
     "name": "stdin",
     "output_type": "stream",
     "text": [
      " 0\n"
     ]
    },
    {
     "name": "stdout",
     "output_type": "stream",
     "text": [
      "school of the art institute of chicago\n",
      "\n",
      "\n",
      "\n",
      "\n",
      "schoolcraft college\n",
      "0: st olaf college | 1: shorter college | 2: chipola college | "
     ]
    },
    {
     "name": "stdin",
     "output_type": "stream",
     "text": [
      " \n"
     ]
    },
    {
     "name": "stdout",
     "output_type": "stream",
     "text": [
      "\n",
      "\n",
      "\n",
      "\n",
      "seminar l moros bais yaakov\n",
      "0: seminar l'moros bais yaakov | "
     ]
    },
    {
     "name": "stdin",
     "output_type": "stream",
     "text": [
      " 0\n"
     ]
    },
    {
     "name": "stdout",
     "output_type": "stream",
     "text": [
      "seminar l'moros bais yaakov\n",
      "\n",
      "\n",
      "\n",
      "\n",
      "sewanee the university of the south sewanee\n",
      "0: the university of the south | 1: university of the southwest | 2: the university of tennessee southern | "
     ]
    },
    {
     "name": "stdin",
     "output_type": "stream",
     "text": [
      " 0\n"
     ]
    },
    {
     "name": "stdout",
     "output_type": "stream",
     "text": [
      "the university of the south\n",
      "\n",
      "\n",
      "\n",
      "\n",
      "sh or yoshuv rabbinical college\n",
      "0: sh'or yoshuv rabbinical college | 1: ner israel rabbinical college | 2: yeshiva of nitra rabbinical college | "
     ]
    },
    {
     "name": "stdin",
     "output_type": "stream",
     "text": [
      " 0\n"
     ]
    },
    {
     "name": "stdout",
     "output_type": "stream",
     "text": [
      "sh'or yoshuv rabbinical college\n",
      "\n",
      "\n",
      "\n",
      "\n",
      "south hills school of business and technology\n",
      "0: south hills school of business technology | 1: south hills school of business and technology altoona | 2: south dakota school of mines and technology | "
     ]
    },
    {
     "name": "stdin",
     "output_type": "stream",
     "text": [
      " 0\n"
     ]
    },
    {
     "name": "stdout",
     "output_type": "stream",
     "text": [
      "south hills school of business technology\n",
      "\n",
      "\n",
      "\n",
      "\n",
      "southeast kentucky community and technical college\n",
      "0: southeast kentucky community technical college | 1: southcentral kentucky community and technical college | 2: west kentucky community and technical college | "
     ]
    },
    {
     "name": "stdin",
     "output_type": "stream",
     "text": [
      " 0\n"
     ]
    },
    {
     "name": "stdout",
     "output_type": "stream",
     "text": [
      "southeast kentucky community technical college\n",
      "\n",
      "\n",
      "\n",
      "\n",
      "southeastern community college iowa\n",
      "0: southeastern community college | 1: southwestern community college | 2: southeast community college area | "
     ]
    },
    {
     "name": "stdin",
     "output_type": "stream",
     "text": [
      " 0\n"
     ]
    },
    {
     "name": "stdout",
     "output_type": "stream",
     "text": [
      "southeastern community college\n",
      "\n",
      "\n",
      "\n",
      "\n",
      "southeastern community college north carolina\n",
      "0: southeast community college area | 1: southeastern community college | 2: southwestern community college | "
     ]
    },
    {
     "name": "stdin",
     "output_type": "stream",
     "text": [
      " \n"
     ]
    },
    {
     "name": "stdout",
     "output_type": "stream",
     "text": [
      "\n",
      "\n",
      "\n",
      "\n",
      "southern baptist theological seminary\n",
      "0: the southern baptist theological seminary | 1: southeastern baptist theological seminary | 2: northern baptist theological seminary | "
     ]
    },
    {
     "name": "stdin",
     "output_type": "stream",
     "text": [
      " 0\n"
     ]
    },
    {
     "name": "stdout",
     "output_type": "stream",
     "text": [
      "the southern baptist theological seminary\n",
      "\n",
      "\n",
      "\n",
      "\n",
      "southern illinois university carbondale siu\n",
      "0: southern illinois university carbondale | 1: southern illinois university edwardsville | 2: northern illinois university | "
     ]
    },
    {
     "name": "stdin",
     "output_type": "stream",
     "text": [
      " 0\n"
     ]
    },
    {
     "name": "stdout",
     "output_type": "stream",
     "text": [
      "southern illinois university carbondale\n",
      "\n",
      "\n",
      "\n",
      "\n",
      "southern university and a and m college\n",
      "0: southern university and a m college | 1: southern university at new orleans | 2: southern university law center | "
     ]
    },
    {
     "name": "stdin",
     "output_type": "stream",
     "text": [
      " 0\n"
     ]
    },
    {
     "name": "stdout",
     "output_type": "stream",
     "text": [
      "southern university and a m college\n",
      "\n",
      "\n",
      "\n",
      "\n",
      "southwest collegiate institute for the deaf\n",
      "0: southwest college for the deaf | 1: southwest institute of healing arts | 2: northwest college medford | "
     ]
    },
    {
     "name": "stdin",
     "output_type": "stream",
     "text": [
      " 0\n"
     ]
    },
    {
     "name": "stdout",
     "output_type": "stream",
     "text": [
      "southwest college for the deaf\n",
      "\n",
      "\n",
      "\n",
      "\n",
      "southwestern college california\n",
      "0: southeastern college columbia | 1: southwestern college | 2: southeastern college charleston | "
     ]
    },
    {
     "name": "stdin",
     "output_type": "stream",
     "text": [
      " 1\n"
     ]
    },
    {
     "name": "stdout",
     "output_type": "stream",
     "text": [
      "southwestern college\n",
      "\n",
      "\n",
      "\n",
      "\n",
      "southwestern college kansas\n",
      "0: southwestern college | 1: southeastern college miami lakes | 2: northwestern college | "
     ]
    },
    {
     "name": "stdin",
     "output_type": "stream",
     "text": [
      " \n"
     ]
    },
    {
     "name": "stdout",
     "output_type": "stream",
     "text": [
      "\n",
      "\n",
      "\n",
      "\n",
      "southwestern community college iowa\n",
      "0: southwestern community college | 1: southeastern community college | 2: southeast community college area | "
     ]
    },
    {
     "name": "stdin",
     "output_type": "stream",
     "text": [
      " 0\n"
     ]
    },
    {
     "name": "stdout",
     "output_type": "stream",
     "text": [
      "southwestern community college\n",
      "\n",
      "\n",
      "\n",
      "\n",
      "southwestern community college north carolina\n",
      "0: southwestern community college | 1: southeast community college area | 2: southeastern community college | "
     ]
    },
    {
     "name": "stdin",
     "output_type": "stream",
     "text": [
      " \n"
     ]
    },
    {
     "name": "stdout",
     "output_type": "stream",
     "text": [
      "\n",
      "\n",
      "\n",
      "\n",
      "spartan college of aeronautics and technology colorado\n",
      "0: spartan college of aeronautics and technology | 1: spartan college of aeronautics technology | 2: vaughn college of aeronautics and technology | "
     ]
    },
    {
     "name": "stdin",
     "output_type": "stream",
     "text": [
      " \n"
     ]
    },
    {
     "name": "stdout",
     "output_type": "stream",
     "text": [
      "\n",
      "\n",
      "\n",
      "\n",
      "spartan college of aeronautics and technology oklahoma\n",
      "0: spartan college of aeronautics and technology | 1: spartan college of aeronautics technology | 2: vaughn college of aeronautics and technology | "
     ]
    },
    {
     "name": "stdin",
     "output_type": "stream",
     "text": [
      " \n"
     ]
    },
    {
     "name": "stdout",
     "output_type": "stream",
     "text": [
      "\n",
      "\n",
      "\n",
      "\n",
      "st andrews university\n",
      "0: st. andrews university | 1: andrews university | 2: drew university | "
     ]
    },
    {
     "name": "stdin",
     "output_type": "stream",
     "text": [
      " 0\n"
     ]
    },
    {
     "name": "stdout",
     "output_type": "stream",
     "text": [
      "st. andrews university\n",
      "\n",
      "\n",
      "\n",
      "\n",
      "st augustine college\n",
      "0: st. augustine college | 1: austin college | 2: augustana college | "
     ]
    },
    {
     "name": "stdin",
     "output_type": "stream",
     "text": [
      " 0\n"
     ]
    },
    {
     "name": "stdout",
     "output_type": "stream",
     "text": [
      "st. augustine college\n",
      "\n",
      "\n",
      "\n",
      "\n",
      "st edward s university\n",
      "0: saint edward's university | 1: edward waters university | 2: st. mary's university | "
     ]
    },
    {
     "name": "stdin",
     "output_type": "stream",
     "text": [
      " 0\n"
     ]
    },
    {
     "name": "stdout",
     "output_type": "stream",
     "text": [
      "saint edward's university\n",
      "\n",
      "\n",
      "\n",
      "\n",
      "st francis college pennsylvania\n",
      "0: york college of pennsylvania | 1: ross college sylvania | 2: st. francis college | "
     ]
    },
    {
     "name": "stdin",
     "output_type": "stream",
     "text": [
      " 2\n"
     ]
    },
    {
     "name": "stdout",
     "output_type": "stream",
     "text": [
      "st. francis college\n",
      "\n",
      "\n",
      "\n",
      "\n",
      "st john fisher university\n",
      "0: st. john fisher university | 1: saint johns university | 2: johnson university | "
     ]
    },
    {
     "name": "stdin",
     "output_type": "stream",
     "text": [
      " 0\n"
     ]
    },
    {
     "name": "stdout",
     "output_type": "stream",
     "text": [
      "st. john fisher university\n",
      "\n",
      "\n",
      "\n",
      "\n",
      "st john s college sjc maryland\n",
      "0: st. mary's college of maryland | 1: st. john vianney college seminary | 2: st. john's college | "
     ]
    },
    {
     "name": "stdin",
     "output_type": "stream",
     "text": [
      " \n"
     ]
    },
    {
     "name": "stdout",
     "output_type": "stream",
     "text": [
      "\n",
      "\n",
      "\n",
      "\n",
      "st john s university new york\n",
      "0: st. john's university new york | 1: st. joseph's university new york | 2: dominican university new york | "
     ]
    },
    {
     "name": "stdin",
     "output_type": "stream",
     "text": [
      " 0\n"
     ]
    },
    {
     "name": "stdout",
     "output_type": "stream",
     "text": [
      "st. john's university new york\n",
      "\n",
      "\n",
      "\n",
      "\n",
      "st john vianney college seminary\n",
      "0: st. john vianney college seminary | 1: san joaquin valley college madera | 2: san joaquin valley college ontario | "
     ]
    },
    {
     "name": "stdin",
     "output_type": "stream",
     "text": [
      " 0\n"
     ]
    },
    {
     "name": "stdout",
     "output_type": "stream",
     "text": [
      "st. john vianney college seminary\n",
      "\n",
      "\n",
      "\n",
      "\n",
      "st joseph college of nursing\n",
      "0: st. joseph's college of nursing | 1: st joseph school of nursing | 2: research college of nursing | "
     ]
    },
    {
     "name": "stdin",
     "output_type": "stream",
     "text": [
      " 0\n"
     ]
    },
    {
     "name": "stdout",
     "output_type": "stream",
     "text": [
      "st. joseph's college of nursing\n",
      "\n",
      "\n",
      "\n",
      "\n",
      "st joseph s university sju\n",
      "0: saint joseph's university | 1: st. joseph's university new york | 2: saint johns university | "
     ]
    },
    {
     "name": "stdin",
     "output_type": "stream",
     "text": [
      " 0\n"
     ]
    },
    {
     "name": "stdout",
     "output_type": "stream",
     "text": [
      "saint joseph's university\n",
      "\n",
      "\n",
      "\n",
      "\n",
      "st louis college of pharmacy\n",
      "0: appalachian college of pharmacy | 1: st louis college of health careers fenton | 2: san joaquin college of law | "
     ]
    },
    {
     "name": "stdin",
     "output_type": "stream",
     "text": [
      " \n"
     ]
    },
    {
     "name": "stdout",
     "output_type": "stream",
     "text": [
      "\n",
      "\n",
      "\n",
      "\n",
      "st luke college\n",
      "0: st luke's college | 1: st olaf college | 2: salem college | "
     ]
    },
    {
     "name": "stdin",
     "output_type": "stream",
     "text": [
      " 0\n"
     ]
    },
    {
     "name": "stdout",
     "output_type": "stream",
     "text": [
      "st luke's college\n",
      "\n",
      "\n",
      "\n",
      "\n",
      "st mary s college of maryland\n",
      "0: st. mary's college of maryland | 1: allegany college of maryland | 2: maria college of albany | "
     ]
    },
    {
     "name": "stdin",
     "output_type": "stream",
     "text": [
      " 0\n"
     ]
    },
    {
     "name": "stdout",
     "output_type": "stream",
     "text": [
      "st. mary's college of maryland\n",
      "\n",
      "\n",
      "\n",
      "\n",
      "st mary s university texas\n",
      "0: strayer university texas | 1: st. mary's university | 2: devry university texas | "
     ]
    },
    {
     "name": "stdin",
     "output_type": "stream",
     "text": [
      " \n"
     ]
    },
    {
     "name": "stdout",
     "output_type": "stream",
     "text": [
      "\n",
      "\n",
      "\n",
      "\n",
      "st michael s college\n",
      "0: saint michael's college | 1: mitchell college | 2: best care college | "
     ]
    },
    {
     "name": "stdin",
     "output_type": "stream",
     "text": [
      " 0\n"
     ]
    },
    {
     "name": "stdout",
     "output_type": "stream",
     "text": [
      "saint michael's college\n",
      "\n",
      "\n",
      "\n",
      "\n",
      "st paul school of nursing queens\n",
      "0: st paul's school of nursing queens | 1: st paul's school of nursing staten island | 2: st joseph school of nursing | "
     ]
    },
    {
     "name": "stdin",
     "output_type": "stream",
     "text": [
      " 0\n"
     ]
    },
    {
     "name": "stdout",
     "output_type": "stream",
     "text": [
      "st paul's school of nursing queens\n",
      "\n",
      "\n",
      "\n",
      "\n",
      "st peter hospital college of nursing\n",
      "0: st. peter's hospital college of nursing | 1: st lukes hospital school of nursing | 2: st. joseph's college of nursing | "
     ]
    },
    {
     "name": "stdin",
     "output_type": "stream",
     "text": [
      " 0\n"
     ]
    },
    {
     "name": "stdout",
     "output_type": "stream",
     "text": [
      "st. peter's hospital college of nursing\n",
      "\n",
      "\n",
      "\n",
      "\n",
      "st philips college\n",
      "0: st philip's college | 1: frank phillips college | 2: south plains college | "
     ]
    },
    {
     "name": "stdin",
     "output_type": "stream",
     "text": [
      " 0\n"
     ]
    },
    {
     "name": "stdout",
     "output_type": "stream",
     "text": [
      "st philip's college\n",
      "\n",
      "\n",
      "\n",
      "\n",
      "st thomas aquinas college\n",
      "0: st. thomas aquinas college | 1: thomas aquinas college | 2: aquinas college | "
     ]
    },
    {
     "name": "stdin",
     "output_type": "stream",
     "text": [
      " 0\n"
     ]
    },
    {
     "name": "stdout",
     "output_type": "stream",
     "text": [
      "st. thomas aquinas college\n",
      "\n",
      "\n",
      "\n",
      "\n",
      "st thomas university\n",
      "0: st. thomas university | 1: thomas university | 2: st. mary's university | "
     ]
    },
    {
     "name": "stdin",
     "output_type": "stream",
     "text": [
      " 0\n"
     ]
    },
    {
     "name": "stdout",
     "output_type": "stream",
     "text": [
      "st. thomas university\n",
      "\n",
      "\n",
      "\n",
      "\n",
      "sterling college kansas\n",
      "0: sterling college | 1: kettering college | 2: oberlin college | "
     ]
    },
    {
     "name": "stdin",
     "output_type": "stream",
     "text": [
      " \n"
     ]
    },
    {
     "name": "stdout",
     "output_type": "stream",
     "text": [
      "\n",
      "\n",
      "\n",
      "\n",
      "sterling college vermont\n",
      "0: sterling college | 1: kettering college | 2: oberlin college | "
     ]
    },
    {
     "name": "stdin",
     "output_type": "stream",
     "text": [
      " \n"
     ]
    },
    {
     "name": "stdout",
     "output_type": "stream",
     "text": [
      "\n",
      "\n",
      "\n",
      "\n",
      "stevens the institute of business and arts\n",
      "0: stevens the institute of business arts | 1: jna institute of culinary arts | 2: atlanta institute of music and media | "
     ]
    },
    {
     "name": "stdin",
     "output_type": "stream",
     "text": [
      " 0\n"
     ]
    },
    {
     "name": "stdout",
     "output_type": "stream",
     "text": [
      "stevens the institute of business arts\n",
      "\n",
      "\n",
      "\n",
      "\n",
      "suny college at brockport\n",
      "0: suny college at potsdam | 1: suny brockport | 2: suny college at geneseo | "
     ]
    },
    {
     "name": "stdin",
     "output_type": "stream",
     "text": [
      " 1\n"
     ]
    },
    {
     "name": "stdout",
     "output_type": "stream",
     "text": [
      "suny brockport\n",
      "\n",
      "\n",
      "\n",
      "\n",
      "suny college at oswego\n",
      "0: suny college at potsdam | 1: suny college at geneseo | 2: suny college at old westbury | "
     ]
    },
    {
     "name": "stdin",
     "output_type": "stream",
     "text": [
      " \n"
     ]
    },
    {
     "name": "stdout",
     "output_type": "stream",
     "text": [
      "\n",
      "\n",
      "\n",
      "\n",
      "suny college of environmental science and forestry suny esf\n",
      "0: suny college of environmental science and forestry | 1: aviator college of aeronautical science and technology | "
     ]
    },
    {
     "name": "stdin",
     "output_type": "stream",
     "text": [
      " 0\n"
     ]
    },
    {
     "name": "stdout",
     "output_type": "stream",
     "text": [
      "suny college of environmental science and forestry\n",
      "\n",
      "\n",
      "\n",
      "\n",
      "suny empire state college\n",
      "0: seminole state college | 1: prairie state college | 2: zane state college | "
     ]
    },
    {
     "name": "stdin",
     "output_type": "stream",
     "text": [
      " \n"
     ]
    },
    {
     "name": "stdout",
     "output_type": "stream",
     "text": [
      "\n",
      "\n",
      "\n",
      "\n",
      "texas a and m international university\n",
      "0: texas a m international university | 1: hope international university | 2: faith international university | "
     ]
    },
    {
     "name": "stdin",
     "output_type": "stream",
     "text": [
      " 0\n"
     ]
    },
    {
     "name": "stdout",
     "output_type": "stream",
     "text": [
      "texas a m international university\n",
      "\n",
      "\n",
      "\n",
      "\n",
      "texas a and m university san antonio\n",
      "0: texas a&m university san antonio | 1: strayer university san antonio | 2: ecpi university   san antonio | "
     ]
    },
    {
     "name": "stdin",
     "output_type": "stream",
     "text": [
      " 0\n"
     ]
    },
    {
     "name": "stdout",
     "output_type": "stream",
     "text": [
      "texas a&m university san antonio\n",
      "\n",
      "\n",
      "\n",
      "\n",
      "texas a and m university texarkana\n",
      "0: texas a&m university texarkana | 1: texas a m university commerce | 2: texas a m university kingsville | "
     ]
    },
    {
     "name": "stdin",
     "output_type": "stream",
     "text": [
      " 0\n"
     ]
    },
    {
     "name": "stdout",
     "output_type": "stream",
     "text": [
      "texas a&m university texarkana\n",
      "\n",
      "\n",
      "\n",
      "\n",
      "texas a m university\n",
      "0: west texas a m university | 1: texas state university | 2: texas tech university | "
     ]
    },
    {
     "name": "stdin",
     "output_type": "stream",
     "text": [
      " \n"
     ]
    },
    {
     "name": "stdout",
     "output_type": "stream",
     "text": [
      "\n",
      "\n",
      "\n",
      "\n",
      "texas woman s university twu\n",
      "0: texas woman's university | 1: texas wesleyan university | 2: texas state university | "
     ]
    },
    {
     "name": "stdin",
     "output_type": "stream",
     "text": [
      " 0\n"
     ]
    },
    {
     "name": "stdout",
     "output_type": "stream",
     "text": [
      "texas woman's university\n",
      "\n",
      "\n",
      "\n",
      "\n",
      "the citadel the military college of south carolina the citadel\n",
      "0: citadel military college of south carolina | "
     ]
    },
    {
     "name": "stdin",
     "output_type": "stream",
     "text": [
      " 0\n"
     ]
    },
    {
     "name": "stdout",
     "output_type": "stream",
     "text": [
      "citadel military college of south carolina\n",
      "\n",
      "\n",
      "\n",
      "\n",
      "the college of new jersey tcnj\n",
      "0: the college of new jersey | 1: ramapo college of new jersey | 2: the college of saint rose | "
     ]
    },
    {
     "name": "stdin",
     "output_type": "stream",
     "text": [
      " 0\n"
     ]
    },
    {
     "name": "stdout",
     "output_type": "stream",
     "text": [
      "the college of new jersey\n",
      "\n",
      "\n",
      "\n",
      "\n",
      "the masters university and seminary\n",
      "0: the master's university and seminary | 1: keiser university  miami | 2: kent state university at stark | "
     ]
    },
    {
     "name": "stdin",
     "output_type": "stream",
     "text": [
      " 0\n"
     ]
    },
    {
     "name": "stdout",
     "output_type": "stream",
     "text": [
      "the master's university and seminary\n",
      "\n",
      "\n",
      "\n",
      "\n",
      "the state university of new york at albany suny albany\n",
      "0: state university of new york at oswego | 1: state university of new york at new paltz | 2: the university of texas at dallas | "
     ]
    },
    {
     "name": "stdin",
     "output_type": "stream",
     "text": [
      " \n"
     ]
    },
    {
     "name": "stdout",
     "output_type": "stream",
     "text": [
      "\n",
      "\n",
      "\n",
      "\n",
      "the state university of new york at binghamton suny binghamton\n",
      "0: state university of new york at oswego | 1: state university of new york at new paltz | "
     ]
    },
    {
     "name": "stdin",
     "output_type": "stream",
     "text": [
      " \n"
     ]
    },
    {
     "name": "stdout",
     "output_type": "stream",
     "text": [
      "\n",
      "\n",
      "\n",
      "\n",
      "the state university of new york at geneseo suny geneseo\n",
      "0: state university of new york at oswego | 1: state university of new york at new paltz | 2: ohio state university newark campus | "
     ]
    },
    {
     "name": "stdin",
     "output_type": "stream",
     "text": [
      " \n"
     ]
    },
    {
     "name": "stdout",
     "output_type": "stream",
     "text": [
      "\n",
      "\n",
      "\n",
      "\n",
      "the state university of new york at stony brook suny stony brook\n",
      "0: state university of new york at oswego | 1: state university of new york at new paltz | "
     ]
    },
    {
     "name": "stdin",
     "output_type": "stream",
     "text": [
      " \n"
     ]
    },
    {
     "name": "stdout",
     "output_type": "stream",
     "text": [
      "\n",
      "\n",
      "\n",
      "\n",
      "the state university of new york polytechnic institute suny poly\n",
      "0: state university of new york at new paltz | 1: ohio state university agricultural technical institute | 2: state university of new york at oswego | "
     ]
    },
    {
     "name": "stdin",
     "output_type": "stream",
     "text": [
      " \n"
     ]
    },
    {
     "name": "stdout",
     "output_type": "stream",
     "text": [
      "\n",
      "\n",
      "\n",
      "\n",
      "touro college\n",
      "0: tabor college | 1: otero college | 2: norco college | "
     ]
    },
    {
     "name": "stdin",
     "output_type": "stream",
     "text": [
      " \n"
     ]
    },
    {
     "name": "stdout",
     "output_type": "stream",
     "text": [
      "\n",
      "\n",
      "\n",
      "\n",
      "trine university regional non traditional campuses\n",
      "0: trine university regional/non traditional campuses | 1: strayer university lithonia campus | 2: strayer university anne arundel campus | "
     ]
    },
    {
     "name": "stdin",
     "output_type": "stream",
     "text": [
      " 0\n"
     ]
    },
    {
     "name": "stdout",
     "output_type": "stream",
     "text": [
      "trine university regional/non traditional campuses\n",
      "\n",
      "\n",
      "\n",
      "\n",
      "troy university alabama\n",
      "0: strayer university alabama | 1: the university of alabama | 2: troy university | "
     ]
    },
    {
     "name": "stdin",
     "output_type": "stream",
     "text": [
      " \n"
     ]
    },
    {
     "name": "stdout",
     "output_type": "stream",
     "text": [
      "\n",
      "\n",
      "\n",
      "\n",
      "tulane university\n",
      "0: lander university | 1: trine university | 2: logan university | "
     ]
    },
    {
     "name": "stdin",
     "output_type": "stream",
     "text": [
      " \n"
     ]
    },
    {
     "name": "stdout",
     "output_type": "stream",
     "text": [
      "\n",
      "\n",
      "\n",
      "\n",
      "ucl university college london\n",
      "0: atlantic university college | 1: texas a m university college station | 2: university of puget sound | "
     ]
    },
    {
     "name": "stdin",
     "output_type": "stream",
     "text": [
      " \n"
     ]
    },
    {
     "name": "stdout",
     "output_type": "stream",
     "text": [
      "\n",
      "\n",
      "\n",
      "\n",
      "union college kentucky\n",
      "0: simmons college of kentucky | 1: union college | 2: uei college stockton | "
     ]
    },
    {
     "name": "stdin",
     "output_type": "stream",
     "text": [
      " \n"
     ]
    },
    {
     "name": "stdout",
     "output_type": "stream",
     "text": [
      "\n",
      "\n",
      "\n",
      "\n",
      "union college nebraska\n",
      "0: union college | 1: uei college mesa | 2: arizona college mesa | "
     ]
    },
    {
     "name": "stdin",
     "output_type": "stream",
     "text": [
      " \n"
     ]
    },
    {
     "name": "stdout",
     "output_type": "stream",
     "text": [
      "\n",
      "\n",
      "\n",
      "\n",
      "union college new york\n",
      "0: union college | 1: devry college of new york | 2: berkeley college new york | "
     ]
    },
    {
     "name": "stdin",
     "output_type": "stream",
     "text": [
      " \n"
     ]
    },
    {
     "name": "stdout",
     "output_type": "stream",
     "text": [
      "\n",
      "\n",
      "\n",
      "\n",
      "union institute and university\n",
      "0: union institute university | 1: long island university | 2: ohio christian university | "
     ]
    },
    {
     "name": "stdin",
     "output_type": "stream",
     "text": [
      " 0\n"
     ]
    },
    {
     "name": "stdout",
     "output_type": "stream",
     "text": [
      "union institute university\n",
      "\n",
      "\n",
      "\n",
      "\n",
      "united states air force academy air force\n",
      "0: united states air force academy | 1: united states sports academy | 2: united states naval academy | "
     ]
    },
    {
     "name": "stdin",
     "output_type": "stream",
     "text": [
      " 0\n"
     ]
    },
    {
     "name": "stdout",
     "output_type": "stream",
     "text": [
      "united states air force academy\n",
      "\n",
      "\n",
      "\n",
      "\n",
      "united states coast guard academy coast guard\n",
      "0: united states coast guard academy | 1: united states merchant marine academy | 2: united states naval academy | "
     ]
    },
    {
     "name": "stdin",
     "output_type": "stream",
     "text": [
      " 0\n"
     ]
    },
    {
     "name": "stdout",
     "output_type": "stream",
     "text": [
      "united states coast guard academy\n",
      "\n",
      "\n",
      "\n",
      "\n",
      "universidad ana g mendez carolina campus\n",
      "0: universidad ana g. mendez carolina campus | 1: universidad ana g. mendez gurabo campus | 2: universidad ana g. mendez cupey campus | "
     ]
    },
    {
     "name": "stdin",
     "output_type": "stream",
     "text": [
      " 0\n"
     ]
    },
    {
     "name": "stdout",
     "output_type": "stream",
     "text": [
      "universidad ana g. mendez carolina campus\n",
      "\n",
      "\n",
      "\n",
      "\n",
      "universidad ana g mendez cupey campus\n",
      "0: universidad ana g. mendez cupey campus | 1: universidad ana g. mendez gurabo campus | 2: universidad ana g. mendez carolina campus | "
     ]
    },
    {
     "name": "stdin",
     "output_type": "stream",
     "text": [
      " 0\n"
     ]
    },
    {
     "name": "stdout",
     "output_type": "stream",
     "text": [
      "universidad ana g. mendez cupey campus\n",
      "\n",
      "\n",
      "\n",
      "\n",
      "universidad ana g mendez gurabo campus\n",
      "0: universidad ana g. mendez gurabo campus | 1: universidad ana g. mendez cupey campus | 2: universidad ana g. mendez carolina campus | "
     ]
    },
    {
     "name": "stdin",
     "output_type": "stream",
     "text": [
      " 0\n"
     ]
    },
    {
     "name": "stdout",
     "output_type": "stream",
     "text": [
      "universidad ana g. mendez gurabo campus\n",
      "\n",
      "\n",
      "\n",
      "\n",
      "university of akron\n",
      "0: university of arizona | 1: university of oregon | 2: university of dayton | "
     ]
    },
    {
     "name": "stdin",
     "output_type": "stream",
     "text": [
      " \n"
     ]
    },
    {
     "name": "stdout",
     "output_type": "stream",
     "text": [
      "\n",
      "\n",
      "\n",
      "\n",
      "university of alabama\n",
      "0: the university of alabama | 1: university of west alabama | 2: university of south alabama | "
     ]
    },
    {
     "name": "stdin",
     "output_type": "stream",
     "text": [
      " 0\n"
     ]
    },
    {
     "name": "stdout",
     "output_type": "stream",
     "text": [
      "the university of alabama\n",
      "\n",
      "\n",
      "\n",
      "\n",
      "university of alabama at birmingham uab\n",
      "0: university of alabama at birmingham | 1: university of alabama in huntsville | 2: university of maine at farmington | "
     ]
    },
    {
     "name": "stdin",
     "output_type": "stream",
     "text": [
      " 0\n"
     ]
    },
    {
     "name": "stdout",
     "output_type": "stream",
     "text": [
      "university of alabama at birmingham\n",
      "\n",
      "\n",
      "\n",
      "\n",
      "university of alabama in huntsville uah\n",
      "0: university of alabama in huntsville | 1: university of alabama at birmingham | 2: university of louisville | "
     ]
    },
    {
     "name": "stdin",
     "output_type": "stream",
     "text": [
      " 0\n"
     ]
    },
    {
     "name": "stdout",
     "output_type": "stream",
     "text": [
      "university of alabama in huntsville\n",
      "\n",
      "\n",
      "\n",
      "\n",
      "university of alaska fairbanks uaf\n",
      "0: university of alaska fairbanks | 1: university of alaska southeast | 2: university of alaska anchorage | "
     ]
    },
    {
     "name": "stdin",
     "output_type": "stream",
     "text": [
      " 0\n"
     ]
    },
    {
     "name": "stdout",
     "output_type": "stream",
     "text": [
      "university of alaska fairbanks\n",
      "\n",
      "\n",
      "\n",
      "\n",
      "university of arkansas at little rock ua little rock\n",
      "0: university of arkansas at little rock | 1: university of arkansas at pine bluff | 2: university of arkansas at monticello | "
     ]
    },
    {
     "name": "stdin",
     "output_type": "stream",
     "text": [
      " 0\n"
     ]
    },
    {
     "name": "stdout",
     "output_type": "stream",
     "text": [
      "university of arkansas at little rock\n",
      "\n",
      "\n",
      "\n",
      "\n",
      "university of california berkeley uc berkeley\n",
      "0: university of california berkeley | 1: university of california merced | 2: university of california irvine | "
     ]
    },
    {
     "name": "stdin",
     "output_type": "stream",
     "text": [
      " 0\n"
     ]
    },
    {
     "name": "stdout",
     "output_type": "stream",
     "text": [
      "university of california berkeley\n",
      "\n",
      "\n",
      "\n",
      "\n",
      "university of california irvine uc irvine\n",
      "0: university of california irvine | 1: university of california merced | 2: university of california san diego | "
     ]
    },
    {
     "name": "stdin",
     "output_type": "stream",
     "text": [
      " 0\n"
     ]
    },
    {
     "name": "stdout",
     "output_type": "stream",
     "text": [
      "university of california irvine\n",
      "\n",
      "\n",
      "\n",
      "\n",
      "university of california los angeles ucla\n",
      "0: university of california los angeles | 1: university of california san diego | 2: university of california santa cruz | "
     ]
    },
    {
     "name": "stdin",
     "output_type": "stream",
     "text": [
      " 0\n"
     ]
    },
    {
     "name": "stdout",
     "output_type": "stream",
     "text": [
      "university of california los angeles\n",
      "\n",
      "\n",
      "\n",
      "\n",
      "university of california merced uc merced\n",
      "0: university of california merced | 1: university of california berkeley | 2: university of california riverside | "
     ]
    },
    {
     "name": "stdin",
     "output_type": "stream",
     "text": [
      " 0\n"
     ]
    },
    {
     "name": "stdout",
     "output_type": "stream",
     "text": [
      "university of california merced\n",
      "\n",
      "\n",
      "\n",
      "\n",
      "university of california riverside uc riverside\n",
      "0: university of california riverside | 1: university of california merced | 2: university of california irvine | "
     ]
    },
    {
     "name": "stdin",
     "output_type": "stream",
     "text": [
      " 0\n"
     ]
    },
    {
     "name": "stdout",
     "output_type": "stream",
     "text": [
      "university of california riverside\n",
      "\n",
      "\n",
      "\n",
      "\n",
      "university of california san diego ucsd\n",
      "0: university of california san diego | 1: university of california davis | 2: university of california santa cruz | "
     ]
    },
    {
     "name": "stdin",
     "output_type": "stream",
     "text": [
      " 0\n"
     ]
    },
    {
     "name": "stdout",
     "output_type": "stream",
     "text": [
      "university of california san diego\n",
      "\n",
      "\n",
      "\n",
      "\n",
      "university of california santa barbara ucsb\n",
      "0: university of california santa barbara | 1: university of california santa cruz | 2: university of california san francisco | "
     ]
    },
    {
     "name": "stdin",
     "output_type": "stream",
     "text": [
      " 0\n"
     ]
    },
    {
     "name": "stdout",
     "output_type": "stream",
     "text": [
      "university of california santa barbara\n",
      "\n",
      "\n",
      "\n",
      "\n",
      "university of california santa cruz ucsc\n",
      "0: university of california santa cruz | 1: university of california san francisco | 2: university of california santa barbara | "
     ]
    },
    {
     "name": "stdin",
     "output_type": "stream",
     "text": [
      " 0\n"
     ]
    },
    {
     "name": "stdout",
     "output_type": "stream",
     "text": [
      "university of california santa cruz\n",
      "\n",
      "\n",
      "\n",
      "\n",
      "university of central florida ucf\n",
      "0: university of central florida | 1: university of north florida | 2: university of central missouri | "
     ]
    },
    {
     "name": "stdin",
     "output_type": "stream",
     "text": [
      " 0\n"
     ]
    },
    {
     "name": "stdout",
     "output_type": "stream",
     "text": [
      "university of central florida\n",
      "\n",
      "\n",
      "\n",
      "\n",
      "university of charleston west virginia\n",
      "0: university of charleston | 1: university of east west medicine | 2: university of houston victoria | "
     ]
    },
    {
     "name": "stdin",
     "output_type": "stream",
     "text": [
      " 0\n"
     ]
    },
    {
     "name": "stdout",
     "output_type": "stream",
     "text": [
      "university of charleston\n",
      "\n",
      "\n",
      "\n",
      "\n",
      "university of cincinnati\n",
      "0: university of indianapolis | 1: university of cincinnati main campus | 2: university of chicago | "
     ]
    },
    {
     "name": "stdin",
     "output_type": "stream",
     "text": [
      " 1\n"
     ]
    },
    {
     "name": "stdout",
     "output_type": "stream",
     "text": [
      "university of cincinnati main campus\n",
      "\n",
      "\n",
      "\n",
      "\n",
      "university of colorado boulder cu boulder\n",
      "0: university of colorado boulder | 1: university of colorado colorado springs | 2: university of california merced | "
     ]
    },
    {
     "name": "stdin",
     "output_type": "stream",
     "text": [
      " 0\n"
     ]
    },
    {
     "name": "stdout",
     "output_type": "stream",
     "text": [
      "university of colorado boulder\n",
      "\n",
      "\n",
      "\n",
      "\n",
      "university of colorado denver cu denver\n",
      "0: university of colorado boulder | 1: university of la verne | 2: university of colorado denver/anschutz medical campus | "
     ]
    },
    {
     "name": "stdin",
     "output_type": "stream",
     "text": [
      " 2\n"
     ]
    },
    {
     "name": "stdout",
     "output_type": "stream",
     "text": [
      "university of colorado denver/anschutz medical campus\n",
      "\n",
      "\n",
      "\n",
      "\n",
      "university of connecticut uconn\n",
      "0: university of connecticut | 1: university of connecticut stamford | 2: university of connecticut avery point | "
     ]
    },
    {
     "name": "stdin",
     "output_type": "stream",
     "text": [
      " 0\n"
     ]
    },
    {
     "name": "stdout",
     "output_type": "stream",
     "text": [
      "university of connecticut\n",
      "\n",
      "\n",
      "\n",
      "\n",
      "university of findlay\n",
      "0: the university of findlay | 1: university of idaho | 2: university of dayton | "
     ]
    },
    {
     "name": "stdin",
     "output_type": "stream",
     "text": [
      " 0\n"
     ]
    },
    {
     "name": "stdout",
     "output_type": "stream",
     "text": [
      "the university of findlay\n",
      "\n",
      "\n",
      "\n",
      "\n",
      "university of hawaii at manoa uh manoa\n",
      "0: university of hawaii at manoa | 1: university of hawaii at hilo | 2: university of hawaii west oahu | "
     ]
    },
    {
     "name": "stdin",
     "output_type": "stream",
     "text": [
      " 0\n"
     ]
    },
    {
     "name": "stdout",
     "output_type": "stream",
     "text": [
      "university of hawaii at manoa\n",
      "\n",
      "\n",
      "\n",
      "\n",
      "university of illinois at chicago uic\n",
      "0: university of illinois chicago | 1: university of illinois urbana champaign | 2: university of illinois springfield | "
     ]
    },
    {
     "name": "stdin",
     "output_type": "stream",
     "text": [
      " 0\n"
     ]
    },
    {
     "name": "stdout",
     "output_type": "stream",
     "text": [
      "university of illinois chicago\n",
      "\n",
      "\n",
      "\n",
      "\n",
      "university of illinois at springfield\n",
      "0: university of illinois springfield | 1: university of illinois chicago | 2: university of west los angeles | "
     ]
    },
    {
     "name": "stdin",
     "output_type": "stream",
     "text": [
      " 0\n"
     ]
    },
    {
     "name": "stdout",
     "output_type": "stream",
     "text": [
      "university of illinois springfield\n",
      "\n",
      "\n",
      "\n",
      "\n",
      "university of illinois at urbana champaign uiuc\n",
      "0: university of illinois urbana champaign | 1: university of illinois chicago | 2: university of illinois springfield | "
     ]
    },
    {
     "name": "stdin",
     "output_type": "stream",
     "text": [
      " 0\n"
     ]
    },
    {
     "name": "stdout",
     "output_type": "stream",
     "text": [
      "university of illinois urbana champaign\n",
      "\n",
      "\n",
      "\n",
      "\n",
      "university of louisiana at lafayette ul lafayette\n",
      "0: university of louisiana at lafayette | 1: university of louisiana at monroe | 2: university of louisville | "
     ]
    },
    {
     "name": "stdin",
     "output_type": "stream",
     "text": [
      " 0\n"
     ]
    },
    {
     "name": "stdout",
     "output_type": "stream",
     "text": [
      "university of louisiana at lafayette\n",
      "\n",
      "\n",
      "\n",
      "\n",
      "university of louisiana at monroe ulm\n",
      "0: university of louisiana at monroe | 1: university of louisiana at lafayette | 2: university of arkansas at monticello | "
     ]
    },
    {
     "name": "stdin",
     "output_type": "stream",
     "text": [
      " 0\n"
     ]
    },
    {
     "name": "stdout",
     "output_type": "stream",
     "text": [
      "university of louisiana at monroe\n",
      "\n",
      "\n",
      "\n",
      "\n",
      "university of maine at farmington umf\n",
      "0: university of maine at farmington | 1: university of maine at fort kent | 2: university of maine at augusta | "
     ]
    },
    {
     "name": "stdin",
     "output_type": "stream",
     "text": [
      " 0\n"
     ]
    },
    {
     "name": "stdout",
     "output_type": "stream",
     "text": [
      "university of maine at farmington\n",
      "\n",
      "\n",
      "\n",
      "\n",
      "university of maine at machias\n",
      "0: university of maine   machias | 1: university of maine at augusta | 2: university of maine at farmington | "
     ]
    },
    {
     "name": "stdin",
     "output_type": "stream",
     "text": [
      " 0\n"
     ]
    },
    {
     "name": "stdout",
     "output_type": "stream",
     "text": [
      "university of maine   machias\n",
      "\n",
      "\n",
      "\n",
      "\n",
      "university of maryland baltimore county umbc\n",
      "0: university of maryland baltimore county | 1: university of maryland baltimore | 2: university of maryland global campus | "
     ]
    },
    {
     "name": "stdin",
     "output_type": "stream",
     "text": [
      " 0\n"
     ]
    },
    {
     "name": "stdout",
     "output_type": "stream",
     "text": [
      "university of maryland baltimore county\n",
      "\n",
      "\n",
      "\n",
      "\n",
      "university of maryland college park maryland\n",
      "0: university of maryland college park | 1: university of maryland eastern shore | 2: university of arkansas community college morrilton | "
     ]
    },
    {
     "name": "stdin",
     "output_type": "stream",
     "text": [
      " 0\n"
     ]
    },
    {
     "name": "stdout",
     "output_type": "stream",
     "text": [
      "university of maryland college park\n",
      "\n",
      "\n",
      "\n",
      "\n",
      "university of maryland eastern shore umes\n",
      "0: university of maryland eastern shore | 1: university of maryland baltimore | 2: university of maryland baltimore county | "
     ]
    },
    {
     "name": "stdin",
     "output_type": "stream",
     "text": [
      " 0\n"
     ]
    },
    {
     "name": "stdout",
     "output_type": "stream",
     "text": [
      "university of maryland eastern shore\n",
      "\n",
      "\n",
      "\n",
      "\n",
      "university of massachusetts amherst umass amherst\n",
      "0: university of massachusetts amherst | 1: university of massachusetts dartmouth | 2: university of massachusetts boston | "
     ]
    },
    {
     "name": "stdin",
     "output_type": "stream",
     "text": [
      " 0\n"
     ]
    },
    {
     "name": "stdout",
     "output_type": "stream",
     "text": [
      "university of massachusetts amherst\n",
      "\n",
      "\n",
      "\n",
      "\n",
      "university of massachusetts boston umass boston\n",
      "0: university of massachusetts boston | 1: university of massachusetts chan medical school | 2: university of massachusetts global | "
     ]
    },
    {
     "name": "stdin",
     "output_type": "stream",
     "text": [
      " 0\n"
     ]
    },
    {
     "name": "stdout",
     "output_type": "stream",
     "text": [
      "university of massachusetts boston\n",
      "\n",
      "\n",
      "\n",
      "\n",
      "university of massachusetts dartmouth umass dartmouth\n",
      "0: university of massachusetts dartmouth | 1: university of massachusetts amherst | 2: university of massachusetts boston | "
     ]
    },
    {
     "name": "stdin",
     "output_type": "stream",
     "text": [
      " 0\n"
     ]
    },
    {
     "name": "stdout",
     "output_type": "stream",
     "text": [
      "university of massachusetts dartmouth\n",
      "\n",
      "\n",
      "\n",
      "\n",
      "university of massachusetts lowell umass lowell\n",
      "0: university of massachusetts lowell | 1: university of massachusetts global | 2: university of massachusetts boston | "
     ]
    },
    {
     "name": "stdin",
     "output_type": "stream",
     "text": [
      " 0\n"
     ]
    },
    {
     "name": "stdout",
     "output_type": "stream",
     "text": [
      "university of massachusetts lowell\n",
      "\n",
      "\n",
      "\n",
      "\n",
      "university of michigan\n",
      "0: university of michigan flint | 1: university of chicago | 2: university of michigan dearborn | "
     ]
    },
    {
     "name": "stdin",
     "output_type": "stream",
     "text": [
      " 0\n"
     ]
    },
    {
     "name": "stdout",
     "output_type": "stream",
     "text": [
      "university of michigan flint\n",
      "\n",
      "\n",
      "\n",
      "\n",
      "university of minnesota duluth umd\n",
      "0: university of minnesota duluth | 1: university of minnesota morris | 2: university of minnesota twin cities | "
     ]
    },
    {
     "name": "stdin",
     "output_type": "stream",
     "text": [
      " 0\n"
     ]
    },
    {
     "name": "stdout",
     "output_type": "stream",
     "text": [
      "university of minnesota duluth\n",
      "\n",
      "\n",
      "\n",
      "\n",
      "university of minnesota twin cities minnesota\n",
      "0: university of minnesota twin cities | 1: university of minnesota rochester | 2: university of minnesota morris | "
     ]
    },
    {
     "name": "stdin",
     "output_type": "stream",
     "text": [
      " 0\n"
     ]
    },
    {
     "name": "stdout",
     "output_type": "stream",
     "text": [
      "university of minnesota twin cities\n",
      "\n",
      "\n",
      "\n",
      "\n",
      "university of missouri kansas city umkc\n",
      "0: university of missouri kansas city | 1: university of missouri st louis | 2: university of missouri columbia | "
     ]
    },
    {
     "name": "stdin",
     "output_type": "stream",
     "text": [
      " 0\n"
     ]
    },
    {
     "name": "stdout",
     "output_type": "stream",
     "text": [
      "university of missouri kansas city\n",
      "\n",
      "\n",
      "\n",
      "\n",
      "university of missouri mizzou\n",
      "0: university of missouri st louis | 1: university of missouri columbia | 2: university of missouri kansas city | "
     ]
    },
    {
     "name": "stdin",
     "output_type": "stream",
     "text": [
      " 0\n"
     ]
    },
    {
     "name": "stdout",
     "output_type": "stream",
     "text": [
      "university of missouri st louis\n",
      "\n",
      "\n",
      "\n",
      "\n",
      "university of missouri st louis umsl\n",
      "0: university of missouri st louis | 1: university of missouri columbia | 2: university of missouri kansas city | "
     ]
    },
    {
     "name": "stdin",
     "output_type": "stream",
     "text": [
      " 0\n"
     ]
    },
    {
     "name": "stdout",
     "output_type": "stream",
     "text": [
      "university of missouri st louis\n",
      "\n",
      "\n",
      "\n",
      "\n",
      "university of montana\n",
      "0: the university of montana | 1: university of vermont | 2: university of maine | "
     ]
    },
    {
     "name": "stdin",
     "output_type": "stream",
     "text": [
      " 0\n"
     ]
    },
    {
     "name": "stdout",
     "output_type": "stream",
     "text": [
      "the university of montana\n",
      "\n",
      "\n",
      "\n",
      "\n",
      "university of montana western umw\n",
      "0: the university of montana western | 1: university of northwestern ohio | 2: university of northwestern st paul | "
     ]
    },
    {
     "name": "stdin",
     "output_type": "stream",
     "text": [
      " 0\n"
     ]
    },
    {
     "name": "stdout",
     "output_type": "stream",
     "text": [
      "the university of montana western\n",
      "\n",
      "\n",
      "\n",
      "\n",
      "university of nebraska lincoln unl\n",
      "0: university of nebraska lincoln | 1: university of nebraska medical center | 2: university of nebraska at kearney | "
     ]
    },
    {
     "name": "stdin",
     "output_type": "stream",
     "text": [
      " 0\n"
     ]
    },
    {
     "name": "stdout",
     "output_type": "stream",
     "text": [
      "university of nebraska lincoln\n",
      "\n",
      "\n",
      "\n",
      "\n",
      "university of nebraska omaha uno\n",
      "0: university of nebraska at omaha | 1: university of nebraska lincoln | 2: university of nebraska at kearney | "
     ]
    },
    {
     "name": "stdin",
     "output_type": "stream",
     "text": [
      " 0\n"
     ]
    },
    {
     "name": "stdout",
     "output_type": "stream",
     "text": [
      "university of nebraska at omaha\n",
      "\n",
      "\n",
      "\n",
      "\n",
      "university of nevada las vegas unlv\n",
      "0: university of nevada las vegas | 1: university of nevada reno | 2: university of new haven | "
     ]
    },
    {
     "name": "stdin",
     "output_type": "stream",
     "text": [
      " 0\n"
     ]
    },
    {
     "name": "stdout",
     "output_type": "stream",
     "text": [
      "university of nevada las vegas\n",
      "\n",
      "\n",
      "\n",
      "\n",
      "university of new hampshire unh\n",
      "0: university of new hampshire at manchester | 1: university of new hampshire main campus | 2: university of new haven | "
     ]
    },
    {
     "name": "stdin",
     "output_type": "stream",
     "text": [
      " 1\n"
     ]
    },
    {
     "name": "stdout",
     "output_type": "stream",
     "text": [
      "university of new hampshire main campus\n",
      "\n",
      "\n",
      "\n",
      "\n",
      "university of new haven unh\n",
      "0: university of new haven | 1: university of new england | 2: university of new orleans | "
     ]
    },
    {
     "name": "stdin",
     "output_type": "stream",
     "text": [
      " 0\n"
     ]
    },
    {
     "name": "stdout",
     "output_type": "stream",
     "text": [
      "university of new haven\n",
      "\n",
      "\n",
      "\n",
      "\n",
      "university of new mexico unm\n",
      "0: university of new mexico gallup campus | 1: university of new mexico taos campus | 2: university of new mexico main campus | "
     ]
    },
    {
     "name": "stdin",
     "output_type": "stream",
     "text": [
      " 2\n"
     ]
    },
    {
     "name": "stdout",
     "output_type": "stream",
     "text": [
      "university of new mexico main campus\n",
      "\n",
      "\n",
      "\n",
      "\n",
      "university of new orleans uno\n",
      "0: university of new orleans | 1: university of new england | 2: university of new haven | "
     ]
    },
    {
     "name": "stdin",
     "output_type": "stream",
     "text": [
      " 0\n"
     ]
    },
    {
     "name": "stdout",
     "output_type": "stream",
     "text": [
      "university of new orleans\n",
      "\n",
      "\n",
      "\n",
      "\n",
      "university of north carolina at chapel hill unc\n",
      "0: university of north carolina at chapel hill | 1: university of north carolina at asheville | 2: university of north carolina at charlotte | "
     ]
    },
    {
     "name": "stdin",
     "output_type": "stream",
     "text": [
      " 0\n"
     ]
    },
    {
     "name": "stdout",
     "output_type": "stream",
     "text": [
      "university of north carolina at chapel hill\n",
      "\n",
      "\n",
      "\n",
      "\n",
      "university of north carolina at charlotte unc charlotte\n",
      "0: university of north carolina at charlotte | 1: university of north carolina at pembroke | 2: university of north carolina at chapel hill | "
     ]
    },
    {
     "name": "stdin",
     "output_type": "stream",
     "text": [
      " 0\n"
     ]
    },
    {
     "name": "stdout",
     "output_type": "stream",
     "text": [
      "university of north carolina at charlotte\n",
      "\n",
      "\n",
      "\n",
      "\n",
      "university of north carolina at greensboro unc greensboro\n",
      "0: university of north carolina at greensboro | 1: university of north carolina at pembroke | 2: university of north carolina at charlotte | "
     ]
    },
    {
     "name": "stdin",
     "output_type": "stream",
     "text": [
      " 0\n"
     ]
    },
    {
     "name": "stdout",
     "output_type": "stream",
     "text": [
      "university of north carolina at greensboro\n",
      "\n",
      "\n",
      "\n",
      "\n",
      "university of north carolina at wilmington unc wilmington\n",
      "0: university of north carolina wilmington | 1: university of north carolina at charlotte | 2: university of north carolina at asheville | "
     ]
    },
    {
     "name": "stdin",
     "output_type": "stream",
     "text": [
      " 0\n"
     ]
    },
    {
     "name": "stdout",
     "output_type": "stream",
     "text": [
      "university of north carolina wilmington\n",
      "\n",
      "\n",
      "\n",
      "\n",
      "university of north carolina school of the arts uncsa\n",
      "0: university of north carolina school of the arts | 1: university of north carolina at charlotte | 2: university of north carolina at greensboro | "
     ]
    },
    {
     "name": "stdin",
     "output_type": "stream",
     "text": [
      " 0\n"
     ]
    },
    {
     "name": "stdout",
     "output_type": "stream",
     "text": [
      "university of north carolina school of the arts\n",
      "\n",
      "\n",
      "\n",
      "\n",
      "university of north dakota und\n",
      "0: university of north dakota | 1: university of south dakota | 2: university of north texas | "
     ]
    },
    {
     "name": "stdin",
     "output_type": "stream",
     "text": [
      " 0\n"
     ]
    },
    {
     "name": "stdout",
     "output_type": "stream",
     "text": [
      "university of north dakota\n",
      "\n",
      "\n",
      "\n",
      "\n",
      "university of north texas unt\n",
      "0: university of north texas | 1: university of north texas at dallas | 2: university of north dakota | "
     ]
    },
    {
     "name": "stdin",
     "output_type": "stream",
     "text": [
      " 0\n"
     ]
    },
    {
     "name": "stdout",
     "output_type": "stream",
     "text": [
      "university of north texas\n",
      "\n",
      "\n",
      "\n",
      "\n",
      "university of northern colorado unc\n",
      "0: university of northern colorado | 1: university of northern iowa | 2: university of north florida | "
     ]
    },
    {
     "name": "stdin",
     "output_type": "stream",
     "text": [
      " 0\n"
     ]
    },
    {
     "name": "stdout",
     "output_type": "stream",
     "text": [
      "university of northern colorado\n",
      "\n",
      "\n",
      "\n",
      "\n",
      "university of oklahoma\n",
      "0: university of central oklahoma | 1: university of idaho | 2: university of toledo | "
     ]
    },
    {
     "name": "stdin",
     "output_type": "stream",
     "text": [
      " \n"
     ]
    },
    {
     "name": "stdout",
     "output_type": "stream",
     "text": [
      "\n",
      "\n",
      "\n",
      "\n",
      "university of pennsylvania upenn\n",
      "0: university of pennsylvania | 1: clarion university of pennsylvania | 2: cheyney university of pennsylvania | "
     ]
    },
    {
     "name": "stdin",
     "output_type": "stream",
     "text": [
      " 0\n"
     ]
    },
    {
     "name": "stdout",
     "output_type": "stream",
     "text": [
      "university of pennsylvania\n",
      "\n",
      "\n",
      "\n",
      "\n",
      "university of pittsburgh pitt\n",
      "0: university of pittsburgh titusville | 1: university of pittsburgh johnstown | 2: university of pittsburgh pittsburgh campus | "
     ]
    },
    {
     "name": "stdin",
     "output_type": "stream",
     "text": [
      " 2\n"
     ]
    },
    {
     "name": "stdout",
     "output_type": "stream",
     "text": [
      "university of pittsburgh pittsburgh campus\n",
      "\n",
      "\n",
      "\n",
      "\n",
      "university of rhode island uri\n",
      "0: university of rhode island | 1: university of redlands | 2: university of the virgin islands | "
     ]
    },
    {
     "name": "stdin",
     "output_type": "stream",
     "text": [
      " 0\n"
     ]
    },
    {
     "name": "stdout",
     "output_type": "stream",
     "text": [
      "university of rhode island\n",
      "\n",
      "\n",
      "\n",
      "\n",
      "university of san diego usd\n",
      "0: university of san diego | 1: university of california san diego | 2: university of st francis | "
     ]
    },
    {
     "name": "stdin",
     "output_type": "stream",
     "text": [
      " 0\n"
     ]
    },
    {
     "name": "stdout",
     "output_type": "stream",
     "text": [
      "university of san diego\n",
      "\n",
      "\n",
      "\n",
      "\n",
      "university of san francisco usf\n",
      "0: university of san francisco | 1: university of st francis | 2: university of saint francis fort wayne | "
     ]
    },
    {
     "name": "stdin",
     "output_type": "stream",
     "text": [
      " 0\n"
     ]
    },
    {
     "name": "stdout",
     "output_type": "stream",
     "text": [
      "university of san francisco\n",
      "\n",
      "\n",
      "\n",
      "\n",
      "university of south alabama south\n",
      "0: university of south alabama | 1: university of north alabama | 2: university of west alabama | "
     ]
    },
    {
     "name": "stdin",
     "output_type": "stream",
     "text": [
      " 0\n"
     ]
    },
    {
     "name": "stdout",
     "output_type": "stream",
     "text": [
      "university of south alabama\n",
      "\n",
      "\n",
      "\n",
      "\n",
      "university of south carolina aiken usc aiken\n",
      "0: university of south carolina aiken | 1: university of south carolina lancaster | 2: university of south carolina upstate | "
     ]
    },
    {
     "name": "stdin",
     "output_type": "stream",
     "text": [
      " 0\n"
     ]
    },
    {
     "name": "stdout",
     "output_type": "stream",
     "text": [
      "university of south carolina aiken\n",
      "\n",
      "\n",
      "\n",
      "\n",
      "university of south carolina upstate usc upstate\n",
      "0: university of south carolina upstate | 1: university of south carolina sumter | 2: university of south carolina salkehatchie | "
     ]
    },
    {
     "name": "stdin",
     "output_type": "stream",
     "text": [
      " 0\n"
     ]
    },
    {
     "name": "stdout",
     "output_type": "stream",
     "text": [
      "university of south carolina upstate\n",
      "\n",
      "\n",
      "\n",
      "\n",
      "university of south carolina usc\n",
      "0: university of south carolina upstate | 1: university of south carolina union | 2: university of south carolina sumter | "
     ]
    },
    {
     "name": "stdin",
     "output_type": "stream",
     "text": [
      " \n"
     ]
    },
    {
     "name": "stdout",
     "output_type": "stream",
     "text": [
      "\n",
      "\n",
      "\n",
      "\n",
      "university of south dakota usd\n",
      "0: university of south dakota | 1: university of north dakota | 2: university of south carolina upstate | "
     ]
    },
    {
     "name": "stdin",
     "output_type": "stream",
     "text": [
      " 0\n"
     ]
    },
    {
     "name": "stdout",
     "output_type": "stream",
     "text": [
      "university of south dakota\n",
      "\n",
      "\n",
      "\n",
      "\n",
      "university of south florida st petersburg\n",
      "0: university of south florida | 1: university of south carolina sumter | 2: university of north florida | "
     ]
    },
    {
     "name": "stdin",
     "output_type": "stream",
     "text": [
      " \n"
     ]
    },
    {
     "name": "stdout",
     "output_type": "stream",
     "text": [
      "\n",
      "\n",
      "\n",
      "\n",
      "university of south florida usf\n",
      "0: university of south florida | 1: university of north florida | 2: nuc university   south florida | "
     ]
    },
    {
     "name": "stdin",
     "output_type": "stream",
     "text": [
      " 0\n"
     ]
    },
    {
     "name": "stdout",
     "output_type": "stream",
     "text": [
      "university of south florida\n",
      "\n",
      "\n",
      "\n",
      "\n",
      "university of southern california usc\n",
      "0: university of southern california | 1: vanguard university of southern california | 2: university of phoenix california | "
     ]
    },
    {
     "name": "stdin",
     "output_type": "stream",
     "text": [
      " 0\n"
     ]
    },
    {
     "name": "stdout",
     "output_type": "stream",
     "text": [
      "university of southern california\n",
      "\n",
      "\n",
      "\n",
      "\n",
      "university of southern indiana usi\n",
      "0: university of southern indiana | 1: university of southern maine | 2: university of southern california | "
     ]
    },
    {
     "name": "stdin",
     "output_type": "stream",
     "text": [
      " 0\n"
     ]
    },
    {
     "name": "stdout",
     "output_type": "stream",
     "text": [
      "university of southern indiana\n",
      "\n",
      "\n",
      "\n",
      "\n",
      "university of southern mississippi southern miss\n",
      "0: university of southern mississippi | 1: university of southern california | 2: university of mississippi | "
     ]
    },
    {
     "name": "stdin",
     "output_type": "stream",
     "text": [
      " 0\n"
     ]
    },
    {
     "name": "stdout",
     "output_type": "stream",
     "text": [
      "university of southern mississippi\n",
      "\n",
      "\n",
      "\n",
      "\n",
      "university of st thomas minnesota\n",
      "0: university of st thomas | 1: university of maine | 2: university of west los angeles | "
     ]
    },
    {
     "name": "stdin",
     "output_type": "stream",
     "text": [
      " 0\n"
     ]
    },
    {
     "name": "stdout",
     "output_type": "stream",
     "text": [
      "university of st thomas\n",
      "\n",
      "\n",
      "\n",
      "\n",
      "university of st thomas texas\n",
      "0: university of st thomas | 1: university of north texas | 2: university of phoenix texas | "
     ]
    },
    {
     "name": "stdin",
     "output_type": "stream",
     "text": [
      " \n"
     ]
    },
    {
     "name": "stdout",
     "output_type": "stream",
     "text": [
      "\n",
      "\n",
      "\n",
      "\n",
      "university of tampa\n",
      "0: the university of tampa | 1: university of utah | 2: university of mary | "
     ]
    },
    {
     "name": "stdin",
     "output_type": "stream",
     "text": [
      " 0\n"
     ]
    },
    {
     "name": "stdout",
     "output_type": "stream",
     "text": [
      "the university of tampa\n",
      "\n",
      "\n",
      "\n",
      "\n",
      "university of tennessee\n",
      "0: devry university tennessee | 1: the university of tennessee martin | 2: university of the west | "
     ]
    },
    {
     "name": "stdin",
     "output_type": "stream",
     "text": [
      " \n"
     ]
    },
    {
     "name": "stdout",
     "output_type": "stream",
     "text": [
      "\n",
      "\n",
      "\n",
      "\n",
      "university of tennessee chattanooga\n",
      "0: the university of tennessee chattanooga | 1: the university of tennessee martin | 2: the university of tennessee knoxville | "
     ]
    },
    {
     "name": "stdin",
     "output_type": "stream",
     "text": [
      " 0\n"
     ]
    },
    {
     "name": "stdout",
     "output_type": "stream",
     "text": [
      "the university of tennessee chattanooga\n",
      "\n",
      "\n",
      "\n",
      "\n",
      "university of tennessee martin\n",
      "0: the university of tennessee martin | 1: the university of tennessee southern | 2: the university of tennessee chattanooga | "
     ]
    },
    {
     "name": "stdin",
     "output_type": "stream",
     "text": [
      " 0\n"
     ]
    },
    {
     "name": "stdout",
     "output_type": "stream",
     "text": [
      "the university of tennessee martin\n",
      "\n",
      "\n",
      "\n",
      "\n",
      "university of texas at arlington ut arlington\n",
      "0: the university of texas at arlington | 1: the university of texas at san antonio | 2: university of maine at farmington | "
     ]
    },
    {
     "name": "stdin",
     "output_type": "stream",
     "text": [
      " 0\n"
     ]
    },
    {
     "name": "stdout",
     "output_type": "stream",
     "text": [
      "the university of texas at arlington\n",
      "\n",
      "\n",
      "\n",
      "\n",
      "university of texas at el paso utep\n",
      "0: the university of texas at el paso | 1: the university of texas at dallas | 2: the university of texas at austin | "
     ]
    },
    {
     "name": "stdin",
     "output_type": "stream",
     "text": [
      " 0\n"
     ]
    },
    {
     "name": "stdout",
     "output_type": "stream",
     "text": [
      "the university of texas at el paso\n",
      "\n",
      "\n",
      "\n",
      "\n",
      "university of texas at san antonio utsa\n",
      "0: the university of texas at san antonio | 1: the university of texas at arlington | 2: the university of texas at dallas | "
     ]
    },
    {
     "name": "stdin",
     "output_type": "stream",
     "text": [
      " 0\n"
     ]
    },
    {
     "name": "stdout",
     "output_type": "stream",
     "text": [
      "the university of texas at san antonio\n",
      "\n",
      "\n",
      "\n",
      "\n",
      "university of texas of the permian basin\n",
      "0: the university of texas permian basin | 1: university of southern maine | 2: the university of texas at austin | "
     ]
    },
    {
     "name": "stdin",
     "output_type": "stream",
     "text": [
      " 0\n"
     ]
    },
    {
     "name": "stdout",
     "output_type": "stream",
     "text": [
      "the university of texas permian basin\n",
      "\n",
      "\n",
      "\n",
      "\n",
      "university of the arts uarts\n",
      "0: the university of the arts | 1: university of the ozarks | 2: university of the west | "
     ]
    },
    {
     "name": "stdin",
     "output_type": "stream",
     "text": [
      " 0\n"
     ]
    },
    {
     "name": "stdout",
     "output_type": "stream",
     "text": [
      "the university of the arts\n",
      "\n",
      "\n",
      "\n",
      "\n",
      "university of virginia college at wise\n",
      "0: university of virginia's college at wise | 1: university of virginia main campus | 2: university of california hastings college of law | "
     ]
    },
    {
     "name": "stdin",
     "output_type": "stream",
     "text": [
      " 0\n"
     ]
    },
    {
     "name": "stdout",
     "output_type": "stream",
     "text": [
      "university of virginia's college at wise\n",
      "\n",
      "\n",
      "\n",
      "\n",
      "university of washington\n",
      "0: university of mary washington | 1: university of scranton | 2: university of dayton | "
     ]
    },
    {
     "name": "stdin",
     "output_type": "stream",
     "text": [
      " \n"
     ]
    },
    {
     "name": "stdout",
     "output_type": "stream",
     "text": [
      "\n",
      "\n",
      "\n",
      "\n",
      "university of west florida uwf\n",
      "0: the university of west florida | 1: university of south florida | 2: university of florida | "
     ]
    },
    {
     "name": "stdin",
     "output_type": "stream",
     "text": [
      " 0\n"
     ]
    },
    {
     "name": "stdout",
     "output_type": "stream",
     "text": [
      "the university of west florida\n",
      "\n",
      "\n",
      "\n",
      "\n",
      "university of west georgia uwg\n",
      "0: university of west georgia | 1: university of georgia | 2: university of north georgia | "
     ]
    },
    {
     "name": "stdin",
     "output_type": "stream",
     "text": [
      " 0\n"
     ]
    },
    {
     "name": "stdout",
     "output_type": "stream",
     "text": [
      "university of west georgia\n",
      "\n",
      "\n",
      "\n",
      "\n",
      "university of wisconsin madison wisconsin\n",
      "0: university of wisconsin madison | 1: university of wisconsin la crosse | 2: university of wisconsin oshkosh | "
     ]
    },
    {
     "name": "stdin",
     "output_type": "stream",
     "text": [
      " 0\n"
     ]
    },
    {
     "name": "stdout",
     "output_type": "stream",
     "text": [
      "university of wisconsin madison\n",
      "\n",
      "\n",
      "\n",
      "\n",
      "university of wisconsin milwaukee uwm\n",
      "0: university of wisconsin milwaukee | 1: university of wisconsin milwaukee flex | 2: university of wisconsin whitewater | "
     ]
    },
    {
     "name": "stdin",
     "output_type": "stream",
     "text": [
      " 0\n"
     ]
    },
    {
     "name": "stdout",
     "output_type": "stream",
     "text": [
      "university of wisconsin milwaukee\n",
      "\n",
      "\n",
      "\n",
      "\n",
      "valparaiso university valpo\n",
      "0: valparaiso university | 1: clarkson university | 2: atlantis university | "
     ]
    },
    {
     "name": "stdin",
     "output_type": "stream",
     "text": [
      " 0\n"
     ]
    },
    {
     "name": "stdout",
     "output_type": "stream",
     "text": [
      "valparaiso university\n",
      "\n",
      "\n",
      "\n",
      "\n",
      "vermilion community college\n",
      "0: elgin community college | 1: meridian community college | 2: wilson community college | "
     ]
    },
    {
     "name": "stdin",
     "output_type": "stream",
     "text": [
      " \n"
     ]
    },
    {
     "name": "stdout",
     "output_type": "stream",
     "text": [
      "\n",
      "\n",
      "\n",
      "\n",
      "virginia tech\n"
     ]
    },
    {
     "name": "stdin",
     "output_type": "stream",
     "text": [
      " \n"
     ]
    },
    {
     "name": "stdout",
     "output_type": "stream",
     "text": [
      "\n",
      "\n",
      "\n",
      "\n",
      "voorhees college\n",
      "0: rhodes college | 1: northwest college | 2: reed college | "
     ]
    },
    {
     "name": "stdin",
     "output_type": "stream",
     "text": [
      " \n"
     ]
    },
    {
     "name": "stdout",
     "output_type": "stream",
     "text": [
      "\n",
      "\n",
      "\n",
      "\n",
      "washington and jefferson college w j\n",
      "0: washington jefferson college | 1: washington barber college inc | 2: washington college | "
     ]
    },
    {
     "name": "stdin",
     "output_type": "stream",
     "text": [
      " 0\n"
     ]
    },
    {
     "name": "stdout",
     "output_type": "stream",
     "text": [
      "washington jefferson college\n",
      "\n",
      "\n",
      "\n",
      "\n",
      "wentworth institute of technology wit\n",
      "0: wentworth institute of technology | 1: new york institute of technology | 2: erie institute of technology inc | "
     ]
    },
    {
     "name": "stdin",
     "output_type": "stream",
     "text": [
      " 0\n"
     ]
    },
    {
     "name": "stdout",
     "output_type": "stream",
     "text": [
      "wentworth institute of technology\n",
      "\n",
      "\n",
      "\n",
      "\n",
      "west chester university wcupa\n",
      "0: west chester university of pennsylvania | 1: west coast university miami | 2: west coast university dallas | "
     ]
    },
    {
     "name": "stdin",
     "output_type": "stream",
     "text": [
      " 0\n"
     ]
    },
    {
     "name": "stdout",
     "output_type": "stream",
     "text": [
      "west chester university of pennsylvania\n",
      "\n",
      "\n",
      "\n",
      "\n",
      "west texas a and m university\n",
      "0: west texas a m university | 1: east texas baptist university | 2: texas health and science university | "
     ]
    },
    {
     "name": "stdin",
     "output_type": "stream",
     "text": [
      " 0\n"
     ]
    },
    {
     "name": "stdout",
     "output_type": "stream",
     "text": [
      "west texas a m university\n",
      "\n",
      "\n",
      "\n",
      "\n",
      "western new england university wne\n",
      "0: western new england university | 1: western new mexico university | 2: western oregon university | "
     ]
    },
    {
     "name": "stdin",
     "output_type": "stream",
     "text": [
      " 0\n"
     ]
    },
    {
     "name": "stdout",
     "output_type": "stream",
     "text": [
      "western new england university\n",
      "\n",
      "\n",
      "\n",
      "\n",
      "westminster college missouri\n",
      "0: westminster college | 1: westmont college | 2: west hills college lemoore | "
     ]
    },
    {
     "name": "stdin",
     "output_type": "stream",
     "text": [
      " \n"
     ]
    },
    {
     "name": "stdout",
     "output_type": "stream",
     "text": [
      "\n",
      "\n",
      "\n",
      "\n",
      "westminster college pennsylvania\n",
      "0: westminster college | 1: york college of pennsylvania | 2: ross college sylvania | "
     ]
    },
    {
     "name": "stdin",
     "output_type": "stream",
     "text": [
      " 0\n"
     ]
    },
    {
     "name": "stdout",
     "output_type": "stream",
     "text": [
      "westminster college\n",
      "\n",
      "\n",
      "\n",
      "\n",
      "westminster university utah\n",
      "0: keiser university tampa | 1: webster university | 2: west liberty university | "
     ]
    },
    {
     "name": "stdin",
     "output_type": "stream",
     "text": [
      " \n"
     ]
    },
    {
     "name": "stdout",
     "output_type": "stream",
     "text": [
      "\n",
      "\n",
      "\n",
      "\n",
      "wheaton college illinois\n",
      "0: wheaton college | 1: hesston college | 2: carrington college boise | "
     ]
    },
    {
     "name": "stdin",
     "output_type": "stream",
     "text": [
      " 0\n"
     ]
    },
    {
     "name": "stdout",
     "output_type": "stream",
     "text": [
      "wheaton college\n",
      "\n",
      "\n",
      "\n",
      "\n",
      "wheaton college massachusetts\n",
      "0: wheaton college (massachusetts) | 1: wheaton college | 2: southeastern college miami lakes | "
     ]
    },
    {
     "name": "stdin",
     "output_type": "stream",
     "text": [
      " 0\n"
     ]
    },
    {
     "name": "stdout",
     "output_type": "stream",
     "text": [
      "wheaton college (massachusetts)\n",
      "\n",
      "\n",
      "\n",
      "\n",
      "wright state university\n",
      "0: wichita state university | 1: weber state university | 2: minot state university | "
     ]
    },
    {
     "name": "stdin",
     "output_type": "stream",
     "text": [
      " \n"
     ]
    },
    {
     "name": "stdout",
     "output_type": "stream",
     "text": [
      "\n",
      "\n",
      "\n",
      "\n",
      "yeshiva d monsey rabbinical college\n",
      "0: yeshiva d'monsey rabbinical college | 1: yeshiva of nitra rabbinical college | 2: yeshivah gedolah rabbinical college | "
     ]
    },
    {
     "name": "stdin",
     "output_type": "stream",
     "text": [
      " 0\n"
     ]
    },
    {
     "name": "stdout",
     "output_type": "stream",
     "text": [
      "yeshiva d'monsey rabbinical college\n",
      "\n",
      "\n",
      "\n",
      "\n",
      "yeshiva gedolah imrei yosef dpinka\n",
      "0: yeshiva gedolah imrei yosef d'spinka | 1: yeshiva gedolah shaarei shmuel | 2: yeshiva gedolah kesser torah | "
     ]
    },
    {
     "name": "stdin",
     "output_type": "stream",
     "text": [
      " 0\n"
     ]
    },
    {
     "name": "stdout",
     "output_type": "stream",
     "text": [
      "yeshiva gedolah imrei yosef d'spinka\n",
      "\n",
      "\n",
      "\n",
      "\n",
      "yeshiva shaar hatorah\n",
      "0: yeshivath shaar hatorah | 1: yeshiva chemdas hatorah | 2: yeshiva shaar ephraim | "
     ]
    },
    {
     "name": "stdin",
     "output_type": "stream",
     "text": [
      " 0\n"
     ]
    },
    {
     "name": "stdout",
     "output_type": "stream",
     "text": [
      "yeshivath shaar hatorah\n",
      "\n",
      "\n",
      "\n",
      "\n",
      "york college\n",
      "0: taylor college | 1: ozarka college | 2: lyon college | "
     ]
    },
    {
     "name": "stdin",
     "output_type": "stream",
     "text": [
      " \n"
     ]
    },
    {
     "name": "stdout",
     "output_type": "stream",
     "text": [
      "\n",
      "\n",
      "\n",
      "\n"
     ]
    }
   ],
   "source": [
    "not_in_gov = []\n",
    "for j in range(len(not_found_list)):\n",
    "    pair = not_found_list[j]\n",
    "    if not pair[1]:\n",
    "        print(pair[0])\n",
    "        temp = difflib.get_close_matches(pair[0], list(gov_dict.keys()))\n",
    "        for i in range(len(temp)):\n",
    "            print(f'{i}: {temp[i]}', end = ' | ')\n",
    "        inp = input()\n",
    "        if inp != '':\n",
    "            print(temp[int(inp)])\n",
    "            not_found_list[j] = (pair[0], temp[int(inp)])\n",
    "        else:\n",
    "            not_in_gov.append(not_found_list[j])\n",
    "        print('\\n'*3)"
   ]
  },
  {
   "cell_type": "code",
   "execution_count": 13,
   "id": "fe2b42cb-65cb-4c05-8e92-5f512e2e2148",
   "metadata": {},
   "outputs": [],
   "source": [
    "file = open('edited_name_list.txt', 'w')\n",
    "for pair in not_found_list:\n",
    "    file.write(str(pair) + '\\n')\n",
    "file.close()"
   ]
  },
  {
   "cell_type": "code",
   "execution_count": 18,
   "id": "a1fbda6a-2233-427b-bf83-e37db322610b",
   "metadata": {},
   "outputs": [
    {
     "data": {
      "text/html": [
       "<div>\n",
       "<style scoped>\n",
       "    .dataframe tbody tr th:only-of-type {\n",
       "        vertical-align: middle;\n",
       "    }\n",
       "\n",
       "    .dataframe tbody tr th {\n",
       "        vertical-align: top;\n",
       "    }\n",
       "\n",
       "    .dataframe thead th {\n",
       "        text-align: right;\n",
       "    }\n",
       "</style>\n",
       "<table border=\"1\" class=\"dataframe\">\n",
       "  <thead>\n",
       "    <tr style=\"text-align: right;\">\n",
       "      <th></th>\n",
       "      <th>Sat Avg</th>\n",
       "      <th>Act Avg</th>\n",
       "      <th>Median 1 Year Salary</th>\n",
       "      <th>Median 4 Year Salary</th>\n",
       "      <th>agriculture</th>\n",
       "      <th>resources</th>\n",
       "      <th>architecture</th>\n",
       "      <th>ethnic_cultural_gender</th>\n",
       "      <th>communication</th>\n",
       "      <th>communications_technology</th>\n",
       "      <th>...</th>\n",
       "      <th>assoc public_administration_social_service</th>\n",
       "      <th>assoc social_science</th>\n",
       "      <th>assoc construction</th>\n",
       "      <th>assoc mechanic_repair_technology</th>\n",
       "      <th>assoc precision_production</th>\n",
       "      <th>assoc transportation</th>\n",
       "      <th>assoc visual_performing</th>\n",
       "      <th>assoc health</th>\n",
       "      <th>assoc business_marketing</th>\n",
       "      <th>assoc history</th>\n",
       "    </tr>\n",
       "  </thead>\n",
       "  <tbody>\n",
       "    <tr>\n",
       "      <th>a better u beauty barber academy</th>\n",
       "      <td>NaN</td>\n",
       "      <td>NaN</td>\n",
       "      <td>NaN</td>\n",
       "      <td>NaN</td>\n",
       "      <td>0.0</td>\n",
       "      <td>0.0000</td>\n",
       "      <td>0.0</td>\n",
       "      <td>0.0000</td>\n",
       "      <td>0.0</td>\n",
       "      <td>0.0000</td>\n",
       "      <td>...</td>\n",
       "      <td>0.0</td>\n",
       "      <td>0.0</td>\n",
       "      <td>0.0</td>\n",
       "      <td>0.0</td>\n",
       "      <td>0.0</td>\n",
       "      <td>0.0</td>\n",
       "      <td>0.0</td>\n",
       "      <td>0.0</td>\n",
       "      <td>0.0</td>\n",
       "      <td>0.0</td>\n",
       "    </tr>\n",
       "    <tr>\n",
       "      <th>a t still university of health sciences</th>\n",
       "      <td>NaN</td>\n",
       "      <td>NaN</td>\n",
       "      <td>73982.0</td>\n",
       "      <td>101684.0</td>\n",
       "      <td>NaN</td>\n",
       "      <td>NaN</td>\n",
       "      <td>NaN</td>\n",
       "      <td>NaN</td>\n",
       "      <td>NaN</td>\n",
       "      <td>NaN</td>\n",
       "      <td>...</td>\n",
       "      <td>0.0</td>\n",
       "      <td>0.0</td>\n",
       "      <td>0.0</td>\n",
       "      <td>0.0</td>\n",
       "      <td>0.0</td>\n",
       "      <td>0.0</td>\n",
       "      <td>0.0</td>\n",
       "      <td>0.0</td>\n",
       "      <td>0.0</td>\n",
       "      <td>0.0</td>\n",
       "    </tr>\n",
       "    <tr>\n",
       "      <th>aaniiih nakoda college</th>\n",
       "      <td>NaN</td>\n",
       "      <td>NaN</td>\n",
       "      <td>24085.0</td>\n",
       "      <td>25808.0</td>\n",
       "      <td>0.0</td>\n",
       "      <td>0.0769</td>\n",
       "      <td>0.0</td>\n",
       "      <td>0.0385</td>\n",
       "      <td>0.0</td>\n",
       "      <td>0.0000</td>\n",
       "      <td>...</td>\n",
       "      <td>1.0</td>\n",
       "      <td>0.0</td>\n",
       "      <td>1.0</td>\n",
       "      <td>0.0</td>\n",
       "      <td>1.0</td>\n",
       "      <td>0.0</td>\n",
       "      <td>0.0</td>\n",
       "      <td>1.0</td>\n",
       "      <td>1.0</td>\n",
       "      <td>0.0</td>\n",
       "    </tr>\n",
       "    <tr>\n",
       "      <th>abc adult school</th>\n",
       "      <td>NaN</td>\n",
       "      <td>NaN</td>\n",
       "      <td>NaN</td>\n",
       "      <td>NaN</td>\n",
       "      <td>0.0</td>\n",
       "      <td>0.0000</td>\n",
       "      <td>0.0</td>\n",
       "      <td>0.0000</td>\n",
       "      <td>0.0</td>\n",
       "      <td>0.0088</td>\n",
       "      <td>...</td>\n",
       "      <td>0.0</td>\n",
       "      <td>0.0</td>\n",
       "      <td>0.0</td>\n",
       "      <td>0.0</td>\n",
       "      <td>0.0</td>\n",
       "      <td>0.0</td>\n",
       "      <td>0.0</td>\n",
       "      <td>0.0</td>\n",
       "      <td>0.0</td>\n",
       "      <td>0.0</td>\n",
       "    </tr>\n",
       "    <tr>\n",
       "      <th>abc adult school   cabrillo lane</th>\n",
       "      <td>NaN</td>\n",
       "      <td>NaN</td>\n",
       "      <td>NaN</td>\n",
       "      <td>NaN</td>\n",
       "      <td>NaN</td>\n",
       "      <td>NaN</td>\n",
       "      <td>NaN</td>\n",
       "      <td>NaN</td>\n",
       "      <td>NaN</td>\n",
       "      <td>NaN</td>\n",
       "      <td>...</td>\n",
       "      <td>NaN</td>\n",
       "      <td>NaN</td>\n",
       "      <td>NaN</td>\n",
       "      <td>NaN</td>\n",
       "      <td>NaN</td>\n",
       "      <td>NaN</td>\n",
       "      <td>NaN</td>\n",
       "      <td>NaN</td>\n",
       "      <td>NaN</td>\n",
       "      <td>NaN</td>\n",
       "    </tr>\n",
       "    <tr>\n",
       "      <th>...</th>\n",
       "      <td>...</td>\n",
       "      <td>...</td>\n",
       "      <td>...</td>\n",
       "      <td>...</td>\n",
       "      <td>...</td>\n",
       "      <td>...</td>\n",
       "      <td>...</td>\n",
       "      <td>...</td>\n",
       "      <td>...</td>\n",
       "      <td>...</td>\n",
       "      <td>...</td>\n",
       "      <td>...</td>\n",
       "      <td>...</td>\n",
       "      <td>...</td>\n",
       "      <td>...</td>\n",
       "      <td>...</td>\n",
       "      <td>...</td>\n",
       "      <td>...</td>\n",
       "      <td>...</td>\n",
       "      <td>...</td>\n",
       "      <td>...</td>\n",
       "    </tr>\n",
       "    <tr>\n",
       "      <th>z hair academy</th>\n",
       "      <td>NaN</td>\n",
       "      <td>NaN</td>\n",
       "      <td>20038.0</td>\n",
       "      <td>25611.0</td>\n",
       "      <td>0.0</td>\n",
       "      <td>0.0000</td>\n",
       "      <td>0.0</td>\n",
       "      <td>0.0000</td>\n",
       "      <td>0.0</td>\n",
       "      <td>0.0000</td>\n",
       "      <td>...</td>\n",
       "      <td>0.0</td>\n",
       "      <td>0.0</td>\n",
       "      <td>0.0</td>\n",
       "      <td>0.0</td>\n",
       "      <td>0.0</td>\n",
       "      <td>0.0</td>\n",
       "      <td>0.0</td>\n",
       "      <td>0.0</td>\n",
       "      <td>0.0</td>\n",
       "      <td>0.0</td>\n",
       "    </tr>\n",
       "    <tr>\n",
       "      <th>zane state college</th>\n",
       "      <td>NaN</td>\n",
       "      <td>NaN</td>\n",
       "      <td>33119.0</td>\n",
       "      <td>33031.0</td>\n",
       "      <td>0.0</td>\n",
       "      <td>0.0235</td>\n",
       "      <td>0.0</td>\n",
       "      <td>0.0000</td>\n",
       "      <td>0.0</td>\n",
       "      <td>0.0000</td>\n",
       "      <td>...</td>\n",
       "      <td>1.0</td>\n",
       "      <td>0.0</td>\n",
       "      <td>1.0</td>\n",
       "      <td>0.0</td>\n",
       "      <td>1.0</td>\n",
       "      <td>0.0</td>\n",
       "      <td>0.0</td>\n",
       "      <td>2.0</td>\n",
       "      <td>2.0</td>\n",
       "      <td>0.0</td>\n",
       "    </tr>\n",
       "    <tr>\n",
       "      <th>zen shiatsu chicago</th>\n",
       "      <td>NaN</td>\n",
       "      <td>NaN</td>\n",
       "      <td>NaN</td>\n",
       "      <td>NaN</td>\n",
       "      <td>0.0</td>\n",
       "      <td>0.0000</td>\n",
       "      <td>0.0</td>\n",
       "      <td>0.0000</td>\n",
       "      <td>0.0</td>\n",
       "      <td>0.0000</td>\n",
       "      <td>...</td>\n",
       "      <td>0.0</td>\n",
       "      <td>0.0</td>\n",
       "      <td>0.0</td>\n",
       "      <td>0.0</td>\n",
       "      <td>0.0</td>\n",
       "      <td>0.0</td>\n",
       "      <td>0.0</td>\n",
       "      <td>0.0</td>\n",
       "      <td>0.0</td>\n",
       "      <td>0.0</td>\n",
       "    </tr>\n",
       "    <tr>\n",
       "      <th>zion massage college</th>\n",
       "      <td>NaN</td>\n",
       "      <td>NaN</td>\n",
       "      <td>NaN</td>\n",
       "      <td>NaN</td>\n",
       "      <td>0.0</td>\n",
       "      <td>0.0000</td>\n",
       "      <td>0.0</td>\n",
       "      <td>0.0000</td>\n",
       "      <td>0.0</td>\n",
       "      <td>0.0000</td>\n",
       "      <td>...</td>\n",
       "      <td>0.0</td>\n",
       "      <td>0.0</td>\n",
       "      <td>0.0</td>\n",
       "      <td>0.0</td>\n",
       "      <td>0.0</td>\n",
       "      <td>0.0</td>\n",
       "      <td>0.0</td>\n",
       "      <td>0.0</td>\n",
       "      <td>0.0</td>\n",
       "      <td>0.0</td>\n",
       "    </tr>\n",
       "    <tr>\n",
       "      <th>zms the academy</th>\n",
       "      <td>NaN</td>\n",
       "      <td>NaN</td>\n",
       "      <td>13261.0</td>\n",
       "      <td>12703.0</td>\n",
       "      <td>0.0</td>\n",
       "      <td>0.0000</td>\n",
       "      <td>0.0</td>\n",
       "      <td>0.0000</td>\n",
       "      <td>0.0</td>\n",
       "      <td>0.0000</td>\n",
       "      <td>...</td>\n",
       "      <td>0.0</td>\n",
       "      <td>0.0</td>\n",
       "      <td>0.0</td>\n",
       "      <td>0.0</td>\n",
       "      <td>0.0</td>\n",
       "      <td>0.0</td>\n",
       "      <td>0.0</td>\n",
       "      <td>0.0</td>\n",
       "      <td>0.0</td>\n",
       "      <td>0.0</td>\n",
       "    </tr>\n",
       "  </tbody>\n",
       "</table>\n",
       "<p>6416 rows × 80 columns</p>\n",
       "</div>"
      ],
      "text/plain": [
       "                                         Sat Avg  Act Avg  \\\n",
       "a better u beauty barber academy             NaN      NaN   \n",
       "a t still university of health sciences      NaN      NaN   \n",
       "aaniiih nakoda college                       NaN      NaN   \n",
       "abc adult school                             NaN      NaN   \n",
       "abc adult school   cabrillo lane             NaN      NaN   \n",
       "...                                          ...      ...   \n",
       "z hair academy                               NaN      NaN   \n",
       "zane state college                           NaN      NaN   \n",
       "zen shiatsu chicago                          NaN      NaN   \n",
       "zion massage college                         NaN      NaN   \n",
       "zms the academy                              NaN      NaN   \n",
       "\n",
       "                                         Median 1 Year Salary  \\\n",
       "a better u beauty barber academy                          NaN   \n",
       "a t still university of health sciences               73982.0   \n",
       "aaniiih nakoda college                                24085.0   \n",
       "abc adult school                                          NaN   \n",
       "abc adult school   cabrillo lane                          NaN   \n",
       "...                                                       ...   \n",
       "z hair academy                                        20038.0   \n",
       "zane state college                                    33119.0   \n",
       "zen shiatsu chicago                                       NaN   \n",
       "zion massage college                                      NaN   \n",
       "zms the academy                                       13261.0   \n",
       "\n",
       "                                         Median 4 Year Salary  agriculture  \\\n",
       "a better u beauty barber academy                          NaN          0.0   \n",
       "a t still university of health sciences              101684.0          NaN   \n",
       "aaniiih nakoda college                                25808.0          0.0   \n",
       "abc adult school                                          NaN          0.0   \n",
       "abc adult school   cabrillo lane                          NaN          NaN   \n",
       "...                                                       ...          ...   \n",
       "z hair academy                                        25611.0          0.0   \n",
       "zane state college                                    33031.0          0.0   \n",
       "zen shiatsu chicago                                       NaN          0.0   \n",
       "zion massage college                                      NaN          0.0   \n",
       "zms the academy                                       12703.0          0.0   \n",
       "\n",
       "                                         resources  architecture  \\\n",
       "a better u beauty barber academy            0.0000           0.0   \n",
       "a t still university of health sciences        NaN           NaN   \n",
       "aaniiih nakoda college                      0.0769           0.0   \n",
       "abc adult school                            0.0000           0.0   \n",
       "abc adult school   cabrillo lane               NaN           NaN   \n",
       "...                                            ...           ...   \n",
       "z hair academy                              0.0000           0.0   \n",
       "zane state college                          0.0235           0.0   \n",
       "zen shiatsu chicago                         0.0000           0.0   \n",
       "zion massage college                        0.0000           0.0   \n",
       "zms the academy                             0.0000           0.0   \n",
       "\n",
       "                                         ethnic_cultural_gender  \\\n",
       "a better u beauty barber academy                         0.0000   \n",
       "a t still university of health sciences                     NaN   \n",
       "aaniiih nakoda college                                   0.0385   \n",
       "abc adult school                                         0.0000   \n",
       "abc adult school   cabrillo lane                            NaN   \n",
       "...                                                         ...   \n",
       "z hair academy                                           0.0000   \n",
       "zane state college                                       0.0000   \n",
       "zen shiatsu chicago                                      0.0000   \n",
       "zion massage college                                     0.0000   \n",
       "zms the academy                                          0.0000   \n",
       "\n",
       "                                         communication  \\\n",
       "a better u beauty barber academy                   0.0   \n",
       "a t still university of health sciences            NaN   \n",
       "aaniiih nakoda college                             0.0   \n",
       "abc adult school                                   0.0   \n",
       "abc adult school   cabrillo lane                   NaN   \n",
       "...                                                ...   \n",
       "z hair academy                                     0.0   \n",
       "zane state college                                 0.0   \n",
       "zen shiatsu chicago                                0.0   \n",
       "zion massage college                               0.0   \n",
       "zms the academy                                    0.0   \n",
       "\n",
       "                                         communications_technology  ...  \\\n",
       "a better u beauty barber academy                            0.0000  ...   \n",
       "a t still university of health sciences                        NaN  ...   \n",
       "aaniiih nakoda college                                      0.0000  ...   \n",
       "abc adult school                                            0.0088  ...   \n",
       "abc adult school   cabrillo lane                               NaN  ...   \n",
       "...                                                            ...  ...   \n",
       "z hair academy                                              0.0000  ...   \n",
       "zane state college                                          0.0000  ...   \n",
       "zen shiatsu chicago                                         0.0000  ...   \n",
       "zion massage college                                        0.0000  ...   \n",
       "zms the academy                                             0.0000  ...   \n",
       "\n",
       "                                         assoc public_administration_social_service  \\\n",
       "a better u beauty barber academy                                                0.0   \n",
       "a t still university of health sciences                                         0.0   \n",
       "aaniiih nakoda college                                                          1.0   \n",
       "abc adult school                                                                0.0   \n",
       "abc adult school   cabrillo lane                                                NaN   \n",
       "...                                                                             ...   \n",
       "z hair academy                                                                  0.0   \n",
       "zane state college                                                              1.0   \n",
       "zen shiatsu chicago                                                             0.0   \n",
       "zion massage college                                                            0.0   \n",
       "zms the academy                                                                 0.0   \n",
       "\n",
       "                                         assoc social_science  \\\n",
       "a better u beauty barber academy                          0.0   \n",
       "a t still university of health sciences                   0.0   \n",
       "aaniiih nakoda college                                    0.0   \n",
       "abc adult school                                          0.0   \n",
       "abc adult school   cabrillo lane                          NaN   \n",
       "...                                                       ...   \n",
       "z hair academy                                            0.0   \n",
       "zane state college                                        0.0   \n",
       "zen shiatsu chicago                                       0.0   \n",
       "zion massage college                                      0.0   \n",
       "zms the academy                                           0.0   \n",
       "\n",
       "                                         assoc construction  \\\n",
       "a better u beauty barber academy                        0.0   \n",
       "a t still university of health sciences                 0.0   \n",
       "aaniiih nakoda college                                  1.0   \n",
       "abc adult school                                        0.0   \n",
       "abc adult school   cabrillo lane                        NaN   \n",
       "...                                                     ...   \n",
       "z hair academy                                          0.0   \n",
       "zane state college                                      1.0   \n",
       "zen shiatsu chicago                                     0.0   \n",
       "zion massage college                                    0.0   \n",
       "zms the academy                                         0.0   \n",
       "\n",
       "                                         assoc mechanic_repair_technology  \\\n",
       "a better u beauty barber academy                                      0.0   \n",
       "a t still university of health sciences                               0.0   \n",
       "aaniiih nakoda college                                                0.0   \n",
       "abc adult school                                                      0.0   \n",
       "abc adult school   cabrillo lane                                      NaN   \n",
       "...                                                                   ...   \n",
       "z hair academy                                                        0.0   \n",
       "zane state college                                                    0.0   \n",
       "zen shiatsu chicago                                                   0.0   \n",
       "zion massage college                                                  0.0   \n",
       "zms the academy                                                       0.0   \n",
       "\n",
       "                                         assoc precision_production  \\\n",
       "a better u beauty barber academy                                0.0   \n",
       "a t still university of health sciences                         0.0   \n",
       "aaniiih nakoda college                                          1.0   \n",
       "abc adult school                                                0.0   \n",
       "abc adult school   cabrillo lane                                NaN   \n",
       "...                                                             ...   \n",
       "z hair academy                                                  0.0   \n",
       "zane state college                                              1.0   \n",
       "zen shiatsu chicago                                             0.0   \n",
       "zion massage college                                            0.0   \n",
       "zms the academy                                                 0.0   \n",
       "\n",
       "                                         assoc transportation  \\\n",
       "a better u beauty barber academy                          0.0   \n",
       "a t still university of health sciences                   0.0   \n",
       "aaniiih nakoda college                                    0.0   \n",
       "abc adult school                                          0.0   \n",
       "abc adult school   cabrillo lane                          NaN   \n",
       "...                                                       ...   \n",
       "z hair academy                                            0.0   \n",
       "zane state college                                        0.0   \n",
       "zen shiatsu chicago                                       0.0   \n",
       "zion massage college                                      0.0   \n",
       "zms the academy                                           0.0   \n",
       "\n",
       "                                         assoc visual_performing  \\\n",
       "a better u beauty barber academy                             0.0   \n",
       "a t still university of health sciences                      0.0   \n",
       "aaniiih nakoda college                                       0.0   \n",
       "abc adult school                                             0.0   \n",
       "abc adult school   cabrillo lane                             NaN   \n",
       "...                                                          ...   \n",
       "z hair academy                                               0.0   \n",
       "zane state college                                           0.0   \n",
       "zen shiatsu chicago                                          0.0   \n",
       "zion massage college                                         0.0   \n",
       "zms the academy                                              0.0   \n",
       "\n",
       "                                         assoc health  \\\n",
       "a better u beauty barber academy                  0.0   \n",
       "a t still university of health sciences           0.0   \n",
       "aaniiih nakoda college                            1.0   \n",
       "abc adult school                                  0.0   \n",
       "abc adult school   cabrillo lane                  NaN   \n",
       "...                                               ...   \n",
       "z hair academy                                    0.0   \n",
       "zane state college                                2.0   \n",
       "zen shiatsu chicago                               0.0   \n",
       "zion massage college                              0.0   \n",
       "zms the academy                                   0.0   \n",
       "\n",
       "                                         assoc business_marketing  \\\n",
       "a better u beauty barber academy                              0.0   \n",
       "a t still university of health sciences                       0.0   \n",
       "aaniiih nakoda college                                        1.0   \n",
       "abc adult school                                              0.0   \n",
       "abc adult school   cabrillo lane                              NaN   \n",
       "...                                                           ...   \n",
       "z hair academy                                                0.0   \n",
       "zane state college                                            2.0   \n",
       "zen shiatsu chicago                                           0.0   \n",
       "zion massage college                                          0.0   \n",
       "zms the academy                                               0.0   \n",
       "\n",
       "                                         assoc history  \n",
       "a better u beauty barber academy                   0.0  \n",
       "a t still university of health sciences            0.0  \n",
       "aaniiih nakoda college                             0.0  \n",
       "abc adult school                                   0.0  \n",
       "abc adult school   cabrillo lane                   NaN  \n",
       "...                                                ...  \n",
       "z hair academy                                     0.0  \n",
       "zane state college                                 0.0  \n",
       "zen shiatsu chicago                                0.0  \n",
       "zion massage college                               0.0  \n",
       "zms the academy                                    0.0  \n",
       "\n",
       "[6416 rows x 80 columns]"
      ]
     },
     "execution_count": 18,
     "metadata": {},
     "output_type": "execute_result"
    }
   ],
   "source": [
    "new_df = pd.DataFrame.from_dict(gov_dict, orient='index')\n",
    "new_df"
   ]
  },
  {
   "cell_type": "code",
   "execution_count": 60,
   "id": "add69a06-89fd-488c-935a-a74981f05128",
   "metadata": {},
   "outputs": [
    {
     "data": {
      "text/plain": [
       "20"
      ]
     },
     "execution_count": 60,
     "metadata": {},
     "output_type": "execute_result"
    }
   ],
   "source": [
    "header = df.columns"
   ]
  },
  {
   "cell_type": "code",
   "execution_count": 76,
   "id": "acb2a825-7dd4-4dde-9fea-88604b3532d2",
   "metadata": {},
   "outputs": [],
   "source": [
    "df.insert(len(header), 'hello', 'a', True)"
   ]
  },
  {
   "cell_type": "code",
   "execution_count": 77,
   "id": "39731f17-1786-4ac7-8209-a9783caa8639",
   "metadata": {},
   "outputs": [],
   "source": [
    "df = df.drop('hello', axis='columns')"
   ]
  },
  {
   "cell_type": "code",
   "execution_count": 78,
   "id": "b942d866-c1eb-43e7-89a7-8644e2fef4d6",
   "metadata": {},
   "outputs": [
    {
     "data": {
      "text/html": [
       "<div>\n",
       "<style scoped>\n",
       "    .dataframe tbody tr th:only-of-type {\n",
       "        vertical-align: middle;\n",
       "    }\n",
       "\n",
       "    .dataframe tbody tr th {\n",
       "        vertical-align: top;\n",
       "    }\n",
       "\n",
       "    .dataframe thead th {\n",
       "        text-align: right;\n",
       "    }\n",
       "</style>\n",
       "<table border=\"1\" class=\"dataframe\">\n",
       "  <thead>\n",
       "    <tr style=\"text-align: right;\">\n",
       "      <th></th>\n",
       "      <th>Name</th>\n",
       "      <th>Address</th>\n",
       "      <th>Geo Location</th>\n",
       "      <th>in state</th>\n",
       "      <th>out of state</th>\n",
       "      <th>First Year Students</th>\n",
       "      <th>Acceptance Rate (T/F/M)</th>\n",
       "      <th>Total Applicants</th>\n",
       "      <th>Applicants Stats (F/M)</th>\n",
       "      <th>Percent Accepted that Attend</th>\n",
       "      <th>Sex</th>\n",
       "      <th>Percent (F/M)</th>\n",
       "      <th>Retention</th>\n",
       "      <th>International Students</th>\n",
       "      <th>Asian and Pacific Islander</th>\n",
       "      <th>Black</th>\n",
       "      <th>Hispanic</th>\n",
       "      <th>Native American</th>\n",
       "      <th>Other</th>\n",
       "      <th>White</th>\n",
       "    </tr>\n",
       "  </thead>\n",
       "  <tbody>\n",
       "    <tr>\n",
       "      <th>0</th>\n",
       "      <td>aaniiih nakoda college</td>\n",
       "      <td>269 Blackfeet Avenue Harlem MT 59526</td>\n",
       "      <td>(48.48461 -108.75933)</td>\n",
       "      <td>$2410</td>\n",
       "      <td>$2410</td>\n",
       "      <td>18.0</td>\n",
       "      <td>NaN</td>\n",
       "      <td>NaN</td>\n",
       "      <td>NaN</td>\n",
       "      <td>NaN</td>\n",
       "      <td>Co-ed</td>\n",
       "      <td>('n/a' 'n/a')</td>\n",
       "      <td>67%</td>\n",
       "      <td>0%</td>\n",
       "      <td>&amp;lt; 1%</td>\n",
       "      <td>&amp;lt; 1%</td>\n",
       "      <td>&amp;lt; 1%</td>\n",
       "      <td>87%</td>\n",
       "      <td>&amp;lt; 1%</td>\n",
       "      <td>13%</td>\n",
       "    </tr>\n",
       "    <tr>\n",
       "      <th>1</th>\n",
       "      <td>abilene christian university</td>\n",
       "      <td>1600 Campus Ct Abilene TX 79699</td>\n",
       "      <td>(32.46678 -99.70893)</td>\n",
       "      <td>$50978</td>\n",
       "      <td>$50978</td>\n",
       "      <td>833.0</td>\n",
       "      <td>('70%' '71%' '66%')</td>\n",
       "      <td>8208.0</td>\n",
       "      <td>('65%' '35%')</td>\n",
       "      <td>14%</td>\n",
       "      <td>Co-ed</td>\n",
       "      <td>('62%' '38%')</td>\n",
       "      <td>77%</td>\n",
       "      <td>4%</td>\n",
       "      <td>1%</td>\n",
       "      <td>9%</td>\n",
       "      <td>18%</td>\n",
       "      <td>&amp;lt; 1%</td>\n",
       "      <td>6%</td>\n",
       "      <td>66%</td>\n",
       "    </tr>\n",
       "    <tr>\n",
       "      <th>2</th>\n",
       "      <td>abraham baldwin agricultural college</td>\n",
       "      <td>2802 Moore Hwy Tifton GA 31793</td>\n",
       "      <td>(31.47547 -83.52372)</td>\n",
       "      <td>$11527</td>\n",
       "      <td>$18433</td>\n",
       "      <td>865.0</td>\n",
       "      <td>('76%' '73%' '78%')</td>\n",
       "      <td>2190.0</td>\n",
       "      <td>('61%' '39%')</td>\n",
       "      <td>52%</td>\n",
       "      <td>Co-ed</td>\n",
       "      <td>('56%' '44%')</td>\n",
       "      <td>64%</td>\n",
       "      <td>1%</td>\n",
       "      <td>1%</td>\n",
       "      <td>21%</td>\n",
       "      <td>5%</td>\n",
       "      <td>&amp;lt; 1%</td>\n",
       "      <td>1%</td>\n",
       "      <td>71%</td>\n",
       "    </tr>\n",
       "    <tr>\n",
       "      <th>3</th>\n",
       "      <td>academy college</td>\n",
       "      <td>1600 W. 82nd Street Suite 100 Bloomington MN 5...</td>\n",
       "      <td>(44.85602 -93.2996)</td>\n",
       "      <td>$18644</td>\n",
       "      <td>$18644</td>\n",
       "      <td>16.0</td>\n",
       "      <td>NaN</td>\n",
       "      <td>NaN</td>\n",
       "      <td>NaN</td>\n",
       "      <td>NaN</td>\n",
       "      <td>Co-ed</td>\n",
       "      <td>('n/a' 'n/a')</td>\n",
       "      <td>100%</td>\n",
       "      <td>0%</td>\n",
       "      <td>4%</td>\n",
       "      <td>1%</td>\n",
       "      <td>2%</td>\n",
       "      <td>2%</td>\n",
       "      <td>33%</td>\n",
       "      <td>58%</td>\n",
       "    </tr>\n",
       "    <tr>\n",
       "      <th>4</th>\n",
       "      <td>academy of art university</td>\n",
       "      <td>79 New Montgomery San Francisco CA 94105</td>\n",
       "      <td>(37.78781 -122.40092)</td>\n",
       "      <td>$44910</td>\n",
       "      <td>$44910</td>\n",
       "      <td>281.0</td>\n",
       "      <td>NaN</td>\n",
       "      <td>NaN</td>\n",
       "      <td>NaN</td>\n",
       "      <td>NaN</td>\n",
       "      <td>Co-ed</td>\n",
       "      <td>('n/a' 'n/a')</td>\n",
       "      <td>69%</td>\n",
       "      <td>24%</td>\n",
       "      <td>7%</td>\n",
       "      <td>12%</td>\n",
       "      <td>16%</td>\n",
       "      <td>1%</td>\n",
       "      <td>36%</td>\n",
       "      <td>27%</td>\n",
       "    </tr>\n",
       "    <tr>\n",
       "      <th>...</th>\n",
       "      <td>...</td>\n",
       "      <td>...</td>\n",
       "      <td>...</td>\n",
       "      <td>...</td>\n",
       "      <td>...</td>\n",
       "      <td>...</td>\n",
       "      <td>...</td>\n",
       "      <td>...</td>\n",
       "      <td>...</td>\n",
       "      <td>...</td>\n",
       "      <td>...</td>\n",
       "      <td>...</td>\n",
       "      <td>...</td>\n",
       "      <td>...</td>\n",
       "      <td>...</td>\n",
       "      <td>...</td>\n",
       "      <td>...</td>\n",
       "      <td>...</td>\n",
       "      <td>...</td>\n",
       "      <td>...</td>\n",
       "    </tr>\n",
       "    <tr>\n",
       "      <th>2894</th>\n",
       "      <td>york technical college</td>\n",
       "      <td>452 S Anderson Rd Rock Hill SC 29730</td>\n",
       "      <td>(34.93594 -80.99659)</td>\n",
       "      <td>$5410</td>\n",
       "      <td>$10354</td>\n",
       "      <td>615.0</td>\n",
       "      <td>NaN</td>\n",
       "      <td>NaN</td>\n",
       "      <td>NaN</td>\n",
       "      <td>NaN</td>\n",
       "      <td>Co-ed</td>\n",
       "      <td>('n/a' 'n/a')</td>\n",
       "      <td>57%</td>\n",
       "      <td>0%</td>\n",
       "      <td>2%</td>\n",
       "      <td>22%</td>\n",
       "      <td>9%</td>\n",
       "      <td>1%</td>\n",
       "      <td>8%</td>\n",
       "      <td>58%</td>\n",
       "    </tr>\n",
       "    <tr>\n",
       "      <th>2895</th>\n",
       "      <td>young harris college</td>\n",
       "      <td>1 College Street Young Harris GA 30582</td>\n",
       "      <td>(34.9333 -83.84719)</td>\n",
       "      <td>$41664</td>\n",
       "      <td>$41664</td>\n",
       "      <td>304.0</td>\n",
       "      <td>('75%' '79%' '69%')</td>\n",
       "      <td>1850.0</td>\n",
       "      <td>('57%' '43%')</td>\n",
       "      <td>22%</td>\n",
       "      <td>Co-ed</td>\n",
       "      <td>('50%' '50%')</td>\n",
       "      <td>76%</td>\n",
       "      <td>6%</td>\n",
       "      <td>1%</td>\n",
       "      <td>7%</td>\n",
       "      <td>4%</td>\n",
       "      <td>&amp;lt; 1%</td>\n",
       "      <td>17%</td>\n",
       "      <td>70%</td>\n",
       "    </tr>\n",
       "    <tr>\n",
       "      <th>2896</th>\n",
       "      <td>youngstown state university</td>\n",
       "      <td>One University Plaza Youngstown OH 44555</td>\n",
       "      <td>(41.10664 -80.64647)</td>\n",
       "      <td>$19796</td>\n",
       "      <td>$20156</td>\n",
       "      <td>1627.0</td>\n",
       "      <td>('78%' '78%' '77%')</td>\n",
       "      <td>6718.0</td>\n",
       "      <td>('60%' '40%')</td>\n",
       "      <td>31%</td>\n",
       "      <td>Co-ed</td>\n",
       "      <td>('54%' '46%')</td>\n",
       "      <td>76%</td>\n",
       "      <td>3%</td>\n",
       "      <td>1%</td>\n",
       "      <td>11%</td>\n",
       "      <td>4%</td>\n",
       "      <td>&amp;lt; 1%</td>\n",
       "      <td>8%</td>\n",
       "      <td>76%</td>\n",
       "    </tr>\n",
       "    <tr>\n",
       "      <th>2897</th>\n",
       "      <td>yuba college</td>\n",
       "      <td>2088 N Beale Rd Marysville CA 95901</td>\n",
       "      <td>(39.12804 -121.5397)</td>\n",
       "      <td>$1128</td>\n",
       "      <td>$7488</td>\n",
       "      <td>311.0</td>\n",
       "      <td>NaN</td>\n",
       "      <td>NaN</td>\n",
       "      <td>NaN</td>\n",
       "      <td>NaN</td>\n",
       "      <td>Co-ed</td>\n",
       "      <td>('n/a' 'n/a')</td>\n",
       "      <td>38%</td>\n",
       "      <td>0%</td>\n",
       "      <td>17%</td>\n",
       "      <td>3%</td>\n",
       "      <td>39%</td>\n",
       "      <td>1%</td>\n",
       "      <td>10%</td>\n",
       "      <td>30%</td>\n",
       "    </tr>\n",
       "    <tr>\n",
       "      <th>2898</th>\n",
       "      <td>zane state college</td>\n",
       "      <td>1555 Newark Rd Zanesville OH 43701-2626</td>\n",
       "      <td>(39.96116 -82.03369)</td>\n",
       "      <td>$5556</td>\n",
       "      <td>$10866</td>\n",
       "      <td>192.0</td>\n",
       "      <td>NaN</td>\n",
       "      <td>NaN</td>\n",
       "      <td>NaN</td>\n",
       "      <td>NaN</td>\n",
       "      <td>Co-ed</td>\n",
       "      <td>('n/a' 'n/a')</td>\n",
       "      <td>NaN</td>\n",
       "      <td>NaN</td>\n",
       "      <td>NaN</td>\n",
       "      <td>NaN</td>\n",
       "      <td>NaN</td>\n",
       "      <td>NaN</td>\n",
       "      <td>NaN</td>\n",
       "      <td>NaN</td>\n",
       "    </tr>\n",
       "  </tbody>\n",
       "</table>\n",
       "<p>2899 rows × 20 columns</p>\n",
       "</div>"
      ],
      "text/plain": [
       "                                      Name  \\\n",
       "0                   aaniiih nakoda college   \n",
       "1             abilene christian university   \n",
       "2     abraham baldwin agricultural college   \n",
       "3                          academy college   \n",
       "4                academy of art university   \n",
       "...                                    ...   \n",
       "2894                york technical college   \n",
       "2895                  young harris college   \n",
       "2896           youngstown state university   \n",
       "2897                          yuba college   \n",
       "2898                    zane state college   \n",
       "\n",
       "                                                Address  \\\n",
       "0                  269 Blackfeet Avenue Harlem MT 59526   \n",
       "1                       1600 Campus Ct Abilene TX 79699   \n",
       "2                        2802 Moore Hwy Tifton GA 31793   \n",
       "3     1600 W. 82nd Street Suite 100 Bloomington MN 5...   \n",
       "4              79 New Montgomery San Francisco CA 94105   \n",
       "...                                                 ...   \n",
       "2894               452 S Anderson Rd Rock Hill SC 29730   \n",
       "2895             1 College Street Young Harris GA 30582   \n",
       "2896           One University Plaza Youngstown OH 44555   \n",
       "2897                2088 N Beale Rd Marysville CA 95901   \n",
       "2898            1555 Newark Rd Zanesville OH 43701-2626   \n",
       "\n",
       "               Geo Location in state out of state  First Year Students  \\\n",
       "0     (48.48461 -108.75933)    $2410        $2410                 18.0   \n",
       "1      (32.46678 -99.70893)   $50978       $50978                833.0   \n",
       "2      (31.47547 -83.52372)   $11527       $18433                865.0   \n",
       "3       (44.85602 -93.2996)   $18644       $18644                 16.0   \n",
       "4     (37.78781 -122.40092)   $44910       $44910                281.0   \n",
       "...                     ...      ...          ...                  ...   \n",
       "2894   (34.93594 -80.99659)    $5410       $10354                615.0   \n",
       "2895    (34.9333 -83.84719)   $41664       $41664                304.0   \n",
       "2896   (41.10664 -80.64647)   $19796       $20156               1627.0   \n",
       "2897   (39.12804 -121.5397)    $1128        $7488                311.0   \n",
       "2898   (39.96116 -82.03369)    $5556       $10866                192.0   \n",
       "\n",
       "     Acceptance Rate (T/F/M)  Total Applicants Applicants Stats (F/M)  \\\n",
       "0                        NaN               NaN                    NaN   \n",
       "1        ('70%' '71%' '66%')            8208.0          ('65%' '35%')   \n",
       "2        ('76%' '73%' '78%')            2190.0          ('61%' '39%')   \n",
       "3                        NaN               NaN                    NaN   \n",
       "4                        NaN               NaN                    NaN   \n",
       "...                      ...               ...                    ...   \n",
       "2894                     NaN               NaN                    NaN   \n",
       "2895     ('75%' '79%' '69%')            1850.0          ('57%' '43%')   \n",
       "2896     ('78%' '78%' '77%')            6718.0          ('60%' '40%')   \n",
       "2897                     NaN               NaN                    NaN   \n",
       "2898                     NaN               NaN                    NaN   \n",
       "\n",
       "     Percent Accepted that Attend    Sex  Percent (F/M) Retention  \\\n",
       "0                             NaN  Co-ed  ('n/a' 'n/a')       67%   \n",
       "1                             14%  Co-ed  ('62%' '38%')       77%   \n",
       "2                             52%  Co-ed  ('56%' '44%')       64%   \n",
       "3                             NaN  Co-ed  ('n/a' 'n/a')      100%   \n",
       "4                             NaN  Co-ed  ('n/a' 'n/a')       69%   \n",
       "...                           ...    ...            ...       ...   \n",
       "2894                          NaN  Co-ed  ('n/a' 'n/a')       57%   \n",
       "2895                          22%  Co-ed  ('50%' '50%')       76%   \n",
       "2896                          31%  Co-ed  ('54%' '46%')       76%   \n",
       "2897                          NaN  Co-ed  ('n/a' 'n/a')       38%   \n",
       "2898                          NaN  Co-ed  ('n/a' 'n/a')       NaN   \n",
       "\n",
       "     International Students Asian and Pacific Islander    Black Hispanic  \\\n",
       "0                        0%                    &lt; 1%  &lt; 1%  &lt; 1%   \n",
       "1                        4%                         1%       9%      18%   \n",
       "2                        1%                         1%      21%       5%   \n",
       "3                        0%                         4%       1%       2%   \n",
       "4                       24%                         7%      12%      16%   \n",
       "...                     ...                        ...      ...      ...   \n",
       "2894                     0%                         2%      22%       9%   \n",
       "2895                     6%                         1%       7%       4%   \n",
       "2896                     3%                         1%      11%       4%   \n",
       "2897                     0%                        17%       3%      39%   \n",
       "2898                    NaN                        NaN      NaN      NaN   \n",
       "\n",
       "     Native American    Other White  \n",
       "0                87%  &lt; 1%   13%  \n",
       "1            &lt; 1%       6%   66%  \n",
       "2            &lt; 1%       1%   71%  \n",
       "3                 2%      33%   58%  \n",
       "4                 1%      36%   27%  \n",
       "...              ...      ...   ...  \n",
       "2894              1%       8%   58%  \n",
       "2895         &lt; 1%      17%   70%  \n",
       "2896         &lt; 1%       8%   76%  \n",
       "2897              1%      10%   30%  \n",
       "2898             NaN      NaN   NaN  \n",
       "\n",
       "[2899 rows x 20 columns]"
      ]
     },
     "execution_count": 78,
     "metadata": {},
     "output_type": "execute_result"
    }
   ],
   "source": [
    "df"
   ]
  },
  {
   "cell_type": "code",
   "execution_count": null,
   "id": "eb40f026-4ed8-4231-a864-83863cbc85a0",
   "metadata": {},
   "outputs": [],
   "source": []
  }
 ],
 "metadata": {
  "kernelspec": {
   "display_name": "Python 3 (ipykernel)",
   "language": "python",
   "name": "python3"
  },
  "language_info": {
   "codemirror_mode": {
    "name": "ipython",
    "version": 3
   },
   "file_extension": ".py",
   "mimetype": "text/x-python",
   "name": "python",
   "nbconvert_exporter": "python",
   "pygments_lexer": "ipython3",
   "version": "3.12.0"
  }
 },
 "nbformat": 4,
 "nbformat_minor": 5
}
