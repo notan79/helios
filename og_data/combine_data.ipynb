{
 "cells": [
  {
   "cell_type": "code",
   "execution_count": 3,
   "id": "f5b8722c-94cc-4eed-ac51-ec9c481f966e",
   "metadata": {},
   "outputs": [],
   "source": [
    "import os"
   ]
  },
  {
   "cell_type": "code",
   "execution_count": 18,
   "id": "45466518-d0ce-4ec3-86a7-f40bd2d054c2",
   "metadata": {},
   "outputs": [],
   "source": [
    "file_names = ['info.csv', 'info2.csv', 'info3.csv', 'info4.csv', 'info5.csv']\n",
    "MAIN = 'all_data.csv'\n",
    "os.remove(MAIN)\n",
    "m = open(MAIN, 'w')\n",
    "f = open(file_names[0])\n",
    "header = f.readline()\n",
    "m.write(header)\n",
    "f.close()\n",
    "for file in file_names:\n",
    "    f = open(file, 'r')\n",
    "    for line in f:\n",
    "        if line.split(',')[1] != 'Address':\n",
    "            if 'holy names' in line.split(',')[0]:\n",
    "                arr = line.split(',')\n",
    "                arr[0] = 'holy names university'\n",
    "                line = ','.join(arr)\n",
    "            m.write(line)\n",
    "    f.close()\n",
    "m.close()"
   ]
  },
  {
   "cell_type": "code",
   "execution_count": null,
   "id": "2a561671-f4f7-45d5-a2f9-47154a0d3a10",
   "metadata": {},
   "outputs": [],
   "source": []
  }
 ],
 "metadata": {
  "kernelspec": {
   "display_name": "Python 3 (ipykernel)",
   "language": "python",
   "name": "python3"
  },
  "language_info": {
   "codemirror_mode": {
    "name": "ipython",
    "version": 3
   },
   "file_extension": ".py",
   "mimetype": "text/x-python",
   "name": "python",
   "nbconvert_exporter": "python",
   "pygments_lexer": "ipython3",
   "version": "3.12.0"
  }
 },
 "nbformat": 4,
 "nbformat_minor": 5
}
