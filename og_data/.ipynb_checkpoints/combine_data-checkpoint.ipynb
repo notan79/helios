{
 "cells": [
  {
   "cell_type": "code",
   "execution_count": 2,
   "id": "f5b8722c-94cc-4eed-ac51-ec9c481f966e",
   "metadata": {},
   "outputs": [],
   "source": [
    "file_names = ['info.csv', 'info2.csv', 'info3.csv', 'info4.csv', 'info5.csv']\n",
    "MAIN = 'all_data.csv'\n",
    "\n",
    "m = open(MAIN, 'w')\n",
    "\n",
    "for file in file_names:\n",
    "    f = open(file, 'r')\n",
    "    for line in f:\n",
    "        m.write(line)\n",
    "m.close()"
   ]
  },
  {
   "cell_type": "code",
   "execution_count": null,
   "id": "45466518-d0ce-4ec3-86a7-f40bd2d054c2",
   "metadata": {},
   "outputs": [],
   "source": [
    "file_names = ['info.csv', 'info2.csv', 'info3.csv', 'info4.csv', 'info5.csv']\n",
    "MAIN = 'all_data.csv'\n",
    "\n",
    "m = open(MAIN, 'w')\n",
    "\n",
    "for file in file_names:\n",
    "    f = open(file, 'r')\n",
    "    for line in f:\n",
    "        m.write(line)\n",
    "m.close()"
   ]
  }
 ],
 "metadata": {
  "kernelspec": {
   "display_name": "Python 3 (ipykernel)",
   "language": "python",
   "name": "python3"
  },
  "language_info": {
   "codemirror_mode": {
    "name": "ipython",
    "version": 3
   },
   "file_extension": ".py",
   "mimetype": "text/x-python",
   "name": "python",
   "nbconvert_exporter": "python",
   "pygments_lexer": "ipython3",
   "version": "3.12.0"
  }
 },
 "nbformat": 4,
 "nbformat_minor": 5
}
